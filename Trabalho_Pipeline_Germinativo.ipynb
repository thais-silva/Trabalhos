{
  "nbformat": 4,
  "nbformat_minor": 0,
  "metadata": {
    "colab": {
      "name": "Trabalho_Pipeline_Germinativo.ipynb",
      "provenance": [],
      "collapsed_sections": [],
      "include_colab_link": true
    },
    "kernelspec": {
      "name": "python3",
      "display_name": "Python 3"
    },
    "language_info": {
      "name": "python"
    }
  },
  "cells": [
    {
      "cell_type": "markdown",
      "metadata": {
        "id": "view-in-github",
        "colab_type": "text"
      },
      "source": [
        "<a href=\"https://colab.research.google.com/github/thais-silva/Trabalhos/blob/main/Trabalho_Pipeline_Germinativo.ipynb\" target=\"_parent\"><img src=\"https://colab.research.google.com/assets/colab-badge.svg\" alt=\"Open In Colab\"/></a>"
      ]
    },
    {
      "cell_type": "markdown",
      "source": [
        "**`*Formatação do arquivo txt e salvar com extensão avinput*`**\n",
        "---\n",
        "\n"
      ],
      "metadata": {
        "id": "LyF3QvNRBjSx"
      }
    },
    {
      "cell_type": "code",
      "source": [
        "from google.colab import drive\n",
        "drive.mount('/content/drive')"
      ],
      "metadata": {
        "colab": {
          "base_uri": "https://localhost:8080/"
        },
        "id": "LxCiqeSDTaoo",
        "outputId": "55ac5e14-e47f-4277-d3d4-9b0c794e4e1f"
      },
      "execution_count": 2,
      "outputs": [
        {
          "output_type": "stream",
          "name": "stdout",
          "text": [
            "Drive already mounted at /content/drive; to attempt to forcibly remount, call drive.mount(\"/content/drive\", force_remount=True).\n"
          ]
        }
      ]
    },
    {
      "cell_type": "code",
      "source": [
        "mkdir /content/germinativas"
      ],
      "metadata": {
        "id": "OkHI8zh0HUkp"
      },
      "execution_count": 3,
      "outputs": []
    },
    {
      "cell_type": "code",
      "source": [
        "cd /content/germinativas"
      ],
      "metadata": {
        "colab": {
          "base_uri": "https://localhost:8080/"
        },
        "id": "BtIeEOMMJslG",
        "outputId": "b5b7d17f-17f0-4352-c251-39eb03422897"
      },
      "execution_count": 4,
      "outputs": [
        {
          "output_type": "stream",
          "name": "stdout",
          "text": [
            "/content/germinativas\n"
          ]
        }
      ]
    },
    {
      "cell_type": "code",
      "source": [
        "pwd"
      ],
      "metadata": {
        "colab": {
          "base_uri": "https://localhost:8080/",
          "height": 35
        },
        "id": "RO7rDM9yIQjM",
        "outputId": "b9262ee9-c195-4207-f0a5-50bef589a2e8"
      },
      "execution_count": 5,
      "outputs": [
        {
          "output_type": "execute_result",
          "data": {
            "text/plain": [
              "'/content/germinativas'"
            ],
            "application/vnd.google.colaboratory.intrinsic+json": {
              "type": "string"
            }
          },
          "metadata": {},
          "execution_count": 5
        }
      ]
    },
    {
      "cell_type": "code",
      "source": [
        "with open('/content/drive/Shareddrives/T3-2021/Thais_Alves/Trabalho_Germinativas/Variantes_germinativas_variants.txt','r') as file:\n",
        "  for line in file.readlines():\n",
        "    colunas = line.split()\n",
        "    \n",
        "    if not 'POS' in colunas[1]:\n",
        "      colunas[0] = colunas[0][3:]\n",
        "      for n in colunas[2]:\n",
        "        x = colunas[1]\n",
        "        n = (int(x) + len(colunas[4]) - 1)\n",
        "        colunas[2] = str(n)\n",
        "        variantes = open('variante1.avinput','a',1,None,None,'')\n",
        "        variantes.write(f'{colunas[0]} {colunas[1]} {colunas[2]} {colunas[3]} {colunas[4]}\\n')\n",
        "        \n",
        "       \n",
        "variantes.close()\n",
        "     "
      ],
      "metadata": {
        "id": "n5CAsQrfKff9"
      },
      "execution_count": 6,
      "outputs": []
    },
    {
      "cell_type": "code",
      "source": [
        "!head /content/germinativas/variante1.avinput"
      ],
      "metadata": {
        "colab": {
          "base_uri": "https://localhost:8080/"
        },
        "id": "QoxZpMtWDjFc",
        "outputId": "561aeb29-cd5c-4427-d75a-c467928bd850"
      },
      "execution_count": 7,
      "outputs": [
        {
          "output_type": "stream",
          "name": "stdout",
          "text": [
            "1 94049574 94049574 C A\n",
            "10 114910883 114910883 G A\n",
            "12 116418553 116418554 A AC\n",
            "9 14150143 14150143 C T\n",
            "11 66254814 66254814 G A\n",
            "10 114901076 114901076 G A\n",
            "14 93286182 93286182 G C\n",
            "18 44603833 44603833 G C\n",
            "2 32168370 32168370 C T\n",
            "10 68535201 68535201 C A\n"
          ]
        }
      ]
    },
    {
      "cell_type": "markdown",
      "source": [
        "**`*Anotação de Variantes*`**\n",
        "---\n",
        "\n"
      ],
      "metadata": {
        "id": "F969kxoJCAt-"
      }
    },
    {
      "cell_type": "markdown",
      "source": [
        "Dowload do ANNOVAR\n",
        "\n",
        "---\n",
        "\n"
      ],
      "metadata": {
        "id": "s1V8ybM6CWDy"
      }
    },
    {
      "cell_type": "code",
      "source": [
        "!wget https://github.com/Varstation/POS-BIOINFO/raw/master/annovar/annovar.zip"
      ],
      "metadata": {
        "colab": {
          "base_uri": "https://localhost:8080/"
        },
        "id": "xaZUJ5SxCN6H",
        "outputId": "a63b353c-a576-4c37-eb16-59dd0f4525f4"
      },
      "execution_count": 8,
      "outputs": [
        {
          "output_type": "stream",
          "name": "stdout",
          "text": [
            "--2022-04-12 19:45:38--  https://github.com/Varstation/POS-BIOINFO/raw/master/annovar/annovar.zip\n",
            "Resolving github.com (github.com)... 140.82.114.3\n",
            "Connecting to github.com (github.com)|140.82.114.3|:443... connected.\n",
            "HTTP request sent, awaiting response... 302 Found\n",
            "Location: https://raw.githubusercontent.com/Varstation/POS-BIOINFO/master/annovar/annovar.zip [following]\n",
            "--2022-04-12 19:45:38--  https://raw.githubusercontent.com/Varstation/POS-BIOINFO/master/annovar/annovar.zip\n",
            "Resolving raw.githubusercontent.com (raw.githubusercontent.com)... 185.199.108.133, 185.199.109.133, 185.199.110.133, ...\n",
            "Connecting to raw.githubusercontent.com (raw.githubusercontent.com)|185.199.108.133|:443... connected.\n",
            "HTTP request sent, awaiting response... 200 OK\n",
            "Length: 5281524 (5.0M) [application/zip]\n",
            "Saving to: ‘annovar.zip’\n",
            "\n",
            "annovar.zip         100%[===================>]   5.04M  --.-KB/s    in 0.08s   \n",
            "\n",
            "2022-04-12 19:45:38 (62.5 MB/s) - ‘annovar.zip’ saved [5281524/5281524]\n",
            "\n"
          ]
        }
      ]
    },
    {
      "cell_type": "markdown",
      "source": [
        "Descompactação do ANNOVAR\n",
        "\n",
        "---\n",
        "\n"
      ],
      "metadata": {
        "id": "_XsOs6c7Ca10"
      }
    },
    {
      "cell_type": "code",
      "source": [
        "%%bash\n",
        "unzip annovar.zip\n",
        "rm annovar.zip"
      ],
      "metadata": {
        "colab": {
          "base_uri": "https://localhost:8080/"
        },
        "id": "-5RfbNRZCgLh",
        "outputId": "f5988b76-1734-4544-8058-df907ad747ec"
      },
      "execution_count": 9,
      "outputs": [
        {
          "output_type": "stream",
          "name": "stdout",
          "text": [
            "Archive:  annovar.zip\n",
            "   creating: annovar/\n",
            "  inflating: __MACOSX/._annovar      \n",
            "  inflating: annovar/coding_change.pl  \n",
            "  inflating: annovar/variants_reduction.pl  \n",
            "  inflating: annovar/retrieve_seq_from_fasta.pl  \n",
            "  inflating: annovar/annotate_variation.pl  \n",
            "   creating: annovar/example/\n",
            "  inflating: annovar/convert2annovar.pl  \n",
            "  inflating: annovar/table_annovar.pl  \n",
            "   creating: annovar/humandb/\n",
            "  inflating: annovar/example/gene_xref.txt  \n",
            "  inflating: annovar/example/grantham.matrix  \n",
            "  inflating: annovar/example/example.tab_region  \n",
            "  inflating: annovar/example/gene_fullxref.txt  \n",
            "  inflating: annovar/example/ex2.vcf  \n",
            "  inflating: annovar/example/README  \n",
            "  inflating: annovar/example/ex1.avinput  \n",
            "  inflating: annovar/example/snplist.txt  \n",
            "  inflating: annovar/example/example.simple_region  \n"
          ]
        }
      ]
    },
    {
      "cell_type": "markdown",
      "source": [
        "Download das bases de dados do Annovar para o hg19 (genoma de referência)\n",
        "\n",
        "\n",
        "---\n",
        "\n",
        "\n",
        "- refGene - anotação gene-based (localização e tipo)\n",
        "- abraom - frequência genômica na população brasileira\n",
        "- gnomad_exome - frequência populacional no exoma\n",
        "- exac03 - frequência populacional no exoma\n",
        "- avsnp147 - identificador de variantes\n",
        "- dbnsfp30a - banco de preditores de risco de variantes no exoma (predição de patogenicidade)\n",
        "- clinvar_20210123 - banco de dados de significância clínica  "
      ],
      "metadata": {
        "id": "kdvF3gj6C-qn"
      }
    },
    {
      "cell_type": "code",
      "source": [
        "!perl annovar/annotate_variation.pl -buildver hg19 -downdb -webfrom annovar refGene annovar/humandb/"
      ],
      "metadata": {
        "colab": {
          "base_uri": "https://localhost:8080/"
        },
        "id": "UyVg7z4tDL9C",
        "outputId": "9206f6d7-adcd-4a7e-deff-12a7a18e0283"
      },
      "execution_count": 10,
      "outputs": [
        {
          "output_type": "stream",
          "name": "stdout",
          "text": [
            "NOTICE: Web-based checking to see whether ANNOVAR new version is available ... Done\n",
            "NOTICE: Downloading annotation database http://www.openbioinformatics.org/annovar/download/hg19_refGene.txt.gz ... OK\n",
            "NOTICE: Downloading annotation database http://www.openbioinformatics.org/annovar/download/hg19_refGeneMrna.fa.gz ... OK\n",
            "NOTICE: Downloading annotation database http://www.openbioinformatics.org/annovar/download/hg19_refGeneVersion.txt.gz ... OK\n",
            "NOTICE: Uncompressing downloaded files\n",
            "NOTICE: Finished downloading annotation files for hg19 build version, with files saved at the 'annovar/humandb' directory\n"
          ]
        }
      ]
    },
    {
      "cell_type": "code",
      "source": [
        "!perl annovar/annotate_variation.pl -buildver hg19 -downdb -webfrom annovar abraom annovar/humandb/"
      ],
      "metadata": {
        "colab": {
          "base_uri": "https://localhost:8080/"
        },
        "id": "I63QWvoFdww4",
        "outputId": "1cbee481-fd48-45c2-fe35-f88a5f538290"
      },
      "execution_count": 11,
      "outputs": [
        {
          "output_type": "stream",
          "name": "stdout",
          "text": [
            "NOTICE: Web-based checking to see whether ANNOVAR new version is available ... Done\n",
            "NOTICE: Downloading annotation database http://www.openbioinformatics.org/annovar/download/hg19_abraom.txt.gz ... OK\n",
            "NOTICE: Downloading annotation database http://www.openbioinformatics.org/annovar/download/hg19_abraom.txt.idx.gz ... OK\n",
            "NOTICE: Uncompressing downloaded files\n",
            "NOTICE: Finished downloading annotation files for hg19 build version, with files saved at the 'annovar/humandb' directory\n"
          ]
        }
      ]
    },
    {
      "cell_type": "code",
      "source": [
        "!perl annovar/annotate_variation.pl -buildver hg19 -downdb -webfrom annovar gnomad_exome annovar/humandb/"
      ],
      "metadata": {
        "colab": {
          "base_uri": "https://localhost:8080/"
        },
        "id": "IgajmqYHg8fe",
        "outputId": "4a2f6226-6b87-46bb-f194-41a7658d4403"
      },
      "execution_count": 12,
      "outputs": [
        {
          "output_type": "stream",
          "name": "stdout",
          "text": [
            "NOTICE: Web-based checking to see whether ANNOVAR new version is available ... Done\n",
            "NOTICE: Downloading annotation database http://www.openbioinformatics.org/annovar/download/hg19_gnomad_exome.txt.gz ... OK\n",
            "NOTICE: Downloading annotation database http://www.openbioinformatics.org/annovar/download/hg19_gnomad_exome.txt.idx.gz ... OK\n",
            "NOTICE: Uncompressing downloaded files\n",
            "NOTICE: Finished downloading annotation files for hg19 build version, with files saved at the 'annovar/humandb' directory\n"
          ]
        }
      ]
    },
    {
      "cell_type": "code",
      "source": [
        "!perl annovar/annotate_variation.pl -buildver hg19 -downdb -webfrom annovar exac03 annovar/humandb/"
      ],
      "metadata": {
        "colab": {
          "base_uri": "https://localhost:8080/"
        },
        "id": "LxhFnCj2Qn-y",
        "outputId": "11773591-7ff8-4513-c940-37aca949216e"
      },
      "execution_count": 13,
      "outputs": [
        {
          "output_type": "stream",
          "name": "stdout",
          "text": [
            "NOTICE: Web-based checking to see whether ANNOVAR new version is available ... Done\n",
            "NOTICE: Downloading annotation database http://www.openbioinformatics.org/annovar/download/hg19_exac03.txt.gz ... OK\n",
            "NOTICE: Downloading annotation database http://www.openbioinformatics.org/annovar/download/hg19_exac03.txt.idx.gz ... OK\n",
            "NOTICE: Uncompressing downloaded files\n",
            "NOTICE: Finished downloading annotation files for hg19 build version, with files saved at the 'annovar/humandb' directory\n"
          ]
        }
      ]
    },
    {
      "cell_type": "code",
      "source": [
        "!perl annovar/annotate_variation.pl -buildver hg19 -downdb -webfrom annovar avsnp147 annovar/humandb/"
      ],
      "metadata": {
        "colab": {
          "base_uri": "https://localhost:8080/"
        },
        "id": "nrvkAmmKhCqr",
        "outputId": "3557019c-20f5-4945-e8a3-1f84f21eb4b1"
      },
      "execution_count": 14,
      "outputs": [
        {
          "output_type": "stream",
          "name": "stdout",
          "text": [
            "NOTICE: Web-based checking to see whether ANNOVAR new version is available ... Done\n",
            "NOTICE: Downloading annotation database http://www.openbioinformatics.org/annovar/download/hg19_avsnp147.txt.gz ... OK\n",
            "NOTICE: Downloading annotation database http://www.openbioinformatics.org/annovar/download/hg19_avsnp147.txt.idx.gz ... OK\n",
            "NOTICE: Uncompressing downloaded files\n",
            "NOTICE: Finished downloading annotation files for hg19 build version, with files saved at the 'annovar/humandb' directory\n"
          ]
        }
      ]
    },
    {
      "cell_type": "code",
      "source": [
        "!perl annovar/annotate_variation.pl -buildver hg19 -downdb -webfrom annovar dbnsfp30a annovar/humandb/"
      ],
      "metadata": {
        "colab": {
          "base_uri": "https://localhost:8080/"
        },
        "id": "AmIfW3drhHMX",
        "outputId": "deedbe0d-2339-4e2d-e425-46a0cfdcd1ee"
      },
      "execution_count": 15,
      "outputs": [
        {
          "output_type": "stream",
          "name": "stdout",
          "text": [
            "NOTICE: Web-based checking to see whether ANNOVAR new version is available ... Done\n",
            "NOTICE: Downloading annotation database http://www.openbioinformatics.org/annovar/download/hg19_dbnsfp30a.txt.gz ... OK\n",
            "NOTICE: Downloading annotation database http://www.openbioinformatics.org/annovar/download/hg19_dbnsfp30a.txt.idx.gz ... OK\n",
            "NOTICE: Uncompressing downloaded files\n",
            "NOTICE: Finished downloading annotation files for hg19 build version, with files saved at the 'annovar/humandb' directory\n"
          ]
        }
      ]
    },
    {
      "cell_type": "code",
      "source": [
        "!perl annovar/annotate_variation.pl -buildver hg19 -downdb -webfrom annovar clinvar_20210123 annovar/humandb/"
      ],
      "metadata": {
        "colab": {
          "base_uri": "https://localhost:8080/"
        },
        "id": "h8aFBOZ-hL-w",
        "outputId": "e948f3dc-a8b3-4e39-ab84-56256c231f9e"
      },
      "execution_count": 16,
      "outputs": [
        {
          "output_type": "stream",
          "name": "stdout",
          "text": [
            "NOTICE: Web-based checking to see whether ANNOVAR new version is available ... Done\n",
            "NOTICE: Downloading annotation database http://www.openbioinformatics.org/annovar/download/hg19_clinvar_20210123.txt.gz ... OK\n",
            "NOTICE: Downloading annotation database http://www.openbioinformatics.org/annovar/download/hg19_clinvar_20210123.txt.idx.gz ... OK\n",
            "NOTICE: Uncompressing downloaded files\n",
            "NOTICE: Finished downloading annotation files for hg19 build version, with files saved at the 'annovar/humandb' directory\n"
          ]
        }
      ]
    },
    {
      "cell_type": "markdown",
      "source": [
        "**`*Anotação de Variantes*`**\n",
        "---\n",
        "\n"
      ],
      "metadata": {
        "id": "ytoBcS19nknf"
      }
    },
    {
      "cell_type": "code",
      "source": [
        "!mkdir dados"
      ],
      "metadata": {
        "id": "3Qg4ag_rIBiu"
      },
      "execution_count": 17,
      "outputs": []
    },
    {
      "cell_type": "code",
      "source": [
        "%%bash\n",
        "cd dados\n",
        "pwd"
      ],
      "metadata": {
        "colab": {
          "base_uri": "https://localhost:8080/"
        },
        "id": "b-lVONAjIS84",
        "outputId": "4ed20db8-6b4a-4046-bc7e-2b5e3da64ba1"
      },
      "execution_count": 18,
      "outputs": [
        {
          "output_type": "stream",
          "name": "stdout",
          "text": [
            "/content/germinativas/dados\n"
          ]
        }
      ]
    },
    {
      "cell_type": "code",
      "source": [
        "! perl annovar/table_annovar.pl --help"
      ],
      "metadata": {
        "id": "tIxEfH3Eufi4",
        "colab": {
          "base_uri": "https://localhost:8080/"
        },
        "outputId": "da9ae38a-7845-4d8d-d28a-5a70c1fb656a"
      },
      "execution_count": 19,
      "outputs": [
        {
          "output_type": "stream",
          "name": "stdout",
          "text": [
            "Usage:\n",
            "     table_annovar.pl [arguments] <query-file> <database-location>\n",
            "\n",
            "     Optional arguments:\n",
            "            -h, --help                      print help message\n",
            "            -m, --man                       print complete documentation\n",
            "            -v, --verbose                   use verbose output\n",
            "                --protocol <string>         comma-delimited string specifying database protocol\n",
            "                --operation <string>        comma-delimited string specifying type of operation\n",
            "                --outfile <string>          output file name prefix\n",
            "                --buildver <string>         genome build version (default: hg18)\n",
            "                --remove                    remove all temporary files\n",
            "                --(no)checkfile             check if database file exists (default: ON)\n",
            "                --genericdbfile <files>     specify comma-delimited generic db files\n",
            "                --gff3dbfile <files>        specify comma-delimited GFF3 files\n",
            "                --bedfile <files>           specify comma-delimited BED files\n",
            "                --vcfdbfile <files>         specify comma-delimited VCF files\n",
            "                --otherinfo                 print out otherinfo (infomration after fifth column in queryfile)\n",
            "                --onetranscript             print out only one transcript for exonic variants (default: all transcripts)\n",
            "                --nastring <string>         string to display when a score is not available (default: null)\n",
            "                --csvout                    generate comma-delimited CSV file (default: tab-delimited txt file)\n",
            "                --argument <string>         comma-delimited strings as optional argument for each operation (use & for comma inside string)\n",
            "                --convertarg <string>       argument to convert2annovar.pl\n",
            "                --codingarg <string>        argument to coding_change.pl\n",
            "                --tempdir <dir>             directory to store temporary files (default: --outfile)\n",
            "                --vcfinput                  specify that input is in VCF format and output will be in VCF format\n",
            "                --dot2underline             change dot in field name to underline (eg, Func.refGene to Func_refGene)\n",
            "                --thread <int>              specify the number of threads to be used in annotation\n",
            "                --maxgenethread <int>       specify the maximum number of threads allowed in gene annotation (default: 6)\n",
            "                --polish                    polish the protein notation for indels (such as p.G12Vfs*2)\n",
            "                --xreffile <file>           specify a cross-reference file for gene-based annotation\n",
            "                --intronhgvs <int>          print HGVS notations for intron within this threshold away from exon\n",
            "\n",
            "\n",
            "     Function: automatically run a pipeline on a list of variants and summarize\n",
            "     their functional effects in a comma-delimited file, or to an annotated VCF file\n",
            "     if the original input is a VCF file\n",
            "\n",
            "     Example: table_annovar.pl example/ex1.avinput humandb/ -buildver hg19 -out myanno -remove -protocol refGene,cytoBand,dbnsfp30a -operation g,r,f -nastring . -csvout -polish -xreffile example/gene_fullxref.txt\n",
            "              table_annovar.pl example/ex2.vcf humandb/ -buildver hg19 -out myanno -remove -protocol refGene,cytoBand,dbnsfp30a -operation g,r,f -nastring . -vcfinput\n",
            "\n",
            "     Version: $Date: 2020-06-08 00:46:07 -0400 (Mon,  8 Jun 2020) $\n",
            "\n",
            "Options:\n",
            "    --help  print a brief usage message and detailed explanation of options.\n",
            "\n",
            "    --man   print the complete manual of the program.\n",
            "\n",
            "    --verbose\n",
            "            use verbose output.\n",
            "\n",
            "    --protocol\n",
            "            comma-delimited string specifying annotation protocol. These\n",
            "            strings typically represent database names in ANNOVAR.\n",
            "\n",
            "    --operation\n",
            "            comma-delimited string specifying type of operation. These\n",
            "            strings can be g (gene), r (region) or f (filter).\n",
            "\n",
            "    --outfile\n",
            "            the prefix of output file names\n",
            "\n",
            "    --buildver\n",
            "            specify the genome build version\n",
            "\n",
            "    --remove\n",
            "            remove all temporary files. By default, all temporary files will\n",
            "            be kept for user inspection, but this will easily clutter the\n",
            "            directory.\n",
            "\n",
            "    --(no)checkfile\n",
            "            the program will check if all required database files exist\n",
            "            before execution of annotation\n",
            "\n",
            "    --genericdbfile\n",
            "            specify the genericdb files used in -dbtype generic. Note that\n",
            "            multiple comma- delimited file names can be supplied.\n",
            "\n",
            "    --gff3dbfile\n",
            "            specify the GFF3 dbfiles files used in -dbtype gff3. Note that\n",
            "            multiple comma- delimited file names can be supplied.\n",
            "\n",
            "    --bedfile\n",
            "            specify the GFF3 dbfiles files used in -dbtype bed. Note that\n",
            "            multiple comma- delimited file names can be supplied.\n",
            "\n",
            "    --vcfdbfile\n",
            "            specify the VCF dbfiles files used in -dbtype vcf. Note that\n",
            "            multiple comma- delimited file names can be supplied.\n",
            "\n",
            "    --otherinfo\n",
            "            print out otherinfo in the output file. \"otherinfo\" refers to\n",
            "            all the infomration after fifth column in the input queryfile.\n",
            "\n",
            "    --onetranscript\n",
            "            print out only one random transcript for exonic variants. By\n",
            "            default, all transcripts are printed in the output.\n",
            "\n",
            "    --nastring\n",
            "            string to display when a score is not available. By default,\n",
            "            empty string is printed in the output file.\n",
            "\n",
            "    --csvout\n",
            "            generate comma-delimited CSV file. By default, tab-delimited\n",
            "            text file is generated.\n",
            "\n",
            "    --argument\n",
            "            a comma-separated list of arguments, to be supplied to each of\n",
            "            the protocols. This list faciliates customized annotation\n",
            "            procedure for each protocol.\n",
            "\n",
            "    --convertarg\n",
            "            a string as argument to be supplied to the convert2annovar.pl\n",
            "            program\n",
            "\n",
            "    --codingarg\n",
            "            a string as argument to be supplied to the coding_change.pl\n",
            "            program\n",
            "\n",
            "    --tempdir\n",
            "            specify the directory location for storing temporary files used\n",
            "            by table_annovar. This argument is especially useful in a\n",
            "            cluster computing environment, so that temporary files are\n",
            "            written to local disk of compute nodes, yet results files are\n",
            "            written to possibly remote hosts.\n",
            "\n",
            "    --vcfinput\n",
            "            specify that input is in VCF format and output will be in VCF\n",
            "            format. if you want to generate a tab-delimited output or\n",
            "            comma-delimited output file, you must use convert2annovar to\n",
            "            generate an ANNOVAR input file first.\n",
            "\n",
            "    --dot2underline\n",
            "            change dot in field name to underline (eg, Func.refGene to\n",
            "            Func_refGene), which is useful for post-processing of the\n",
            "            results in some software tools that cannot handle dot in field\n",
            "            names.\n",
            "\n",
            "    --thread\n",
            "            specify the number of threads to be used in annotation (when\n",
            "            multi-threading support is enabled in the system)\n",
            "\n",
            "    --maxgenethread\n",
            "            specify the maximum number of threads allowed in gene annotation\n",
            "            (default: 6)\n",
            "\n",
            "    --polish\n",
            "            polish the protein notation for indels (such as p.G12Vfs*2) by\n",
            "            re-calculating the protein sequence after a mutation is\n",
            "            introduced in coding_change.pl\n",
            "\n",
            "    --xreffile\n",
            "            specify a cross-reference file for gene-based annotation, so\n",
            "            that the final output includes extra columns for genes\n",
            "\n"
          ]
        }
      ]
    },
    {
      "cell_type": "code",
      "source": [
        "#table_annovar.pl example/ex1.avinput humandb/ -buildver hg19 -out myanno -remove -protocol refGene,cytoBand,dbnsfp30a -operation g,r,f -nastring . -csvout -polish -xreffile example/gene_fullxref.txt\n",
        "!perl annovar/table_annovar.pl /content/germinativas/variante1.avinput \\\n",
        "annovar/humandb/ --dot2underline -buildver hg19 \\\n",
        "-out /content/germinativas/dados/Trabalho1 -remove \\\n",
        "-protocol refGene,avsnp147,exac03,clinvar_20210123,dbnsfp30a,abraom,gnomad_exome \\\n",
        "-operation g,f,f,f,f,f,f -nastring \".\" -csvout -polish"
      ],
      "metadata": {
        "colab": {
          "base_uri": "https://localhost:8080/"
        },
        "id": "6Yxwp_k8nvre",
        "outputId": "e8ef8d16-60a8-4843-9f4d-cab45cb98eba"
      },
      "execution_count": 20,
      "outputs": [
        {
          "output_type": "stream",
          "name": "stdout",
          "text": [
            "-----------------------------------------------------------------\n",
            "NOTICE: Processing operation=g protocol=refGene\n",
            "\n",
            "NOTICE: Running with system command <annotate_variation.pl -geneanno -buildver hg19 -dbtype refGene -outfile /content/germinativas/dados/Trabalho1.refGene -exonsort -nofirstcodondel /content/germinativas/variante1.avinput annovar/humandb/>\n",
            "NOTICE: Output files are written to /content/germinativas/dados/Trabalho1.refGene.variant_function, /content/germinativas/dados/Trabalho1.refGene.exonic_variant_function\n",
            "NOTICE: Reading gene annotation from annovar/humandb/hg19_refGene.txt ... Done with 78239 transcripts (including 18578 without coding sequence annotation) for 28293 unique genes\n",
            "NOTICE: Processing next batch with 14352 unique variants in 14352 input lines\n",
            "NOTICE: Reading FASTA sequences from annovar/humandb/hg19_refGeneMrna.fa ... Done with 19572 sequences\n",
            "WARNING: A total of 465 sequences will be ignored due to lack of correct ORF annotation\n",
            "NOTICE: Variants with invalid input format are written to /content/germinativas/dados/Trabalho1.refGene.invalid_input\n",
            "\n",
            "NOTICE: Running with system command <coding_change.pl  /content/germinativas/dados/Trabalho1.refGene.exonic_variant_function.orig annovar/humandb//hg19_refGene.txt annovar/humandb//hg19_refGeneMrna.fa -alltranscript -out /content/germinativas/dados/Trabalho1.refGene.fa -newevf /content/germinativas/dados/Trabalho1.refGene.exonic_variant_function>\n",
            "-----------------------------------------------------------------\n",
            "NOTICE: Processing operation=f protocol=avsnp147\n",
            "\n",
            "NOTICE: Running system command <annotate_variation.pl -filter -dbtype avsnp147 -buildver hg19 -outfile /content/germinativas/dados/Trabalho1 /content/germinativas/variante1.avinput annovar/humandb/>\n",
            "NOTICE: Output file with variants matching filtering criteria is written to /content/germinativas/dados/Trabalho1.hg19_avsnp147_dropped, and output file with other variants is written to /content/germinativas/dados/Trabalho1.hg19_avsnp147_filtered\n",
            "NOTICE: Processing next batch with 14212 unique variants in 15789 input lines\n",
            "NOTICE: Database index loaded. Total number of bins is 27868332 and the number of bins to be scanned is 13788\n",
            "NOTICE: Scanning filter database annovar/humandb/hg19_avsnp147.txt...Done\n",
            "NOTICE: Variants with invalid input format are written to /content/germinativas/dados/Trabalho1.invalid_input\n",
            "-----------------------------------------------------------------\n",
            "NOTICE: Processing operation=f protocol=exac03\n",
            "NOTICE: Finished reading 8 column headers for '-dbtype exac03'\n",
            "\n",
            "NOTICE: Running system command <annotate_variation.pl -filter -dbtype exac03 -buildver hg19 -outfile /content/germinativas/dados/Trabalho1 /content/germinativas/variante1.avinput annovar/humandb/ -otherinfo>\n",
            "NOTICE: Output file with variants matching filtering criteria is written to /content/germinativas/dados/Trabalho1.hg19_exac03_dropped, and output file with other variants is written to /content/germinativas/dados/Trabalho1.hg19_exac03_filtered\n",
            "NOTICE: Processing next batch with 14212 unique variants in 15789 input lines\n",
            "NOTICE: Database index loaded. Total number of bins is 749886 and the number of bins to be scanned is 13758\n",
            "NOTICE: Scanning filter database annovar/humandb/hg19_exac03.txt...Done\n",
            "NOTICE: Variants with invalid input format are written to /content/germinativas/dados/Trabalho1.invalid_input\n",
            "-----------------------------------------------------------------\n",
            "NOTICE: Processing operation=f protocol=clinvar_20210123\n",
            "NOTICE: Finished reading 5 column headers for '-dbtype clinvar_20210123'\n",
            "\n",
            "NOTICE: Running system command <annotate_variation.pl -filter -dbtype clinvar_20210123 -buildver hg19 -outfile /content/germinativas/dados/Trabalho1 /content/germinativas/variante1.avinput annovar/humandb/ -otherinfo>\n",
            "NOTICE: the --dbtype clinvar_20210123 is assumed to be in generic ANNOVAR database format\n",
            "NOTICE: Output file with variants matching filtering criteria is written to /content/germinativas/dados/Trabalho1.hg19_clinvar_20210123_dropped, and output file with other variants is written to /content/germinativas/dados/Trabalho1.hg19_clinvar_20210123_filtered\n",
            "NOTICE: Processing next batch with 14212 unique variants in 15789 input lines\n",
            "NOTICE: Database index loaded. Total number of bins is 74968 and the number of bins to be scanned is 5814\n",
            "NOTICE: Scanning filter database annovar/humandb/hg19_clinvar_20210123.txt...Done\n",
            "NOTICE: Variants with invalid input format are written to /content/germinativas/dados/Trabalho1.invalid_input\n",
            "-----------------------------------------------------------------\n",
            "NOTICE: Processing operation=f protocol=dbnsfp30a\n",
            "NOTICE: Finished reading 34 column headers for '-dbtype dbnsfp30a'\n",
            "\n",
            "NOTICE: Running system command <annotate_variation.pl -filter -dbtype dbnsfp30a -buildver hg19 -outfile /content/germinativas/dados/Trabalho1 /content/germinativas/variante1.avinput annovar/humandb/ -otherinfo>\n",
            "NOTICE: Output file with variants matching filtering criteria is written to /content/germinativas/dados/Trabalho1.hg19_dbnsfp30a_dropped, and output file with other variants is written to /content/germinativas/dados/Trabalho1.hg19_dbnsfp30a_filtered\n",
            "NOTICE: Processing next batch with 14212 unique variants in 15789 input lines\n",
            "NOTICE: Database index loaded. Total number of bins is 548895 and the number of bins to be scanned is 12324\n",
            "NOTICE: Scanning filter database annovar/humandb/hg19_dbnsfp30a.txt...Done\n",
            "NOTICE: Variants with invalid input format are written to /content/germinativas/dados/Trabalho1.invalid_input\n",
            "-----------------------------------------------------------------\n",
            "NOTICE: Processing operation=f protocol=abraom\n",
            "NOTICE: Finished reading 3 column headers for '-dbtype abraom'\n",
            "\n",
            "NOTICE: Running system command <annotate_variation.pl -filter -dbtype abraom -buildver hg19 -outfile /content/germinativas/dados/Trabalho1 /content/germinativas/variante1.avinput annovar/humandb/ -otherinfo>\n",
            "NOTICE: the --dbtype abraom is assumed to be in generic ANNOVAR database format\n",
            "NOTICE: Output file with variants matching filtering criteria is written to /content/germinativas/dados/Trabalho1.hg19_abraom_dropped, and output file with other variants is written to /content/germinativas/dados/Trabalho1.hg19_abraom_filtered\n",
            "NOTICE: Processing next batch with 14212 unique variants in 15789 input lines\n",
            "NOTICE: Database index loaded. Total number of bins is 1202560 and the number of bins to be scanned is 9524\n",
            "NOTICE: Scanning filter database annovar/humandb/hg19_abraom.txt...Done\n",
            "NOTICE: Variants with invalid input format are written to /content/germinativas/dados/Trabalho1.invalid_input\n",
            "-----------------------------------------------------------------\n",
            "NOTICE: Processing operation=f protocol=gnomad_exome\n",
            "NOTICE: Finished reading 9 column headers for '-dbtype gnomad_exome'\n",
            "\n",
            "NOTICE: Running system command <annotate_variation.pl -filter -dbtype gnomad_exome -buildver hg19 -outfile /content/germinativas/dados/Trabalho1 /content/germinativas/variante1.avinput annovar/humandb/ -otherinfo>\n",
            "NOTICE: Output file with variants matching filtering criteria is written to /content/germinativas/dados/Trabalho1.hg19_gnomad_exome_dropped, and output file with other variants is written to /content/germinativas/dados/Trabalho1.hg19_gnomad_exome_filtered\n",
            "NOTICE: Processing next batch with 14212 unique variants in 15789 input lines\n",
            "NOTICE: Database index loaded. Total number of bins is 772860 and the number of bins to be scanned is 13782\n",
            "NOTICE: Scanning filter database annovar/humandb/hg19_gnomad_exome.txt...Done\n",
            "NOTICE: Variants with invalid input format are written to /content/germinativas/dados/Trabalho1.invalid_input\n",
            "-----------------------------------------------------------------\n",
            "NOTICE: Multianno output file is written to /content/germinativas/dados/Trabalho1.hg19_multianno.csv\n"
          ]
        }
      ]
    },
    {
      "cell_type": "code",
      "source": [
        "!ls /content/germinativas/dados"
      ],
      "metadata": {
        "colab": {
          "base_uri": "https://localhost:8080/"
        },
        "id": "SQ2OlNxRJ2D8",
        "outputId": "923cd725-4358-40cb-9fd7-f2f106481c5f"
      },
      "execution_count": 21,
      "outputs": [
        {
          "output_type": "stream",
          "name": "stdout",
          "text": [
            "Trabalho1.hg19_multianno.csv  Trabalho1.refGene.invalid_input\n",
            "Trabalho1.invalid_input\n"
          ]
        }
      ]
    },
    {
      "cell_type": "code",
      "source": [
        "! head /content/germinativas/dados/Trabalho1.hg19_multianno.csv"
      ],
      "metadata": {
        "colab": {
          "base_uri": "https://localhost:8080/"
        },
        "id": "EDc0sIn-9H67",
        "outputId": "d73c7155-a9a6-475e-a1b8-44eabc9f2239"
      },
      "execution_count": 22,
      "outputs": [
        {
          "output_type": "stream",
          "name": "stdout",
          "text": [
            "Chr,Start,End,Ref,Alt,Func_refGene,Gene_refGene,GeneDetail_refGene,ExonicFunc_refGene,AAChange_refGene,avsnp147,ExAC_ALL,ExAC_AFR,ExAC_AMR,ExAC_EAS,ExAC_FIN,ExAC_NFE,ExAC_OTH,ExAC_SAS,CLNALLELEID,CLNDN,CLNDISDB,CLNREVSTAT,CLNSIG,SIFT_score,SIFT_pred,Polyphen2_HDIV_score,Polyphen2_HDIV_pred,Polyphen2_HVAR_score,Polyphen2_HVAR_pred,LRT_score,LRT_pred,MutationTaster_score,MutationTaster_pred,MutationAssessor_score,MutationAssessor_pred,FATHMM_score,FATHMM_pred,PROVEAN_score,PROVEAN_pred,VEST3_score,CADD_raw,CADD_phred,DANN_score,fathmm-MKL_coding_score,fathmm-MKL_coding_pred,MetaSVM_score,MetaSVM_pred,MetaLR_score,MetaLR_pred,integrated_fitCons_score,integrated_confidence_value,GERP++_RS,phyloP7way_vertebrate,phyloP20way_mammalian,phastCons7way_vertebrate,phastCons20way_mammalian,SiPhy_29way_logOdds,abraom_freq,abraom_filter,abraom_cegh_filter,gnomAD_exome_ALL,gnomAD_exome_AFR,gnomAD_exome_AMR,gnomAD_exome_ASJ,gnomAD_exome_EAS,gnomAD_exome_FIN,gnomAD_exome_NFE,gnomAD_exome_OTH,gnomAD_exome_SAS\n",
            "1,94049574,94049574,C,A,\"splicing\",\"BCAR3\",\"NM_003567:exon6:c.1033+1G>T;NM_001261410:exon4:c.760+1G>T;NM_001308251:exon2:c.61+1G>T;NM_001261408:exon8:c.1033+1G>T;NM_001261409:exon6:c.1033+1G>T\",.,.,.,.,.,.,.,.,.,.,.,.,.,.,.,.,.,.,.,.,.,.,.,.,1,D,.,.,.,.,.,.,.,5.305,25.8,0.995,0.989,D,.,.,.,.,0.156,0,5.56,0.871,0.935,0.694,0.227,19.535,.,.,.,.,.,.,.,.,.,.,.,.\n",
            "10,114910883,114910883,G,A,\"splicing\",\"TCF7L2\",\"NM_030756:exon8:c.932+1G>A;NM_001198529:exon8:c.932+1G>A;NM_001198528:exon8:c.932+1G>A;NM_001198531:exon9:c.1001+1G>A;NM_001146286:exon8:c.932+1G>A;NM_001146284:exon8:c.920+1G>A;NM_001146274:exon9:c.1001+1G>A;NM_001367943:exon9:c.1001+1G>A;NM_001146283:exon9:c.1073+1G>A;NM_001198527:exon8:c.920+1G>A;NM_001198526:exon8:c.932+1G>A;NM_001198525:exon8:c.947+1G>A;NM_001198530:exon7:c.830+1G>A;NM_001363501:exon9:c.1001+1G>A;NM_001146285:exon8:c.932+1G>A;NM_001349871:exon5:c.452+1G>A;NM_001349870:exon5:c.572+1G>A\",.,.,.,.,.,.,.,.,.,.,.,.,.,.,.,.,.,.,.,.,.,.,.,.,1,D,.,.,.,.,.,.,.,5.336,25.8,0.995,0.988,D,.,.,.,.,0.257,0,5.17,0.917,1.044,0.970,0.995,18.668,.,.,.,0,0,0,0,0,0,0,0,0\n",
            "12,116418553,116418554,A,AC,.,.,.,.,.,.,.,.,.,.,.,.,.,.,.,.,.,.,.,.,.,.,.,.,.,.,.,.,.,.,.,.,.,.,.,.,.,.,.,.,.,.,.,.,.,.,.,.,.,.,.,.,.,.,.,.,.,.,.,.,.,.,.,.,.\n",
            "9,14150143,14150143,C,T,\"splicing\",\"NFIB\",\"NM_001282787:exon4:c.50+1G>A;NM_001190738:exon5:c.884+1G>A;NM_005596:exon5:c.806+1G>A;NM_001369479:exon4:c.269+1G>A;NM_001369480:exon4:c.269+1G>A;NM_001369478:exon5:c.569+1G>A;NM_001369470:exon5:c.569+1G>A;NM_001369468:exon5:c.872+1G>A;NM_001369467:exon5:c.779+1G>A;NM_001369466:exon5:c.794+1G>A;NM_001369474:exon5:c.791+1G>A;NM_001369469:exon5:c.662+1G>A;NM_001369458:exon5:c.872+1G>A;NM_001369473:exon5:c.794+1G>A;NM_001369465:exon5:c.779+1G>A;NM_001369464:exon5:c.806+1G>A;NM_001369463:exon5:c.794+1G>A;NM_001369462:exon5:c.872+1G>A;NM_001369461:exon5:c.806+1G>A;NM_001190737:exon5:c.806+1G>A;NM_001369460:exon5:c.794+1G>A;NM_001369459:exon5:c.872+1G>A;NM_001369472:exon5:c.794+1G>A;NM_001369471:exon5:c.806+1G>A;NM_001369477:exon4:c.752+1G>A;NM_001369476:exon5:c.779+1G>A;NM_001369475:exon5:c.581+1G>A\",.,.,.,.,.,.,.,.,.,.,.,.,.,.,.,.,.,.,.,.,.,.,.,.,1,D,.,.,.,.,.,.,.,5.515,26.3,0.996,0.993,D,.,.,.,.,0.099,0,5.25,0.871,0.935,0.989,0.984,19.232,.,.,.,.,.,.,.,.,.,.,.,.\n",
            "11,66254814,66254814,G,A,\"splicing\",\"DPP3\",\"NM_005700:exon5:c.573+1G>A;NM_001256670:exon4:c.483+1G>A;NM_130443:exon5:c.573+1G>A\",.,.,.,.,.,.,.,.,.,.,.,425941,not_provided,MedGen:CN517202,criteria_provided\\x2c_single_submitter,Uncertain_significance,.,.,.,.,.,.,.,.,1,D,.,.,.,.,.,.,.,5.592,26.5,0.994,0.997,D,.,.,.,.,0.295,0,4.89,0.917,1.048,0.914,0.958,15.913,.,.,.,.,.,.,.,.,.,.,.,.\n",
            "10,114901076,114901076,G,A,\"splicing\",\"TCF7L2\",\"NM_030756:exon5:c.616+1G>A;NM_001198529:exon5:c.616+1G>A;NM_001198528:exon5:c.616+1G>A;NM_001198531:exon6:c.685+1G>A;NM_001146286:exon5:c.616+1G>A;NM_001146284:exon5:c.616+1G>A;NM_001146274:exon6:c.685+1G>A;NM_001367943:exon6:c.685+1G>A;NM_001146283:exon6:c.757+1G>A;NM_001198527:exon5:c.616+1G>A;NM_001198526:exon5:c.616+1G>A;NM_001198525:exon5:c.616+1G>A;NM_001198530:exon4:c.514+1G>A;NM_001363501:exon6:c.685+1G>A;NM_001146285:exon5:c.616+1G>A;NM_001349871:exon2:c.136+1G>A;NM_001349870:exon2:c.256+1G>A\",.,.,.,.,.,.,.,.,.,.,.,.,.,.,.,.,.,.,.,.,.,.,.,.,1,D,.,.,.,.,.,.,.,6.006,27.9,0.994,0.993,D,.,.,.,.,0.116,0,5.45,0.917,1.044,0.982,0.990,19.298,.,.,.,.,.,.,.,.,.,.,.,.\n",
            "14,93286182,93286182,G,C,\"splicing\",\"GOLGA5\",\"NM_005113:exon8:c.1620+1G>C\",.,.,.,.,.,.,.,.,.,.,.,.,.,.,.,.,.,.,.,.,.,.,.,.,1,D,.,.,.,.,.,.,.,4.845,24.8,0.995,0.990,D,.,.,.,.,0.295,0,4.97,0.917,0.998,0.572,0.724,18.227,.,.,.,.,.,.,.,.,.,.,.,.\n",
            "18,44603833,44603833,G,C,\"splicing\",\"KATNAL2\",\"NM_001353907:exon12:c.878+1G>C;NM_001353899:exon15:c.1289+1G>C;NM_001353905:exon15:c.878+1G>C;NM_001353902:exon14:c.1190+1G>C;NM_001353903:exon12:c.878+1G>C;NM_001353901:exon15:c.1211+1G>C;NM_001353906:exon12:c.878+1G>C;NM_001353904:exon11:c.779+1G>C;NM_001353908:exon11:c.779+1G>C;NM_001353900:exon15:c.1286+1G>C;NM_001353909:exon11:c.779+1G>C;NM_031303:exon12:c.995+1G>C;NM_001367621:exon13:c.1211+1G>C\",.,.,.,.,.,.,.,.,.,.,.,.,.,.,.,.,.,.,.,.,.,.,.,.,1,D,.,.,-3.38,D,.,.,.,4.575,24.4,0.994,0.998,D,.,.,.,.,0.706,0,5.83,0.917,1.048,0.999,0.970,20.121,.,.,.,.,.,.,.,.,.,.,.,.\n",
            "2,32168370,32168370,C,T,\"splicing\",\"MEMO1\",\"NM_001371915:exon3:c.143+1G>A;NM_001137602:exon2:c.143+1G>A;NM_001301833:exon3:c.143+1G>A;NM_001301852:exon2:UTR5;NM_001371912:exon3:c.263+1G>A;NM_001371913:exon3:c.170+1G>A;NM_001371914:exon3:c.143+1G>A;NM_001371916:exon3:c.143+1G>A;NM_001371917:exon2:UTR5;NM_001371918:exon5:UTR5;NM_001371920:exon2:c.143+1G>A;NM_001371921:exon2:UTR5;NM_001385196:exon3:c.425+1G>A;NM_015955:exon2:c.143+1G>A\",.,.,.,.,.,.,.,.,.,.,.,.,.,.,.,.,.,.,.,.,.,.,.,.,1,D,.,.,.,.,.,.,.,4.976,25.1,0.994,0.980,D,.,.,.,.,0.099,0,4.1,0.871,-0.000,0.994,0.888,15.434,.,.,.,.,.,.,.,.,.,.,.,.\n"
          ]
        }
      ]
    },
    {
      "cell_type": "code",
      "source": [
        "! head /content/germinativas/dados/Trabalho1.refGene.invalid_input\n",
        "! wc -l /content/germinativas/dados/Trabalho1.refGene.invalid_input"
      ],
      "metadata": {
        "colab": {
          "base_uri": "https://localhost:8080/"
        },
        "id": "FuiuCZqvLBEL",
        "outputId": "9628837d-3929-4be5-871d-15c8b13ff0ed"
      },
      "execution_count": 23,
      "outputs": [
        {
          "output_type": "stream",
          "name": "stdout",
          "text": [
            "12 116418553 116418554 A AC\n",
            "15 43694048 43694048 TGTAA T\n",
            "21 38877891 38877891 AGGTCTGTGCTGCTGC A\n",
            "12 93792632 93792633 G GT\n",
            "3 56627767 56627767 AAAGT A\n",
            "3 97611837 97611837 TGTGA T\n",
            "22 41564872 41564873 G GT\n",
            "17 60650729 60650730 G GT\n",
            "12 31240918 31240932 G GCCCGGGCCTGTCCC\n",
            "14 21895989 21895989 ACTCTTGCACGTCCCATCACAGTAGCAAGGAGTACTCACTTGAGCTTG A\n",
            "1437 /content/germinativas/dados/Trabalho1.refGene.invalid_input\n"
          ]
        }
      ]
    },
    {
      "cell_type": "markdown",
      "source": [
        "**`*Análise das Variantes Anotadas*`**\n",
        "---\n",
        "\n"
      ],
      "metadata": {
        "id": "cVBIuP6JFf8P"
      }
    },
    {
      "cell_type": "markdown",
      "source": [
        "Importação das bibliotecas\n",
        "\n",
        "\n"
      ],
      "metadata": {
        "id": "WwjTzzU3FpsC"
      }
    },
    {
      "cell_type": "code",
      "source": [
        "import pandas as pd\n",
        "from matplotlib import pyplot as plt\n",
        "import seaborn as sns\n",
        "import numpy as np"
      ],
      "metadata": {
        "id": "hZA50CE5FwMq"
      },
      "execution_count": 24,
      "outputs": []
    },
    {
      "cell_type": "markdown",
      "source": [
        "Contagem do número de variantes"
      ],
      "metadata": {
        "id": "vxivF911Gg0R"
      }
    },
    {
      "cell_type": "code",
      "source": [
        "#Número de variantes anotadas\n",
        "!wc -l /content/germinativas/dados/Trabalho1.hg19_multianno.csv"
      ],
      "metadata": {
        "colab": {
          "base_uri": "https://localhost:8080/"
        },
        "id": "WwRDVShKGKIK",
        "outputId": "57622f67-4aa9-4618-acd1-945b6660b6e6"
      },
      "execution_count": 25,
      "outputs": [
        {
          "output_type": "stream",
          "name": "stdout",
          "text": [
            "15790 /content/germinativas/dados/Trabalho1.hg19_multianno.csv\n"
          ]
        }
      ]
    },
    {
      "cell_type": "markdown",
      "source": [
        "Importação dos dados do annovar para do dataframe do python"
      ],
      "metadata": {
        "id": "yen61eVKGn6m"
      }
    },
    {
      "cell_type": "code",
      "source": [
        "!pwd"
      ],
      "metadata": {
        "colab": {
          "base_uri": "https://localhost:8080/"
        },
        "id": "vClFZ7MNWjuR",
        "outputId": "5f10641b-efb3-4972-d64f-6a2f8e00f7af"
      },
      "execution_count": 26,
      "outputs": [
        {
          "output_type": "stream",
          "name": "stdout",
          "text": [
            "/content/germinativas\n"
          ]
        }
      ]
    },
    {
      "cell_type": "code",
      "source": [
        "# Ler o csv na variante df, utilizando o tab como separador, com a biblioteca pandas\n",
        "df = pd.read_csv(\"/content/germinativas/dados/Trabalho1.hg19_multianno.csv\", sep=\",\")\n",
        "df.tail()"
      ],
      "metadata": {
        "colab": {
          "base_uri": "https://localhost:8080/",
          "height": 299
        },
        "id": "1WUcGx4rG-U5",
        "outputId": "ed4109fb-ea74-4479-bfae-20b889e19c04"
      },
      "execution_count": 27,
      "outputs": [
        {
          "output_type": "execute_result",
          "data": {
            "text/plain": [
              "      Chr      Start        End Ref Alt Func_refGene Gene_refGene  \\\n",
              "15784   1   86173504   86173504   T   A       exonic       ZNHIT6   \n",
              "15785  15  100272044  100272044   T   C       exonic       LYSMD4   \n",
              "15786  13   21370323   21370323   G   A       exonic         XPO4   \n",
              "15787  17   57093092   57093092   C   T       exonic       TRIM37   \n",
              "15788  21   44273814   44273814   C   A       exonic         WDR4   \n",
              "\n",
              "      GeneDetail_refGene ExonicFunc_refGene  \\\n",
              "15784                  .  nonsynonymous SNV   \n",
              "15785                  .  nonsynonymous SNV   \n",
              "15786                  .           stopgain   \n",
              "15787                  .  nonsynonymous SNV   \n",
              "15788                  .  nonsynonymous SNV   \n",
              "\n",
              "                                        AAChange_refGene  ...  \\\n",
              "15784  ZNHIT6:NM_017953:exon1:c.A464T:p.E155V,ZNHIT6:...  ...   \n",
              "15785  LYSMD4:NM_001284417:exon2:c.A161G:p.E54G,LYSMD...  ...   \n",
              "15786  XPO4:NM_001372061:exon18:c.C2689T:p.Q897X,XPO4...  ...   \n",
              "15787  TRIM37:NM_001353085:exon19:c.G1993A:p.G665S,TR...  ...   \n",
              "15788  WDR4:NM_001260474:exon9:c.G837T:p.L279F,WDR4:N...  ...   \n",
              "\n",
              "      abraom_cegh_filter gnomAD_exome_ALL gnomAD_exome_AFR gnomAD_exome_AMR  \\\n",
              "15784                  .                .                .                .   \n",
              "15785                  .                .                .                .   \n",
              "15786                  .                .                .                .   \n",
              "15787                  .        4.064e-06                0                0   \n",
              "15788                  .                .                .                .   \n",
              "\n",
              "      gnomAD_exome_ASJ gnomAD_exome_EAS gnomAD_exome_FIN gnomAD_exome_NFE  \\\n",
              "15784                .                .                .                .   \n",
              "15785                .                .                .                .   \n",
              "15786                .                .                .                .   \n",
              "15787                0        5.798e-05                0                0   \n",
              "15788                .                .                .                .   \n",
              "\n",
              "      gnomAD_exome_OTH gnomAD_exome_SAS  \n",
              "15784                .                .  \n",
              "15785                .                .  \n",
              "15786                .                .  \n",
              "15787                0                0  \n",
              "15788                .                .  \n",
              "\n",
              "[5 rows x 70 columns]"
            ],
            "text/html": [
              "\n",
              "  <div id=\"df-4641df0f-8b3e-48a5-8f95-8618e19e5ccd\">\n",
              "    <div class=\"colab-df-container\">\n",
              "      <div>\n",
              "<style scoped>\n",
              "    .dataframe tbody tr th:only-of-type {\n",
              "        vertical-align: middle;\n",
              "    }\n",
              "\n",
              "    .dataframe tbody tr th {\n",
              "        vertical-align: top;\n",
              "    }\n",
              "\n",
              "    .dataframe thead th {\n",
              "        text-align: right;\n",
              "    }\n",
              "</style>\n",
              "<table border=\"1\" class=\"dataframe\">\n",
              "  <thead>\n",
              "    <tr style=\"text-align: right;\">\n",
              "      <th></th>\n",
              "      <th>Chr</th>\n",
              "      <th>Start</th>\n",
              "      <th>End</th>\n",
              "      <th>Ref</th>\n",
              "      <th>Alt</th>\n",
              "      <th>Func_refGene</th>\n",
              "      <th>Gene_refGene</th>\n",
              "      <th>GeneDetail_refGene</th>\n",
              "      <th>ExonicFunc_refGene</th>\n",
              "      <th>AAChange_refGene</th>\n",
              "      <th>...</th>\n",
              "      <th>abraom_cegh_filter</th>\n",
              "      <th>gnomAD_exome_ALL</th>\n",
              "      <th>gnomAD_exome_AFR</th>\n",
              "      <th>gnomAD_exome_AMR</th>\n",
              "      <th>gnomAD_exome_ASJ</th>\n",
              "      <th>gnomAD_exome_EAS</th>\n",
              "      <th>gnomAD_exome_FIN</th>\n",
              "      <th>gnomAD_exome_NFE</th>\n",
              "      <th>gnomAD_exome_OTH</th>\n",
              "      <th>gnomAD_exome_SAS</th>\n",
              "    </tr>\n",
              "  </thead>\n",
              "  <tbody>\n",
              "    <tr>\n",
              "      <th>15784</th>\n",
              "      <td>1</td>\n",
              "      <td>86173504</td>\n",
              "      <td>86173504</td>\n",
              "      <td>T</td>\n",
              "      <td>A</td>\n",
              "      <td>exonic</td>\n",
              "      <td>ZNHIT6</td>\n",
              "      <td>.</td>\n",
              "      <td>nonsynonymous SNV</td>\n",
              "      <td>ZNHIT6:NM_017953:exon1:c.A464T:p.E155V,ZNHIT6:...</td>\n",
              "      <td>...</td>\n",
              "      <td>.</td>\n",
              "      <td>.</td>\n",
              "      <td>.</td>\n",
              "      <td>.</td>\n",
              "      <td>.</td>\n",
              "      <td>.</td>\n",
              "      <td>.</td>\n",
              "      <td>.</td>\n",
              "      <td>.</td>\n",
              "      <td>.</td>\n",
              "    </tr>\n",
              "    <tr>\n",
              "      <th>15785</th>\n",
              "      <td>15</td>\n",
              "      <td>100272044</td>\n",
              "      <td>100272044</td>\n",
              "      <td>T</td>\n",
              "      <td>C</td>\n",
              "      <td>exonic</td>\n",
              "      <td>LYSMD4</td>\n",
              "      <td>.</td>\n",
              "      <td>nonsynonymous SNV</td>\n",
              "      <td>LYSMD4:NM_001284417:exon2:c.A161G:p.E54G,LYSMD...</td>\n",
              "      <td>...</td>\n",
              "      <td>.</td>\n",
              "      <td>.</td>\n",
              "      <td>.</td>\n",
              "      <td>.</td>\n",
              "      <td>.</td>\n",
              "      <td>.</td>\n",
              "      <td>.</td>\n",
              "      <td>.</td>\n",
              "      <td>.</td>\n",
              "      <td>.</td>\n",
              "    </tr>\n",
              "    <tr>\n",
              "      <th>15786</th>\n",
              "      <td>13</td>\n",
              "      <td>21370323</td>\n",
              "      <td>21370323</td>\n",
              "      <td>G</td>\n",
              "      <td>A</td>\n",
              "      <td>exonic</td>\n",
              "      <td>XPO4</td>\n",
              "      <td>.</td>\n",
              "      <td>stopgain</td>\n",
              "      <td>XPO4:NM_001372061:exon18:c.C2689T:p.Q897X,XPO4...</td>\n",
              "      <td>...</td>\n",
              "      <td>.</td>\n",
              "      <td>.</td>\n",
              "      <td>.</td>\n",
              "      <td>.</td>\n",
              "      <td>.</td>\n",
              "      <td>.</td>\n",
              "      <td>.</td>\n",
              "      <td>.</td>\n",
              "      <td>.</td>\n",
              "      <td>.</td>\n",
              "    </tr>\n",
              "    <tr>\n",
              "      <th>15787</th>\n",
              "      <td>17</td>\n",
              "      <td>57093092</td>\n",
              "      <td>57093092</td>\n",
              "      <td>C</td>\n",
              "      <td>T</td>\n",
              "      <td>exonic</td>\n",
              "      <td>TRIM37</td>\n",
              "      <td>.</td>\n",
              "      <td>nonsynonymous SNV</td>\n",
              "      <td>TRIM37:NM_001353085:exon19:c.G1993A:p.G665S,TR...</td>\n",
              "      <td>...</td>\n",
              "      <td>.</td>\n",
              "      <td>4.064e-06</td>\n",
              "      <td>0</td>\n",
              "      <td>0</td>\n",
              "      <td>0</td>\n",
              "      <td>5.798e-05</td>\n",
              "      <td>0</td>\n",
              "      <td>0</td>\n",
              "      <td>0</td>\n",
              "      <td>0</td>\n",
              "    </tr>\n",
              "    <tr>\n",
              "      <th>15788</th>\n",
              "      <td>21</td>\n",
              "      <td>44273814</td>\n",
              "      <td>44273814</td>\n",
              "      <td>C</td>\n",
              "      <td>A</td>\n",
              "      <td>exonic</td>\n",
              "      <td>WDR4</td>\n",
              "      <td>.</td>\n",
              "      <td>nonsynonymous SNV</td>\n",
              "      <td>WDR4:NM_001260474:exon9:c.G837T:p.L279F,WDR4:N...</td>\n",
              "      <td>...</td>\n",
              "      <td>.</td>\n",
              "      <td>.</td>\n",
              "      <td>.</td>\n",
              "      <td>.</td>\n",
              "      <td>.</td>\n",
              "      <td>.</td>\n",
              "      <td>.</td>\n",
              "      <td>.</td>\n",
              "      <td>.</td>\n",
              "      <td>.</td>\n",
              "    </tr>\n",
              "  </tbody>\n",
              "</table>\n",
              "<p>5 rows × 70 columns</p>\n",
              "</div>\n",
              "      <button class=\"colab-df-convert\" onclick=\"convertToInteractive('df-4641df0f-8b3e-48a5-8f95-8618e19e5ccd')\"\n",
              "              title=\"Convert this dataframe to an interactive table.\"\n",
              "              style=\"display:none;\">\n",
              "        \n",
              "  <svg xmlns=\"http://www.w3.org/2000/svg\" height=\"24px\"viewBox=\"0 0 24 24\"\n",
              "       width=\"24px\">\n",
              "    <path d=\"M0 0h24v24H0V0z\" fill=\"none\"/>\n",
              "    <path d=\"M18.56 5.44l.94 2.06.94-2.06 2.06-.94-2.06-.94-.94-2.06-.94 2.06-2.06.94zm-11 1L8.5 8.5l.94-2.06 2.06-.94-2.06-.94L8.5 2.5l-.94 2.06-2.06.94zm10 10l.94 2.06.94-2.06 2.06-.94-2.06-.94-.94-2.06-.94 2.06-2.06.94z\"/><path d=\"M17.41 7.96l-1.37-1.37c-.4-.4-.92-.59-1.43-.59-.52 0-1.04.2-1.43.59L10.3 9.45l-7.72 7.72c-.78.78-.78 2.05 0 2.83L4 21.41c.39.39.9.59 1.41.59.51 0 1.02-.2 1.41-.59l7.78-7.78 2.81-2.81c.8-.78.8-2.07 0-2.86zM5.41 20L4 18.59l7.72-7.72 1.47 1.35L5.41 20z\"/>\n",
              "  </svg>\n",
              "      </button>\n",
              "      \n",
              "  <style>\n",
              "    .colab-df-container {\n",
              "      display:flex;\n",
              "      flex-wrap:wrap;\n",
              "      gap: 12px;\n",
              "    }\n",
              "\n",
              "    .colab-df-convert {\n",
              "      background-color: #E8F0FE;\n",
              "      border: none;\n",
              "      border-radius: 50%;\n",
              "      cursor: pointer;\n",
              "      display: none;\n",
              "      fill: #1967D2;\n",
              "      height: 32px;\n",
              "      padding: 0 0 0 0;\n",
              "      width: 32px;\n",
              "    }\n",
              "\n",
              "    .colab-df-convert:hover {\n",
              "      background-color: #E2EBFA;\n",
              "      box-shadow: 0px 1px 2px rgba(60, 64, 67, 0.3), 0px 1px 3px 1px rgba(60, 64, 67, 0.15);\n",
              "      fill: #174EA6;\n",
              "    }\n",
              "\n",
              "    [theme=dark] .colab-df-convert {\n",
              "      background-color: #3B4455;\n",
              "      fill: #D2E3FC;\n",
              "    }\n",
              "\n",
              "    [theme=dark] .colab-df-convert:hover {\n",
              "      background-color: #434B5C;\n",
              "      box-shadow: 0px 1px 3px 1px rgba(0, 0, 0, 0.15);\n",
              "      filter: drop-shadow(0px 1px 2px rgba(0, 0, 0, 0.3));\n",
              "      fill: #FFFFFF;\n",
              "    }\n",
              "  </style>\n",
              "\n",
              "      <script>\n",
              "        const buttonEl =\n",
              "          document.querySelector('#df-4641df0f-8b3e-48a5-8f95-8618e19e5ccd button.colab-df-convert');\n",
              "        buttonEl.style.display =\n",
              "          google.colab.kernel.accessAllowed ? 'block' : 'none';\n",
              "\n",
              "        async function convertToInteractive(key) {\n",
              "          const element = document.querySelector('#df-4641df0f-8b3e-48a5-8f95-8618e19e5ccd');\n",
              "          const dataTable =\n",
              "            await google.colab.kernel.invokeFunction('convertToInteractive',\n",
              "                                                     [key], {});\n",
              "          if (!dataTable) return;\n",
              "\n",
              "          const docLinkHtml = 'Like what you see? Visit the ' +\n",
              "            '<a target=\"_blank\" href=https://colab.research.google.com/notebooks/data_table.ipynb>data table notebook</a>'\n",
              "            + ' to learn more about interactive tables.';\n",
              "          element.innerHTML = '';\n",
              "          dataTable['output_type'] = 'display_data';\n",
              "          await google.colab.output.renderOutput(dataTable, element);\n",
              "          const docLink = document.createElement('div');\n",
              "          docLink.innerHTML = docLinkHtml;\n",
              "          element.appendChild(docLink);\n",
              "        }\n",
              "      </script>\n",
              "    </div>\n",
              "  </div>\n",
              "  "
            ]
          },
          "metadata": {},
          "execution_count": 27
        }
      ]
    },
    {
      "cell_type": "code",
      "source": [
        "df.to_excel('variantes_anotadas.xlsx')"
      ],
      "metadata": {
        "id": "5O_2mOtKhwW7"
      },
      "execution_count": 28,
      "outputs": []
    },
    {
      "cell_type": "markdown",
      "source": [
        "Junção da planilha com as variantes anotadas e da planilha com dados fenotípicos"
      ],
      "metadata": {
        "id": "npEukxCdNA3t"
      }
    },
    {
      "cell_type": "code",
      "source": [
        "# Ler as primeiras linhas do csv com as informações fenotípicas\n",
        "! head /content/drive/Shareddrives/T3-2021/Thais_Alves/Trabalho_Germinativas/Variantes_germinativas_tabelas.csv"
      ],
      "metadata": {
        "colab": {
          "base_uri": "https://localhost:8080/"
        },
        "id": "WBbvM0JKryZz",
        "outputId": "d87cf393-ad16-49e9-eb5f-37633ec11620"
      },
      "execution_count": 29,
      "outputs": [
        {
          "output_type": "stream",
          "name": "stdout",
          "text": [
            "﻿DataSet;Variant;Child_ID;Phenotype_ID;Dad_ID;Mom_ID;Child_Sex;Affected_Status\r\n",
            "ASC_v15_VCF;1:94049574:C:A;13069.s1;13069.s1;13069.fa;13069.mo;Male;1\r\n",
            "ASC_v15_VCF;10:114910883:G:A;35906;12090.p1;35900;35902;Female;2\r\n",
            "ASC_v15_VCF;12:116418553:A:AC;SSC05997;12969.p1;SSC06008;SSC06001;Male;2\r\n",
            "ASC_v15_VCF;9:14150143:C:T;36153;14385.p1;36147;36149;Female;2\r\n",
            "ASC_v15_VCF;11:66254814:G:A;AU190A;AU190A;AU190B;AU190C;Male;2\r\n",
            "ASC_v15_VCF;10:114901076:G:A;13069.p1;13069.p1;13069.fa;13069.mo;Male;2\r\n",
            "ASC_v15_VCF;14:93286182:G:C;SSC09117;13047.p1;SSC07740;SSC09122;Male;2\r\n",
            "ASC_v15_VCF;18:44603833:G:C;5929;11872.p1;5865;5897;Female;2\r\n",
            "ASC_v15_VCF;2:32168370:C:T;SSC08980;13630.p1;SSC08986;SSC08983;Male;2\r\n"
          ]
        }
      ]
    },
    {
      "cell_type": "code",
      "source": [
        "# Inserir a coluna Variant no arquivo de anotação\n",
        "# Fazer o merge entre dois arquivos através de dados em comum\n",
        "#df['Variant'] = df['Chr'] + ':' + df['Start'].astype(str) + ':' + df['Ref'] + ':' + df['Alt']\n",
        "df2 = pd.read_csv(\"/content/drive/Shareddrives/T3-2021/Thais_Alves/Trabalho_Germinativas/Variantes_germinativas_tabelas.csv\", sep=\";\")\n",
        "df3 = pd.concat([df,df2], axis=1)\n",
        "df3"
      ],
      "metadata": {
        "colab": {
          "base_uri": "https://localhost:8080/",
          "height": 487
        },
        "id": "yhz225N763In",
        "outputId": "164692f8-1718-4bff-e52d-965ee1c6f82d"
      },
      "execution_count": 32,
      "outputs": [
        {
          "output_type": "execute_result",
          "data": {
            "text/plain": [
              "      Chr      Start        End Ref Alt Func_refGene Gene_refGene  \\\n",
              "0       1   94049574   94049574   C   A     splicing        BCAR3   \n",
              "1      10  114910883  114910883   G   A     splicing       TCF7L2   \n",
              "2      12  116418553  116418554   A  AC            .            .   \n",
              "3       9   14150143   14150143   C   T     splicing         NFIB   \n",
              "4      11   66254814   66254814   G   A     splicing         DPP3   \n",
              "...    ..        ...        ...  ..  ..          ...          ...   \n",
              "15784   1   86173504   86173504   T   A       exonic       ZNHIT6   \n",
              "15785  15  100272044  100272044   T   C       exonic       LYSMD4   \n",
              "15786  13   21370323   21370323   G   A       exonic         XPO4   \n",
              "15787  17   57093092   57093092   C   T       exonic       TRIM37   \n",
              "15788  21   44273814   44273814   C   A       exonic         WDR4   \n",
              "\n",
              "                                      GeneDetail_refGene ExonicFunc_refGene  \\\n",
              "0      NM_003567:exon6:c.1033+1G>T;NM_001261410:exon4...                  .   \n",
              "1      NM_030756:exon8:c.932+1G>A;NM_001198529:exon8:...                  .   \n",
              "2                                                      .                  .   \n",
              "3      NM_001282787:exon4:c.50+1G>A;NM_001190738:exon...                  .   \n",
              "4      NM_005700:exon5:c.573+1G>A;NM_001256670:exon4:...                  .   \n",
              "...                                                  ...                ...   \n",
              "15784                                                  .  nonsynonymous SNV   \n",
              "15785                                                  .  nonsynonymous SNV   \n",
              "15786                                                  .           stopgain   \n",
              "15787                                                  .  nonsynonymous SNV   \n",
              "15788                                                  .  nonsynonymous SNV   \n",
              "\n",
              "                                        AAChange_refGene  ...  \\\n",
              "0                                                      .  ...   \n",
              "1                                                      .  ...   \n",
              "2                                                      .  ...   \n",
              "3                                                      .  ...   \n",
              "4                                                      .  ...   \n",
              "...                                                  ...  ...   \n",
              "15784  ZNHIT6:NM_017953:exon1:c.A464T:p.E155V,ZNHIT6:...  ...   \n",
              "15785  LYSMD4:NM_001284417:exon2:c.A161G:p.E54G,LYSMD...  ...   \n",
              "15786  XPO4:NM_001372061:exon18:c.C2689T:p.Q897X,XPO4...  ...   \n",
              "15787  TRIM37:NM_001353085:exon19:c.G1993A:p.G665S,TR...  ...   \n",
              "15788  WDR4:NM_001260474:exon9:c.G837T:p.L279F,WDR4:N...  ...   \n",
              "\n",
              "      gnomAD_exome_OTH gnomAD_exome_SAS                       DataSet  \\\n",
              "0                    .                .                   ASC_v15_VCF   \n",
              "1                    0                0                   ASC_v15_VCF   \n",
              "2                    .                .                   ASC_v15_VCF   \n",
              "3                    .                .                   ASC_v15_VCF   \n",
              "4                    .                .                   ASC_v15_VCF   \n",
              "...                ...              ...                           ...   \n",
              "15784                .                .         De_Rubeis_Nature_2014   \n",
              "15785                .                .  SSC_Krumm_NatureGenetics2015   \n",
              "15786                .                .  SSC_Krumm_NatureGenetics2015   \n",
              "15787                0                0              Werling_WGS_call   \n",
              "15788                .                .              Werling_WGS_call   \n",
              "\n",
              "                 Variant               Child_ID           Phenotype_ID  \\\n",
              "0         1:94049574:C:A               13069.s1               13069.s1   \n",
              "1       10:114910883:G:A                  35906               12090.p1   \n",
              "2      12:116418553:A:AC               SSC05997               12969.p1   \n",
              "3         9:14150143:C:T                  36153               14385.p1   \n",
              "4        11:66254814:G:A                 AU190A                 AU190A   \n",
              "...                  ...                    ...                    ...   \n",
              "15784     1:86173504:T:A  NDAR_INVXF966VTK_wes1  NDAR_INVXF966VTK_wes1   \n",
              "15785   15:100272044:T:C               12820.p1               12820.p1   \n",
              "15786    13:21370323:G:A               13017.p1               13017.p1   \n",
              "15787    17:57093092:C:T               13784.p1               13784.p1   \n",
              "15788    21:44273814:C:A               13961.p1               13961.p1   \n",
              "\n",
              "                      Dad_ID                 Mom_ID Child_Sex Affected_Status  \n",
              "0                   13069.fa               13069.mo      Male               1  \n",
              "1                      35900                  35902    Female               2  \n",
              "2                   SSC06008               SSC06001      Male               2  \n",
              "3                      36147                  36149    Female               2  \n",
              "4                     AU190B                 AU190C      Male               2  \n",
              "...                      ...                    ...       ...             ...  \n",
              "15784  NDAR_INVYC323JAF_wes1  NDAR_INVKR827HBV_wes1      Male               2  \n",
              "15785               12820.fa               12820.mo      Male               2  \n",
              "15786               13017.fa               13017.mo      Male               2  \n",
              "15787               13784.fa               13784.mo      Male               2  \n",
              "15788               13961.fa               13961.mo      Male               2  \n",
              "\n",
              "[15789 rows x 78 columns]"
            ],
            "text/html": [
              "\n",
              "  <div id=\"df-c1862a6e-f06b-413c-a4dc-ebf0f33bdaf5\">\n",
              "    <div class=\"colab-df-container\">\n",
              "      <div>\n",
              "<style scoped>\n",
              "    .dataframe tbody tr th:only-of-type {\n",
              "        vertical-align: middle;\n",
              "    }\n",
              "\n",
              "    .dataframe tbody tr th {\n",
              "        vertical-align: top;\n",
              "    }\n",
              "\n",
              "    .dataframe thead th {\n",
              "        text-align: right;\n",
              "    }\n",
              "</style>\n",
              "<table border=\"1\" class=\"dataframe\">\n",
              "  <thead>\n",
              "    <tr style=\"text-align: right;\">\n",
              "      <th></th>\n",
              "      <th>Chr</th>\n",
              "      <th>Start</th>\n",
              "      <th>End</th>\n",
              "      <th>Ref</th>\n",
              "      <th>Alt</th>\n",
              "      <th>Func_refGene</th>\n",
              "      <th>Gene_refGene</th>\n",
              "      <th>GeneDetail_refGene</th>\n",
              "      <th>ExonicFunc_refGene</th>\n",
              "      <th>AAChange_refGene</th>\n",
              "      <th>...</th>\n",
              "      <th>gnomAD_exome_OTH</th>\n",
              "      <th>gnomAD_exome_SAS</th>\n",
              "      <th>DataSet</th>\n",
              "      <th>Variant</th>\n",
              "      <th>Child_ID</th>\n",
              "      <th>Phenotype_ID</th>\n",
              "      <th>Dad_ID</th>\n",
              "      <th>Mom_ID</th>\n",
              "      <th>Child_Sex</th>\n",
              "      <th>Affected_Status</th>\n",
              "    </tr>\n",
              "  </thead>\n",
              "  <tbody>\n",
              "    <tr>\n",
              "      <th>0</th>\n",
              "      <td>1</td>\n",
              "      <td>94049574</td>\n",
              "      <td>94049574</td>\n",
              "      <td>C</td>\n",
              "      <td>A</td>\n",
              "      <td>splicing</td>\n",
              "      <td>BCAR3</td>\n",
              "      <td>NM_003567:exon6:c.1033+1G&gt;T;NM_001261410:exon4...</td>\n",
              "      <td>.</td>\n",
              "      <td>.</td>\n",
              "      <td>...</td>\n",
              "      <td>.</td>\n",
              "      <td>.</td>\n",
              "      <td>ASC_v15_VCF</td>\n",
              "      <td>1:94049574:C:A</td>\n",
              "      <td>13069.s1</td>\n",
              "      <td>13069.s1</td>\n",
              "      <td>13069.fa</td>\n",
              "      <td>13069.mo</td>\n",
              "      <td>Male</td>\n",
              "      <td>1</td>\n",
              "    </tr>\n",
              "    <tr>\n",
              "      <th>1</th>\n",
              "      <td>10</td>\n",
              "      <td>114910883</td>\n",
              "      <td>114910883</td>\n",
              "      <td>G</td>\n",
              "      <td>A</td>\n",
              "      <td>splicing</td>\n",
              "      <td>TCF7L2</td>\n",
              "      <td>NM_030756:exon8:c.932+1G&gt;A;NM_001198529:exon8:...</td>\n",
              "      <td>.</td>\n",
              "      <td>.</td>\n",
              "      <td>...</td>\n",
              "      <td>0</td>\n",
              "      <td>0</td>\n",
              "      <td>ASC_v15_VCF</td>\n",
              "      <td>10:114910883:G:A</td>\n",
              "      <td>35906</td>\n",
              "      <td>12090.p1</td>\n",
              "      <td>35900</td>\n",
              "      <td>35902</td>\n",
              "      <td>Female</td>\n",
              "      <td>2</td>\n",
              "    </tr>\n",
              "    <tr>\n",
              "      <th>2</th>\n",
              "      <td>12</td>\n",
              "      <td>116418553</td>\n",
              "      <td>116418554</td>\n",
              "      <td>A</td>\n",
              "      <td>AC</td>\n",
              "      <td>.</td>\n",
              "      <td>.</td>\n",
              "      <td>.</td>\n",
              "      <td>.</td>\n",
              "      <td>.</td>\n",
              "      <td>...</td>\n",
              "      <td>.</td>\n",
              "      <td>.</td>\n",
              "      <td>ASC_v15_VCF</td>\n",
              "      <td>12:116418553:A:AC</td>\n",
              "      <td>SSC05997</td>\n",
              "      <td>12969.p1</td>\n",
              "      <td>SSC06008</td>\n",
              "      <td>SSC06001</td>\n",
              "      <td>Male</td>\n",
              "      <td>2</td>\n",
              "    </tr>\n",
              "    <tr>\n",
              "      <th>3</th>\n",
              "      <td>9</td>\n",
              "      <td>14150143</td>\n",
              "      <td>14150143</td>\n",
              "      <td>C</td>\n",
              "      <td>T</td>\n",
              "      <td>splicing</td>\n",
              "      <td>NFIB</td>\n",
              "      <td>NM_001282787:exon4:c.50+1G&gt;A;NM_001190738:exon...</td>\n",
              "      <td>.</td>\n",
              "      <td>.</td>\n",
              "      <td>...</td>\n",
              "      <td>.</td>\n",
              "      <td>.</td>\n",
              "      <td>ASC_v15_VCF</td>\n",
              "      <td>9:14150143:C:T</td>\n",
              "      <td>36153</td>\n",
              "      <td>14385.p1</td>\n",
              "      <td>36147</td>\n",
              "      <td>36149</td>\n",
              "      <td>Female</td>\n",
              "      <td>2</td>\n",
              "    </tr>\n",
              "    <tr>\n",
              "      <th>4</th>\n",
              "      <td>11</td>\n",
              "      <td>66254814</td>\n",
              "      <td>66254814</td>\n",
              "      <td>G</td>\n",
              "      <td>A</td>\n",
              "      <td>splicing</td>\n",
              "      <td>DPP3</td>\n",
              "      <td>NM_005700:exon5:c.573+1G&gt;A;NM_001256670:exon4:...</td>\n",
              "      <td>.</td>\n",
              "      <td>.</td>\n",
              "      <td>...</td>\n",
              "      <td>.</td>\n",
              "      <td>.</td>\n",
              "      <td>ASC_v15_VCF</td>\n",
              "      <td>11:66254814:G:A</td>\n",
              "      <td>AU190A</td>\n",
              "      <td>AU190A</td>\n",
              "      <td>AU190B</td>\n",
              "      <td>AU190C</td>\n",
              "      <td>Male</td>\n",
              "      <td>2</td>\n",
              "    </tr>\n",
              "    <tr>\n",
              "      <th>...</th>\n",
              "      <td>...</td>\n",
              "      <td>...</td>\n",
              "      <td>...</td>\n",
              "      <td>...</td>\n",
              "      <td>...</td>\n",
              "      <td>...</td>\n",
              "      <td>...</td>\n",
              "      <td>...</td>\n",
              "      <td>...</td>\n",
              "      <td>...</td>\n",
              "      <td>...</td>\n",
              "      <td>...</td>\n",
              "      <td>...</td>\n",
              "      <td>...</td>\n",
              "      <td>...</td>\n",
              "      <td>...</td>\n",
              "      <td>...</td>\n",
              "      <td>...</td>\n",
              "      <td>...</td>\n",
              "      <td>...</td>\n",
              "      <td>...</td>\n",
              "    </tr>\n",
              "    <tr>\n",
              "      <th>15784</th>\n",
              "      <td>1</td>\n",
              "      <td>86173504</td>\n",
              "      <td>86173504</td>\n",
              "      <td>T</td>\n",
              "      <td>A</td>\n",
              "      <td>exonic</td>\n",
              "      <td>ZNHIT6</td>\n",
              "      <td>.</td>\n",
              "      <td>nonsynonymous SNV</td>\n",
              "      <td>ZNHIT6:NM_017953:exon1:c.A464T:p.E155V,ZNHIT6:...</td>\n",
              "      <td>...</td>\n",
              "      <td>.</td>\n",
              "      <td>.</td>\n",
              "      <td>De_Rubeis_Nature_2014</td>\n",
              "      <td>1:86173504:T:A</td>\n",
              "      <td>NDAR_INVXF966VTK_wes1</td>\n",
              "      <td>NDAR_INVXF966VTK_wes1</td>\n",
              "      <td>NDAR_INVYC323JAF_wes1</td>\n",
              "      <td>NDAR_INVKR827HBV_wes1</td>\n",
              "      <td>Male</td>\n",
              "      <td>2</td>\n",
              "    </tr>\n",
              "    <tr>\n",
              "      <th>15785</th>\n",
              "      <td>15</td>\n",
              "      <td>100272044</td>\n",
              "      <td>100272044</td>\n",
              "      <td>T</td>\n",
              "      <td>C</td>\n",
              "      <td>exonic</td>\n",
              "      <td>LYSMD4</td>\n",
              "      <td>.</td>\n",
              "      <td>nonsynonymous SNV</td>\n",
              "      <td>LYSMD4:NM_001284417:exon2:c.A161G:p.E54G,LYSMD...</td>\n",
              "      <td>...</td>\n",
              "      <td>.</td>\n",
              "      <td>.</td>\n",
              "      <td>SSC_Krumm_NatureGenetics2015</td>\n",
              "      <td>15:100272044:T:C</td>\n",
              "      <td>12820.p1</td>\n",
              "      <td>12820.p1</td>\n",
              "      <td>12820.fa</td>\n",
              "      <td>12820.mo</td>\n",
              "      <td>Male</td>\n",
              "      <td>2</td>\n",
              "    </tr>\n",
              "    <tr>\n",
              "      <th>15786</th>\n",
              "      <td>13</td>\n",
              "      <td>21370323</td>\n",
              "      <td>21370323</td>\n",
              "      <td>G</td>\n",
              "      <td>A</td>\n",
              "      <td>exonic</td>\n",
              "      <td>XPO4</td>\n",
              "      <td>.</td>\n",
              "      <td>stopgain</td>\n",
              "      <td>XPO4:NM_001372061:exon18:c.C2689T:p.Q897X,XPO4...</td>\n",
              "      <td>...</td>\n",
              "      <td>.</td>\n",
              "      <td>.</td>\n",
              "      <td>SSC_Krumm_NatureGenetics2015</td>\n",
              "      <td>13:21370323:G:A</td>\n",
              "      <td>13017.p1</td>\n",
              "      <td>13017.p1</td>\n",
              "      <td>13017.fa</td>\n",
              "      <td>13017.mo</td>\n",
              "      <td>Male</td>\n",
              "      <td>2</td>\n",
              "    </tr>\n",
              "    <tr>\n",
              "      <th>15787</th>\n",
              "      <td>17</td>\n",
              "      <td>57093092</td>\n",
              "      <td>57093092</td>\n",
              "      <td>C</td>\n",
              "      <td>T</td>\n",
              "      <td>exonic</td>\n",
              "      <td>TRIM37</td>\n",
              "      <td>.</td>\n",
              "      <td>nonsynonymous SNV</td>\n",
              "      <td>TRIM37:NM_001353085:exon19:c.G1993A:p.G665S,TR...</td>\n",
              "      <td>...</td>\n",
              "      <td>0</td>\n",
              "      <td>0</td>\n",
              "      <td>Werling_WGS_call</td>\n",
              "      <td>17:57093092:C:T</td>\n",
              "      <td>13784.p1</td>\n",
              "      <td>13784.p1</td>\n",
              "      <td>13784.fa</td>\n",
              "      <td>13784.mo</td>\n",
              "      <td>Male</td>\n",
              "      <td>2</td>\n",
              "    </tr>\n",
              "    <tr>\n",
              "      <th>15788</th>\n",
              "      <td>21</td>\n",
              "      <td>44273814</td>\n",
              "      <td>44273814</td>\n",
              "      <td>C</td>\n",
              "      <td>A</td>\n",
              "      <td>exonic</td>\n",
              "      <td>WDR4</td>\n",
              "      <td>.</td>\n",
              "      <td>nonsynonymous SNV</td>\n",
              "      <td>WDR4:NM_001260474:exon9:c.G837T:p.L279F,WDR4:N...</td>\n",
              "      <td>...</td>\n",
              "      <td>.</td>\n",
              "      <td>.</td>\n",
              "      <td>Werling_WGS_call</td>\n",
              "      <td>21:44273814:C:A</td>\n",
              "      <td>13961.p1</td>\n",
              "      <td>13961.p1</td>\n",
              "      <td>13961.fa</td>\n",
              "      <td>13961.mo</td>\n",
              "      <td>Male</td>\n",
              "      <td>2</td>\n",
              "    </tr>\n",
              "  </tbody>\n",
              "</table>\n",
              "<p>15789 rows × 78 columns</p>\n",
              "</div>\n",
              "      <button class=\"colab-df-convert\" onclick=\"convertToInteractive('df-c1862a6e-f06b-413c-a4dc-ebf0f33bdaf5')\"\n",
              "              title=\"Convert this dataframe to an interactive table.\"\n",
              "              style=\"display:none;\">\n",
              "        \n",
              "  <svg xmlns=\"http://www.w3.org/2000/svg\" height=\"24px\"viewBox=\"0 0 24 24\"\n",
              "       width=\"24px\">\n",
              "    <path d=\"M0 0h24v24H0V0z\" fill=\"none\"/>\n",
              "    <path d=\"M18.56 5.44l.94 2.06.94-2.06 2.06-.94-2.06-.94-.94-2.06-.94 2.06-2.06.94zm-11 1L8.5 8.5l.94-2.06 2.06-.94-2.06-.94L8.5 2.5l-.94 2.06-2.06.94zm10 10l.94 2.06.94-2.06 2.06-.94-2.06-.94-.94-2.06-.94 2.06-2.06.94z\"/><path d=\"M17.41 7.96l-1.37-1.37c-.4-.4-.92-.59-1.43-.59-.52 0-1.04.2-1.43.59L10.3 9.45l-7.72 7.72c-.78.78-.78 2.05 0 2.83L4 21.41c.39.39.9.59 1.41.59.51 0 1.02-.2 1.41-.59l7.78-7.78 2.81-2.81c.8-.78.8-2.07 0-2.86zM5.41 20L4 18.59l7.72-7.72 1.47 1.35L5.41 20z\"/>\n",
              "  </svg>\n",
              "      </button>\n",
              "      \n",
              "  <style>\n",
              "    .colab-df-container {\n",
              "      display:flex;\n",
              "      flex-wrap:wrap;\n",
              "      gap: 12px;\n",
              "    }\n",
              "\n",
              "    .colab-df-convert {\n",
              "      background-color: #E8F0FE;\n",
              "      border: none;\n",
              "      border-radius: 50%;\n",
              "      cursor: pointer;\n",
              "      display: none;\n",
              "      fill: #1967D2;\n",
              "      height: 32px;\n",
              "      padding: 0 0 0 0;\n",
              "      width: 32px;\n",
              "    }\n",
              "\n",
              "    .colab-df-convert:hover {\n",
              "      background-color: #E2EBFA;\n",
              "      box-shadow: 0px 1px 2px rgba(60, 64, 67, 0.3), 0px 1px 3px 1px rgba(60, 64, 67, 0.15);\n",
              "      fill: #174EA6;\n",
              "    }\n",
              "\n",
              "    [theme=dark] .colab-df-convert {\n",
              "      background-color: #3B4455;\n",
              "      fill: #D2E3FC;\n",
              "    }\n",
              "\n",
              "    [theme=dark] .colab-df-convert:hover {\n",
              "      background-color: #434B5C;\n",
              "      box-shadow: 0px 1px 3px 1px rgba(0, 0, 0, 0.15);\n",
              "      filter: drop-shadow(0px 1px 2px rgba(0, 0, 0, 0.3));\n",
              "      fill: #FFFFFF;\n",
              "    }\n",
              "  </style>\n",
              "\n",
              "      <script>\n",
              "        const buttonEl =\n",
              "          document.querySelector('#df-c1862a6e-f06b-413c-a4dc-ebf0f33bdaf5 button.colab-df-convert');\n",
              "        buttonEl.style.display =\n",
              "          google.colab.kernel.accessAllowed ? 'block' : 'none';\n",
              "\n",
              "        async function convertToInteractive(key) {\n",
              "          const element = document.querySelector('#df-c1862a6e-f06b-413c-a4dc-ebf0f33bdaf5');\n",
              "          const dataTable =\n",
              "            await google.colab.kernel.invokeFunction('convertToInteractive',\n",
              "                                                     [key], {});\n",
              "          if (!dataTable) return;\n",
              "\n",
              "          const docLinkHtml = 'Like what you see? Visit the ' +\n",
              "            '<a target=\"_blank\" href=https://colab.research.google.com/notebooks/data_table.ipynb>data table notebook</a>'\n",
              "            + ' to learn more about interactive tables.';\n",
              "          element.innerHTML = '';\n",
              "          dataTable['output_type'] = 'display_data';\n",
              "          await google.colab.output.renderOutput(dataTable, element);\n",
              "          const docLink = document.createElement('div');\n",
              "          docLink.innerHTML = docLinkHtml;\n",
              "          element.appendChild(docLink);\n",
              "        }\n",
              "      </script>\n",
              "    </div>\n",
              "  </div>\n",
              "  "
            ]
          },
          "metadata": {},
          "execution_count": 32
        }
      ]
    },
    {
      "cell_type": "markdown",
      "source": [
        "Análise da categoria funcional"
      ],
      "metadata": {
        "id": "d4mogXddSsqy"
      }
    },
    {
      "cell_type": "code",
      "source": [
        "df3['Func_refGene'].value_counts()"
      ],
      "metadata": {
        "colab": {
          "base_uri": "https://localhost:8080/"
        },
        "id": "iUdtCtJqvsVl",
        "outputId": "eb00f9a8-d0fc-452a-e10a-b5f209d89eba"
      },
      "execution_count": 33,
      "outputs": [
        {
          "output_type": "execute_result",
          "data": {
            "text/plain": [
              "exonic                   9468\n",
              "intronic                 3568\n",
              ".                        1437\n",
              "intergenic                389\n",
              "UTR3                      232\n",
              "ncRNA_exonic              166\n",
              "splicing                  163\n",
              "UTR5                      163\n",
              "ncRNA_intronic            154\n",
              "upstream                   30\n",
              "downstream                  9\n",
              "exonic;splicing             5\n",
              "UTR5;UTR3                   2\n",
              "ncRNA_exonic;splicing       1\n",
              "ncRNA_splicing              1\n",
              "upstream;downstream         1\n",
              "Name: Func_refGene, dtype: int64"
            ]
          },
          "metadata": {},
          "execution_count": 33
        }
      ]
    },
    {
      "cell_type": "code",
      "source": [
        "df3['ExonicFunc_refGene'].value_counts()"
      ],
      "metadata": {
        "colab": {
          "base_uri": "https://localhost:8080/"
        },
        "id": "Xy0Jz3Lmv9xa",
        "outputId": "543cad72-c5b5-474d-adc0-3bda7897983a"
      },
      "execution_count": 34,
      "outputs": [
        {
          "output_type": "execute_result",
          "data": {
            "text/plain": [
              "nonsynonymous SNV    6427\n",
              ".                    6316\n",
              "synonymous SNV       2479\n",
              "stopgain              459\n",
              "unknown                85\n",
              "startloss              19\n",
              "stoploss                4\n",
              "Name: ExonicFunc_refGene, dtype: int64"
            ]
          },
          "metadata": {},
          "execution_count": 34
        }
      ]
    },
    {
      "cell_type": "code",
      "source": [
        "df3['Affected_Status'].value_counts()"
      ],
      "metadata": {
        "colab": {
          "base_uri": "https://localhost:8080/"
        },
        "id": "bKyye2qGxVMw",
        "outputId": "87db5534-fe7c-4500-ceac-645675856e72"
      },
      "execution_count": 35,
      "outputs": [
        {
          "output_type": "execute_result",
          "data": {
            "text/plain": [
              "2    12166\n",
              "1     3623\n",
              "Name: Affected_Status, dtype: int64"
            ]
          },
          "metadata": {},
          "execution_count": 35
        }
      ]
    },
    {
      "cell_type": "code",
      "source": [
        "df3[[\"Func_refGene\", \"ExonicFunc_refGene\"]].describe()"
      ],
      "metadata": {
        "colab": {
          "base_uri": "https://localhost:8080/",
          "height": 175
        },
        "id": "mgmxnKrfdV1t",
        "outputId": "51642d8a-4bf4-4722-c9b9-1294c5cd90cb"
      },
      "execution_count": 36,
      "outputs": [
        {
          "output_type": "execute_result",
          "data": {
            "text/plain": [
              "       Func_refGene ExonicFunc_refGene\n",
              "count         15789              15789\n",
              "unique           16                  7\n",
              "top          exonic  nonsynonymous SNV\n",
              "freq           9468               6427"
            ],
            "text/html": [
              "\n",
              "  <div id=\"df-be435e87-3457-4070-a707-44d13f3e180c\">\n",
              "    <div class=\"colab-df-container\">\n",
              "      <div>\n",
              "<style scoped>\n",
              "    .dataframe tbody tr th:only-of-type {\n",
              "        vertical-align: middle;\n",
              "    }\n",
              "\n",
              "    .dataframe tbody tr th {\n",
              "        vertical-align: top;\n",
              "    }\n",
              "\n",
              "    .dataframe thead th {\n",
              "        text-align: right;\n",
              "    }\n",
              "</style>\n",
              "<table border=\"1\" class=\"dataframe\">\n",
              "  <thead>\n",
              "    <tr style=\"text-align: right;\">\n",
              "      <th></th>\n",
              "      <th>Func_refGene</th>\n",
              "      <th>ExonicFunc_refGene</th>\n",
              "    </tr>\n",
              "  </thead>\n",
              "  <tbody>\n",
              "    <tr>\n",
              "      <th>count</th>\n",
              "      <td>15789</td>\n",
              "      <td>15789</td>\n",
              "    </tr>\n",
              "    <tr>\n",
              "      <th>unique</th>\n",
              "      <td>16</td>\n",
              "      <td>7</td>\n",
              "    </tr>\n",
              "    <tr>\n",
              "      <th>top</th>\n",
              "      <td>exonic</td>\n",
              "      <td>nonsynonymous SNV</td>\n",
              "    </tr>\n",
              "    <tr>\n",
              "      <th>freq</th>\n",
              "      <td>9468</td>\n",
              "      <td>6427</td>\n",
              "    </tr>\n",
              "  </tbody>\n",
              "</table>\n",
              "</div>\n",
              "      <button class=\"colab-df-convert\" onclick=\"convertToInteractive('df-be435e87-3457-4070-a707-44d13f3e180c')\"\n",
              "              title=\"Convert this dataframe to an interactive table.\"\n",
              "              style=\"display:none;\">\n",
              "        \n",
              "  <svg xmlns=\"http://www.w3.org/2000/svg\" height=\"24px\"viewBox=\"0 0 24 24\"\n",
              "       width=\"24px\">\n",
              "    <path d=\"M0 0h24v24H0V0z\" fill=\"none\"/>\n",
              "    <path d=\"M18.56 5.44l.94 2.06.94-2.06 2.06-.94-2.06-.94-.94-2.06-.94 2.06-2.06.94zm-11 1L8.5 8.5l.94-2.06 2.06-.94-2.06-.94L8.5 2.5l-.94 2.06-2.06.94zm10 10l.94 2.06.94-2.06 2.06-.94-2.06-.94-.94-2.06-.94 2.06-2.06.94z\"/><path d=\"M17.41 7.96l-1.37-1.37c-.4-.4-.92-.59-1.43-.59-.52 0-1.04.2-1.43.59L10.3 9.45l-7.72 7.72c-.78.78-.78 2.05 0 2.83L4 21.41c.39.39.9.59 1.41.59.51 0 1.02-.2 1.41-.59l7.78-7.78 2.81-2.81c.8-.78.8-2.07 0-2.86zM5.41 20L4 18.59l7.72-7.72 1.47 1.35L5.41 20z\"/>\n",
              "  </svg>\n",
              "      </button>\n",
              "      \n",
              "  <style>\n",
              "    .colab-df-container {\n",
              "      display:flex;\n",
              "      flex-wrap:wrap;\n",
              "      gap: 12px;\n",
              "    }\n",
              "\n",
              "    .colab-df-convert {\n",
              "      background-color: #E8F0FE;\n",
              "      border: none;\n",
              "      border-radius: 50%;\n",
              "      cursor: pointer;\n",
              "      display: none;\n",
              "      fill: #1967D2;\n",
              "      height: 32px;\n",
              "      padding: 0 0 0 0;\n",
              "      width: 32px;\n",
              "    }\n",
              "\n",
              "    .colab-df-convert:hover {\n",
              "      background-color: #E2EBFA;\n",
              "      box-shadow: 0px 1px 2px rgba(60, 64, 67, 0.3), 0px 1px 3px 1px rgba(60, 64, 67, 0.15);\n",
              "      fill: #174EA6;\n",
              "    }\n",
              "\n",
              "    [theme=dark] .colab-df-convert {\n",
              "      background-color: #3B4455;\n",
              "      fill: #D2E3FC;\n",
              "    }\n",
              "\n",
              "    [theme=dark] .colab-df-convert:hover {\n",
              "      background-color: #434B5C;\n",
              "      box-shadow: 0px 1px 3px 1px rgba(0, 0, 0, 0.15);\n",
              "      filter: drop-shadow(0px 1px 2px rgba(0, 0, 0, 0.3));\n",
              "      fill: #FFFFFF;\n",
              "    }\n",
              "  </style>\n",
              "\n",
              "      <script>\n",
              "        const buttonEl =\n",
              "          document.querySelector('#df-be435e87-3457-4070-a707-44d13f3e180c button.colab-df-convert');\n",
              "        buttonEl.style.display =\n",
              "          google.colab.kernel.accessAllowed ? 'block' : 'none';\n",
              "\n",
              "        async function convertToInteractive(key) {\n",
              "          const element = document.querySelector('#df-be435e87-3457-4070-a707-44d13f3e180c');\n",
              "          const dataTable =\n",
              "            await google.colab.kernel.invokeFunction('convertToInteractive',\n",
              "                                                     [key], {});\n",
              "          if (!dataTable) return;\n",
              "\n",
              "          const docLinkHtml = 'Like what you see? Visit the ' +\n",
              "            '<a target=\"_blank\" href=https://colab.research.google.com/notebooks/data_table.ipynb>data table notebook</a>'\n",
              "            + ' to learn more about interactive tables.';\n",
              "          element.innerHTML = '';\n",
              "          dataTable['output_type'] = 'display_data';\n",
              "          await google.colab.output.renderOutput(dataTable, element);\n",
              "          const docLink = document.createElement('div');\n",
              "          docLink.innerHTML = docLinkHtml;\n",
              "          element.appendChild(docLink);\n",
              "        }\n",
              "      </script>\n",
              "    </div>\n",
              "  </div>\n",
              "  "
            ]
          },
          "metadata": {},
          "execution_count": 36
        }
      ]
    },
    {
      "cell_type": "markdown",
      "source": [
        "Filtrar as variantes de interesse clínico"
      ],
      "metadata": {
        "id": "gyAcmdWDstxy"
      }
    },
    {
      "cell_type": "code",
      "source": [
        " df_exonic = df3.query(\"Func_refGene == 'exonic' or Func_refGene == 'ncRNA_exonic' or Func_refGene == 'splicing' or Func_refGene == 'exonic;splicing' or Func_refGene == 'ncRNA_exonic;splicing' or Func_refGene == 'ncRNA_splicing'\")\n",
        " df_exonic.head()"
      ],
      "metadata": {
        "colab": {
          "base_uri": "https://localhost:8080/",
          "height": 299
        },
        "id": "fur-78u1sxCI",
        "outputId": "df1d1519-6dfa-43ee-e27e-b7a863230ac8"
      },
      "execution_count": 37,
      "outputs": [
        {
          "output_type": "execute_result",
          "data": {
            "text/plain": [
              "  Chr      Start        End Ref Alt Func_refGene Gene_refGene  \\\n",
              "0   1   94049574   94049574   C   A     splicing        BCAR3   \n",
              "1  10  114910883  114910883   G   A     splicing       TCF7L2   \n",
              "3   9   14150143   14150143   C   T     splicing         NFIB   \n",
              "4  11   66254814   66254814   G   A     splicing         DPP3   \n",
              "5  10  114901076  114901076   G   A     splicing       TCF7L2   \n",
              "\n",
              "                                  GeneDetail_refGene ExonicFunc_refGene  \\\n",
              "0  NM_003567:exon6:c.1033+1G>T;NM_001261410:exon4...                  .   \n",
              "1  NM_030756:exon8:c.932+1G>A;NM_001198529:exon8:...                  .   \n",
              "3  NM_001282787:exon4:c.50+1G>A;NM_001190738:exon...                  .   \n",
              "4  NM_005700:exon5:c.573+1G>A;NM_001256670:exon4:...                  .   \n",
              "5  NM_030756:exon5:c.616+1G>A;NM_001198529:exon5:...                  .   \n",
              "\n",
              "  AAChange_refGene  ... gnomAD_exome_OTH gnomAD_exome_SAS      DataSet  \\\n",
              "0                .  ...                .                .  ASC_v15_VCF   \n",
              "1                .  ...                0                0  ASC_v15_VCF   \n",
              "3                .  ...                .                .  ASC_v15_VCF   \n",
              "4                .  ...                .                .  ASC_v15_VCF   \n",
              "5                .  ...                .                .  ASC_v15_VCF   \n",
              "\n",
              "            Variant  Child_ID Phenotype_ID    Dad_ID    Mom_ID Child_Sex  \\\n",
              "0    1:94049574:C:A  13069.s1     13069.s1  13069.fa  13069.mo      Male   \n",
              "1  10:114910883:G:A     35906     12090.p1     35900     35902    Female   \n",
              "3    9:14150143:C:T     36153     14385.p1     36147     36149    Female   \n",
              "4   11:66254814:G:A    AU190A       AU190A    AU190B    AU190C      Male   \n",
              "5  10:114901076:G:A  13069.p1     13069.p1  13069.fa  13069.mo      Male   \n",
              "\n",
              "  Affected_Status  \n",
              "0               1  \n",
              "1               2  \n",
              "3               2  \n",
              "4               2  \n",
              "5               2  \n",
              "\n",
              "[5 rows x 78 columns]"
            ],
            "text/html": [
              "\n",
              "  <div id=\"df-d84a5da7-5f64-4748-b90e-7a552fdf2e35\">\n",
              "    <div class=\"colab-df-container\">\n",
              "      <div>\n",
              "<style scoped>\n",
              "    .dataframe tbody tr th:only-of-type {\n",
              "        vertical-align: middle;\n",
              "    }\n",
              "\n",
              "    .dataframe tbody tr th {\n",
              "        vertical-align: top;\n",
              "    }\n",
              "\n",
              "    .dataframe thead th {\n",
              "        text-align: right;\n",
              "    }\n",
              "</style>\n",
              "<table border=\"1\" class=\"dataframe\">\n",
              "  <thead>\n",
              "    <tr style=\"text-align: right;\">\n",
              "      <th></th>\n",
              "      <th>Chr</th>\n",
              "      <th>Start</th>\n",
              "      <th>End</th>\n",
              "      <th>Ref</th>\n",
              "      <th>Alt</th>\n",
              "      <th>Func_refGene</th>\n",
              "      <th>Gene_refGene</th>\n",
              "      <th>GeneDetail_refGene</th>\n",
              "      <th>ExonicFunc_refGene</th>\n",
              "      <th>AAChange_refGene</th>\n",
              "      <th>...</th>\n",
              "      <th>gnomAD_exome_OTH</th>\n",
              "      <th>gnomAD_exome_SAS</th>\n",
              "      <th>DataSet</th>\n",
              "      <th>Variant</th>\n",
              "      <th>Child_ID</th>\n",
              "      <th>Phenotype_ID</th>\n",
              "      <th>Dad_ID</th>\n",
              "      <th>Mom_ID</th>\n",
              "      <th>Child_Sex</th>\n",
              "      <th>Affected_Status</th>\n",
              "    </tr>\n",
              "  </thead>\n",
              "  <tbody>\n",
              "    <tr>\n",
              "      <th>0</th>\n",
              "      <td>1</td>\n",
              "      <td>94049574</td>\n",
              "      <td>94049574</td>\n",
              "      <td>C</td>\n",
              "      <td>A</td>\n",
              "      <td>splicing</td>\n",
              "      <td>BCAR3</td>\n",
              "      <td>NM_003567:exon6:c.1033+1G&gt;T;NM_001261410:exon4...</td>\n",
              "      <td>.</td>\n",
              "      <td>.</td>\n",
              "      <td>...</td>\n",
              "      <td>.</td>\n",
              "      <td>.</td>\n",
              "      <td>ASC_v15_VCF</td>\n",
              "      <td>1:94049574:C:A</td>\n",
              "      <td>13069.s1</td>\n",
              "      <td>13069.s1</td>\n",
              "      <td>13069.fa</td>\n",
              "      <td>13069.mo</td>\n",
              "      <td>Male</td>\n",
              "      <td>1</td>\n",
              "    </tr>\n",
              "    <tr>\n",
              "      <th>1</th>\n",
              "      <td>10</td>\n",
              "      <td>114910883</td>\n",
              "      <td>114910883</td>\n",
              "      <td>G</td>\n",
              "      <td>A</td>\n",
              "      <td>splicing</td>\n",
              "      <td>TCF7L2</td>\n",
              "      <td>NM_030756:exon8:c.932+1G&gt;A;NM_001198529:exon8:...</td>\n",
              "      <td>.</td>\n",
              "      <td>.</td>\n",
              "      <td>...</td>\n",
              "      <td>0</td>\n",
              "      <td>0</td>\n",
              "      <td>ASC_v15_VCF</td>\n",
              "      <td>10:114910883:G:A</td>\n",
              "      <td>35906</td>\n",
              "      <td>12090.p1</td>\n",
              "      <td>35900</td>\n",
              "      <td>35902</td>\n",
              "      <td>Female</td>\n",
              "      <td>2</td>\n",
              "    </tr>\n",
              "    <tr>\n",
              "      <th>3</th>\n",
              "      <td>9</td>\n",
              "      <td>14150143</td>\n",
              "      <td>14150143</td>\n",
              "      <td>C</td>\n",
              "      <td>T</td>\n",
              "      <td>splicing</td>\n",
              "      <td>NFIB</td>\n",
              "      <td>NM_001282787:exon4:c.50+1G&gt;A;NM_001190738:exon...</td>\n",
              "      <td>.</td>\n",
              "      <td>.</td>\n",
              "      <td>...</td>\n",
              "      <td>.</td>\n",
              "      <td>.</td>\n",
              "      <td>ASC_v15_VCF</td>\n",
              "      <td>9:14150143:C:T</td>\n",
              "      <td>36153</td>\n",
              "      <td>14385.p1</td>\n",
              "      <td>36147</td>\n",
              "      <td>36149</td>\n",
              "      <td>Female</td>\n",
              "      <td>2</td>\n",
              "    </tr>\n",
              "    <tr>\n",
              "      <th>4</th>\n",
              "      <td>11</td>\n",
              "      <td>66254814</td>\n",
              "      <td>66254814</td>\n",
              "      <td>G</td>\n",
              "      <td>A</td>\n",
              "      <td>splicing</td>\n",
              "      <td>DPP3</td>\n",
              "      <td>NM_005700:exon5:c.573+1G&gt;A;NM_001256670:exon4:...</td>\n",
              "      <td>.</td>\n",
              "      <td>.</td>\n",
              "      <td>...</td>\n",
              "      <td>.</td>\n",
              "      <td>.</td>\n",
              "      <td>ASC_v15_VCF</td>\n",
              "      <td>11:66254814:G:A</td>\n",
              "      <td>AU190A</td>\n",
              "      <td>AU190A</td>\n",
              "      <td>AU190B</td>\n",
              "      <td>AU190C</td>\n",
              "      <td>Male</td>\n",
              "      <td>2</td>\n",
              "    </tr>\n",
              "    <tr>\n",
              "      <th>5</th>\n",
              "      <td>10</td>\n",
              "      <td>114901076</td>\n",
              "      <td>114901076</td>\n",
              "      <td>G</td>\n",
              "      <td>A</td>\n",
              "      <td>splicing</td>\n",
              "      <td>TCF7L2</td>\n",
              "      <td>NM_030756:exon5:c.616+1G&gt;A;NM_001198529:exon5:...</td>\n",
              "      <td>.</td>\n",
              "      <td>.</td>\n",
              "      <td>...</td>\n",
              "      <td>.</td>\n",
              "      <td>.</td>\n",
              "      <td>ASC_v15_VCF</td>\n",
              "      <td>10:114901076:G:A</td>\n",
              "      <td>13069.p1</td>\n",
              "      <td>13069.p1</td>\n",
              "      <td>13069.fa</td>\n",
              "      <td>13069.mo</td>\n",
              "      <td>Male</td>\n",
              "      <td>2</td>\n",
              "    </tr>\n",
              "  </tbody>\n",
              "</table>\n",
              "<p>5 rows × 78 columns</p>\n",
              "</div>\n",
              "      <button class=\"colab-df-convert\" onclick=\"convertToInteractive('df-d84a5da7-5f64-4748-b90e-7a552fdf2e35')\"\n",
              "              title=\"Convert this dataframe to an interactive table.\"\n",
              "              style=\"display:none;\">\n",
              "        \n",
              "  <svg xmlns=\"http://www.w3.org/2000/svg\" height=\"24px\"viewBox=\"0 0 24 24\"\n",
              "       width=\"24px\">\n",
              "    <path d=\"M0 0h24v24H0V0z\" fill=\"none\"/>\n",
              "    <path d=\"M18.56 5.44l.94 2.06.94-2.06 2.06-.94-2.06-.94-.94-2.06-.94 2.06-2.06.94zm-11 1L8.5 8.5l.94-2.06 2.06-.94-2.06-.94L8.5 2.5l-.94 2.06-2.06.94zm10 10l.94 2.06.94-2.06 2.06-.94-2.06-.94-.94-2.06-.94 2.06-2.06.94z\"/><path d=\"M17.41 7.96l-1.37-1.37c-.4-.4-.92-.59-1.43-.59-.52 0-1.04.2-1.43.59L10.3 9.45l-7.72 7.72c-.78.78-.78 2.05 0 2.83L4 21.41c.39.39.9.59 1.41.59.51 0 1.02-.2 1.41-.59l7.78-7.78 2.81-2.81c.8-.78.8-2.07 0-2.86zM5.41 20L4 18.59l7.72-7.72 1.47 1.35L5.41 20z\"/>\n",
              "  </svg>\n",
              "      </button>\n",
              "      \n",
              "  <style>\n",
              "    .colab-df-container {\n",
              "      display:flex;\n",
              "      flex-wrap:wrap;\n",
              "      gap: 12px;\n",
              "    }\n",
              "\n",
              "    .colab-df-convert {\n",
              "      background-color: #E8F0FE;\n",
              "      border: none;\n",
              "      border-radius: 50%;\n",
              "      cursor: pointer;\n",
              "      display: none;\n",
              "      fill: #1967D2;\n",
              "      height: 32px;\n",
              "      padding: 0 0 0 0;\n",
              "      width: 32px;\n",
              "    }\n",
              "\n",
              "    .colab-df-convert:hover {\n",
              "      background-color: #E2EBFA;\n",
              "      box-shadow: 0px 1px 2px rgba(60, 64, 67, 0.3), 0px 1px 3px 1px rgba(60, 64, 67, 0.15);\n",
              "      fill: #174EA6;\n",
              "    }\n",
              "\n",
              "    [theme=dark] .colab-df-convert {\n",
              "      background-color: #3B4455;\n",
              "      fill: #D2E3FC;\n",
              "    }\n",
              "\n",
              "    [theme=dark] .colab-df-convert:hover {\n",
              "      background-color: #434B5C;\n",
              "      box-shadow: 0px 1px 3px 1px rgba(0, 0, 0, 0.15);\n",
              "      filter: drop-shadow(0px 1px 2px rgba(0, 0, 0, 0.3));\n",
              "      fill: #FFFFFF;\n",
              "    }\n",
              "  </style>\n",
              "\n",
              "      <script>\n",
              "        const buttonEl =\n",
              "          document.querySelector('#df-d84a5da7-5f64-4748-b90e-7a552fdf2e35 button.colab-df-convert');\n",
              "        buttonEl.style.display =\n",
              "          google.colab.kernel.accessAllowed ? 'block' : 'none';\n",
              "\n",
              "        async function convertToInteractive(key) {\n",
              "          const element = document.querySelector('#df-d84a5da7-5f64-4748-b90e-7a552fdf2e35');\n",
              "          const dataTable =\n",
              "            await google.colab.kernel.invokeFunction('convertToInteractive',\n",
              "                                                     [key], {});\n",
              "          if (!dataTable) return;\n",
              "\n",
              "          const docLinkHtml = 'Like what you see? Visit the ' +\n",
              "            '<a target=\"_blank\" href=https://colab.research.google.com/notebooks/data_table.ipynb>data table notebook</a>'\n",
              "            + ' to learn more about interactive tables.';\n",
              "          element.innerHTML = '';\n",
              "          dataTable['output_type'] = 'display_data';\n",
              "          await google.colab.output.renderOutput(dataTable, element);\n",
              "          const docLink = document.createElement('div');\n",
              "          docLink.innerHTML = docLinkHtml;\n",
              "          element.appendChild(docLink);\n",
              "        }\n",
              "      </script>\n",
              "    </div>\n",
              "  </div>\n",
              "  "
            ]
          },
          "metadata": {},
          "execution_count": 37
        }
      ]
    },
    {
      "cell_type": "code",
      "source": [
        "df_exonic['ExonicFunc_refGene'].value_counts()"
      ],
      "metadata": {
        "colab": {
          "base_uri": "https://localhost:8080/"
        },
        "id": "KuorJAWEucPH",
        "outputId": "e41b58ea-a609-4b94-9a37-5ab28e4e725e"
      },
      "execution_count": 38,
      "outputs": [
        {
          "output_type": "execute_result",
          "data": {
            "text/plain": [
              "nonsynonymous SNV    6427\n",
              "synonymous SNV       2479\n",
              "stopgain              459\n",
              ".                     331\n",
              "unknown                85\n",
              "startloss              19\n",
              "stoploss                4\n",
              "Name: ExonicFunc_refGene, dtype: int64"
            ]
          },
          "metadata": {},
          "execution_count": 38
        }
      ]
    },
    {
      "cell_type": "markdown",
      "source": [
        "Remoção das variantes sinônimas e desconhecidas → variantes de interesse clínico"
      ],
      "metadata": {
        "id": "clRJFqXJN7Ws"
      }
    },
    {
      "cell_type": "code",
      "source": [
        "df_no_sinonima = df_exonic[df_exonic[\"ExonicFunc_refGene\"] != \"synonymous SNV\"]\n",
        "df_no_sinonima = df_no_sinonima[df_no_sinonima[\"ExonicFunc_refGene\"] != \"unknown\"]\n",
        "df_no_sinonima[[\"Func_refGene\", \"ExonicFunc_refGene\"]].describe()"
      ],
      "metadata": {
        "colab": {
          "base_uri": "https://localhost:8080/",
          "height": 175
        },
        "id": "c3G-0qxjN7yV",
        "outputId": "e9bdd7de-5f8b-472f-90eb-1c8f03549253"
      },
      "execution_count": 39,
      "outputs": [
        {
          "output_type": "execute_result",
          "data": {
            "text/plain": [
              "       Func_refGene ExonicFunc_refGene\n",
              "count          7240               7240\n",
              "unique            6                  5\n",
              "top          exonic  nonsynonymous SNV\n",
              "freq           6904               6427"
            ],
            "text/html": [
              "\n",
              "  <div id=\"df-c9269747-a819-4c9a-9388-cc61e23b0db3\">\n",
              "    <div class=\"colab-df-container\">\n",
              "      <div>\n",
              "<style scoped>\n",
              "    .dataframe tbody tr th:only-of-type {\n",
              "        vertical-align: middle;\n",
              "    }\n",
              "\n",
              "    .dataframe tbody tr th {\n",
              "        vertical-align: top;\n",
              "    }\n",
              "\n",
              "    .dataframe thead th {\n",
              "        text-align: right;\n",
              "    }\n",
              "</style>\n",
              "<table border=\"1\" class=\"dataframe\">\n",
              "  <thead>\n",
              "    <tr style=\"text-align: right;\">\n",
              "      <th></th>\n",
              "      <th>Func_refGene</th>\n",
              "      <th>ExonicFunc_refGene</th>\n",
              "    </tr>\n",
              "  </thead>\n",
              "  <tbody>\n",
              "    <tr>\n",
              "      <th>count</th>\n",
              "      <td>7240</td>\n",
              "      <td>7240</td>\n",
              "    </tr>\n",
              "    <tr>\n",
              "      <th>unique</th>\n",
              "      <td>6</td>\n",
              "      <td>5</td>\n",
              "    </tr>\n",
              "    <tr>\n",
              "      <th>top</th>\n",
              "      <td>exonic</td>\n",
              "      <td>nonsynonymous SNV</td>\n",
              "    </tr>\n",
              "    <tr>\n",
              "      <th>freq</th>\n",
              "      <td>6904</td>\n",
              "      <td>6427</td>\n",
              "    </tr>\n",
              "  </tbody>\n",
              "</table>\n",
              "</div>\n",
              "      <button class=\"colab-df-convert\" onclick=\"convertToInteractive('df-c9269747-a819-4c9a-9388-cc61e23b0db3')\"\n",
              "              title=\"Convert this dataframe to an interactive table.\"\n",
              "              style=\"display:none;\">\n",
              "        \n",
              "  <svg xmlns=\"http://www.w3.org/2000/svg\" height=\"24px\"viewBox=\"0 0 24 24\"\n",
              "       width=\"24px\">\n",
              "    <path d=\"M0 0h24v24H0V0z\" fill=\"none\"/>\n",
              "    <path d=\"M18.56 5.44l.94 2.06.94-2.06 2.06-.94-2.06-.94-.94-2.06-.94 2.06-2.06.94zm-11 1L8.5 8.5l.94-2.06 2.06-.94-2.06-.94L8.5 2.5l-.94 2.06-2.06.94zm10 10l.94 2.06.94-2.06 2.06-.94-2.06-.94-.94-2.06-.94 2.06-2.06.94z\"/><path d=\"M17.41 7.96l-1.37-1.37c-.4-.4-.92-.59-1.43-.59-.52 0-1.04.2-1.43.59L10.3 9.45l-7.72 7.72c-.78.78-.78 2.05 0 2.83L4 21.41c.39.39.9.59 1.41.59.51 0 1.02-.2 1.41-.59l7.78-7.78 2.81-2.81c.8-.78.8-2.07 0-2.86zM5.41 20L4 18.59l7.72-7.72 1.47 1.35L5.41 20z\"/>\n",
              "  </svg>\n",
              "      </button>\n",
              "      \n",
              "  <style>\n",
              "    .colab-df-container {\n",
              "      display:flex;\n",
              "      flex-wrap:wrap;\n",
              "      gap: 12px;\n",
              "    }\n",
              "\n",
              "    .colab-df-convert {\n",
              "      background-color: #E8F0FE;\n",
              "      border: none;\n",
              "      border-radius: 50%;\n",
              "      cursor: pointer;\n",
              "      display: none;\n",
              "      fill: #1967D2;\n",
              "      height: 32px;\n",
              "      padding: 0 0 0 0;\n",
              "      width: 32px;\n",
              "    }\n",
              "\n",
              "    .colab-df-convert:hover {\n",
              "      background-color: #E2EBFA;\n",
              "      box-shadow: 0px 1px 2px rgba(60, 64, 67, 0.3), 0px 1px 3px 1px rgba(60, 64, 67, 0.15);\n",
              "      fill: #174EA6;\n",
              "    }\n",
              "\n",
              "    [theme=dark] .colab-df-convert {\n",
              "      background-color: #3B4455;\n",
              "      fill: #D2E3FC;\n",
              "    }\n",
              "\n",
              "    [theme=dark] .colab-df-convert:hover {\n",
              "      background-color: #434B5C;\n",
              "      box-shadow: 0px 1px 3px 1px rgba(0, 0, 0, 0.15);\n",
              "      filter: drop-shadow(0px 1px 2px rgba(0, 0, 0, 0.3));\n",
              "      fill: #FFFFFF;\n",
              "    }\n",
              "  </style>\n",
              "\n",
              "      <script>\n",
              "        const buttonEl =\n",
              "          document.querySelector('#df-c9269747-a819-4c9a-9388-cc61e23b0db3 button.colab-df-convert');\n",
              "        buttonEl.style.display =\n",
              "          google.colab.kernel.accessAllowed ? 'block' : 'none';\n",
              "\n",
              "        async function convertToInteractive(key) {\n",
              "          const element = document.querySelector('#df-c9269747-a819-4c9a-9388-cc61e23b0db3');\n",
              "          const dataTable =\n",
              "            await google.colab.kernel.invokeFunction('convertToInteractive',\n",
              "                                                     [key], {});\n",
              "          if (!dataTable) return;\n",
              "\n",
              "          const docLinkHtml = 'Like what you see? Visit the ' +\n",
              "            '<a target=\"_blank\" href=https://colab.research.google.com/notebooks/data_table.ipynb>data table notebook</a>'\n",
              "            + ' to learn more about interactive tables.';\n",
              "          element.innerHTML = '';\n",
              "          dataTable['output_type'] = 'display_data';\n",
              "          await google.colab.output.renderOutput(dataTable, element);\n",
              "          const docLink = document.createElement('div');\n",
              "          docLink.innerHTML = docLinkHtml;\n",
              "          element.appendChild(docLink);\n",
              "        }\n",
              "      </script>\n",
              "    </div>\n",
              "  </div>\n",
              "  "
            ]
          },
          "metadata": {},
          "execution_count": 39
        }
      ]
    },
    {
      "cell_type": "markdown",
      "source": [
        "Separação das variantes de interesse clínico encontradas em autistas e nos irmãos não-autistas"
      ],
      "metadata": {
        "id": "_9KLpaTKzIBH"
      }
    },
    {
      "cell_type": "code",
      "source": [
        "df_autista = df_no_sinonima[df_no_sinonima[\"Affected_Status\"] == 2]"
      ],
      "metadata": {
        "id": "rlRq6PXbOx2E"
      },
      "execution_count": 40,
      "outputs": []
    },
    {
      "cell_type": "code",
      "source": [
        "tabela_1 = df_autista[[\"Func_refGene\", \"ExonicFunc_refGene\"]].describe()\n",
        "tabela_1"
      ],
      "metadata": {
        "colab": {
          "base_uri": "https://localhost:8080/",
          "height": 175
        },
        "id": "x8TGMrWNzghu",
        "outputId": "4ed617d1-d564-4933-8a01-27b0b54a5297"
      },
      "execution_count": 41,
      "outputs": [
        {
          "output_type": "execute_result",
          "data": {
            "text/plain": [
              "       Func_refGene ExonicFunc_refGene\n",
              "count          5534               5534\n",
              "unique            6                  5\n",
              "top          exonic  nonsynonymous SNV\n",
              "freq           5265               4868"
            ],
            "text/html": [
              "\n",
              "  <div id=\"df-7c84bb66-1cf7-4d44-aa68-3fc2dcc25407\">\n",
              "    <div class=\"colab-df-container\">\n",
              "      <div>\n",
              "<style scoped>\n",
              "    .dataframe tbody tr th:only-of-type {\n",
              "        vertical-align: middle;\n",
              "    }\n",
              "\n",
              "    .dataframe tbody tr th {\n",
              "        vertical-align: top;\n",
              "    }\n",
              "\n",
              "    .dataframe thead th {\n",
              "        text-align: right;\n",
              "    }\n",
              "</style>\n",
              "<table border=\"1\" class=\"dataframe\">\n",
              "  <thead>\n",
              "    <tr style=\"text-align: right;\">\n",
              "      <th></th>\n",
              "      <th>Func_refGene</th>\n",
              "      <th>ExonicFunc_refGene</th>\n",
              "    </tr>\n",
              "  </thead>\n",
              "  <tbody>\n",
              "    <tr>\n",
              "      <th>count</th>\n",
              "      <td>5534</td>\n",
              "      <td>5534</td>\n",
              "    </tr>\n",
              "    <tr>\n",
              "      <th>unique</th>\n",
              "      <td>6</td>\n",
              "      <td>5</td>\n",
              "    </tr>\n",
              "    <tr>\n",
              "      <th>top</th>\n",
              "      <td>exonic</td>\n",
              "      <td>nonsynonymous SNV</td>\n",
              "    </tr>\n",
              "    <tr>\n",
              "      <th>freq</th>\n",
              "      <td>5265</td>\n",
              "      <td>4868</td>\n",
              "    </tr>\n",
              "  </tbody>\n",
              "</table>\n",
              "</div>\n",
              "      <button class=\"colab-df-convert\" onclick=\"convertToInteractive('df-7c84bb66-1cf7-4d44-aa68-3fc2dcc25407')\"\n",
              "              title=\"Convert this dataframe to an interactive table.\"\n",
              "              style=\"display:none;\">\n",
              "        \n",
              "  <svg xmlns=\"http://www.w3.org/2000/svg\" height=\"24px\"viewBox=\"0 0 24 24\"\n",
              "       width=\"24px\">\n",
              "    <path d=\"M0 0h24v24H0V0z\" fill=\"none\"/>\n",
              "    <path d=\"M18.56 5.44l.94 2.06.94-2.06 2.06-.94-2.06-.94-.94-2.06-.94 2.06-2.06.94zm-11 1L8.5 8.5l.94-2.06 2.06-.94-2.06-.94L8.5 2.5l-.94 2.06-2.06.94zm10 10l.94 2.06.94-2.06 2.06-.94-2.06-.94-.94-2.06-.94 2.06-2.06.94z\"/><path d=\"M17.41 7.96l-1.37-1.37c-.4-.4-.92-.59-1.43-.59-.52 0-1.04.2-1.43.59L10.3 9.45l-7.72 7.72c-.78.78-.78 2.05 0 2.83L4 21.41c.39.39.9.59 1.41.59.51 0 1.02-.2 1.41-.59l7.78-7.78 2.81-2.81c.8-.78.8-2.07 0-2.86zM5.41 20L4 18.59l7.72-7.72 1.47 1.35L5.41 20z\"/>\n",
              "  </svg>\n",
              "      </button>\n",
              "      \n",
              "  <style>\n",
              "    .colab-df-container {\n",
              "      display:flex;\n",
              "      flex-wrap:wrap;\n",
              "      gap: 12px;\n",
              "    }\n",
              "\n",
              "    .colab-df-convert {\n",
              "      background-color: #E8F0FE;\n",
              "      border: none;\n",
              "      border-radius: 50%;\n",
              "      cursor: pointer;\n",
              "      display: none;\n",
              "      fill: #1967D2;\n",
              "      height: 32px;\n",
              "      padding: 0 0 0 0;\n",
              "      width: 32px;\n",
              "    }\n",
              "\n",
              "    .colab-df-convert:hover {\n",
              "      background-color: #E2EBFA;\n",
              "      box-shadow: 0px 1px 2px rgba(60, 64, 67, 0.3), 0px 1px 3px 1px rgba(60, 64, 67, 0.15);\n",
              "      fill: #174EA6;\n",
              "    }\n",
              "\n",
              "    [theme=dark] .colab-df-convert {\n",
              "      background-color: #3B4455;\n",
              "      fill: #D2E3FC;\n",
              "    }\n",
              "\n",
              "    [theme=dark] .colab-df-convert:hover {\n",
              "      background-color: #434B5C;\n",
              "      box-shadow: 0px 1px 3px 1px rgba(0, 0, 0, 0.15);\n",
              "      filter: drop-shadow(0px 1px 2px rgba(0, 0, 0, 0.3));\n",
              "      fill: #FFFFFF;\n",
              "    }\n",
              "  </style>\n",
              "\n",
              "      <script>\n",
              "        const buttonEl =\n",
              "          document.querySelector('#df-7c84bb66-1cf7-4d44-aa68-3fc2dcc25407 button.colab-df-convert');\n",
              "        buttonEl.style.display =\n",
              "          google.colab.kernel.accessAllowed ? 'block' : 'none';\n",
              "\n",
              "        async function convertToInteractive(key) {\n",
              "          const element = document.querySelector('#df-7c84bb66-1cf7-4d44-aa68-3fc2dcc25407');\n",
              "          const dataTable =\n",
              "            await google.colab.kernel.invokeFunction('convertToInteractive',\n",
              "                                                     [key], {});\n",
              "          if (!dataTable) return;\n",
              "\n",
              "          const docLinkHtml = 'Like what you see? Visit the ' +\n",
              "            '<a target=\"_blank\" href=https://colab.research.google.com/notebooks/data_table.ipynb>data table notebook</a>'\n",
              "            + ' to learn more about interactive tables.';\n",
              "          element.innerHTML = '';\n",
              "          dataTable['output_type'] = 'display_data';\n",
              "          await google.colab.output.renderOutput(dataTable, element);\n",
              "          const docLink = document.createElement('div');\n",
              "          docLink.innerHTML = docLinkHtml;\n",
              "          element.appendChild(docLink);\n",
              "        }\n",
              "      </script>\n",
              "    </div>\n",
              "  </div>\n",
              "  "
            ]
          },
          "metadata": {},
          "execution_count": 41
        }
      ]
    },
    {
      "cell_type": "code",
      "source": [
        "df_irmao_nao_autista = df_no_sinonima[df_no_sinonima['Affected_Status'] == 1]"
      ],
      "metadata": {
        "id": "3lf-hYkw0HpO"
      },
      "execution_count": 42,
      "outputs": []
    },
    {
      "cell_type": "code",
      "source": [
        "tabela_2 = df_irmao_nao_autista[[\"Func_refGene\", \"ExonicFunc_refGene\"]].describe()\n",
        "tabela_2"
      ],
      "metadata": {
        "colab": {
          "base_uri": "https://localhost:8080/",
          "height": 175
        },
        "id": "jOGMV8mm0OJg",
        "outputId": "83f4ac20-e9ad-46ea-802a-eb528728854a"
      },
      "execution_count": 43,
      "outputs": [
        {
          "output_type": "execute_result",
          "data": {
            "text/plain": [
              "       Func_refGene ExonicFunc_refGene\n",
              "count          1706               1706\n",
              "unique            3                  5\n",
              "top          exonic  nonsynonymous SNV\n",
              "freq           1639               1559"
            ],
            "text/html": [
              "\n",
              "  <div id=\"df-a87d36ea-ca8d-4f0e-8dcb-82b647fa2c57\">\n",
              "    <div class=\"colab-df-container\">\n",
              "      <div>\n",
              "<style scoped>\n",
              "    .dataframe tbody tr th:only-of-type {\n",
              "        vertical-align: middle;\n",
              "    }\n",
              "\n",
              "    .dataframe tbody tr th {\n",
              "        vertical-align: top;\n",
              "    }\n",
              "\n",
              "    .dataframe thead th {\n",
              "        text-align: right;\n",
              "    }\n",
              "</style>\n",
              "<table border=\"1\" class=\"dataframe\">\n",
              "  <thead>\n",
              "    <tr style=\"text-align: right;\">\n",
              "      <th></th>\n",
              "      <th>Func_refGene</th>\n",
              "      <th>ExonicFunc_refGene</th>\n",
              "    </tr>\n",
              "  </thead>\n",
              "  <tbody>\n",
              "    <tr>\n",
              "      <th>count</th>\n",
              "      <td>1706</td>\n",
              "      <td>1706</td>\n",
              "    </tr>\n",
              "    <tr>\n",
              "      <th>unique</th>\n",
              "      <td>3</td>\n",
              "      <td>5</td>\n",
              "    </tr>\n",
              "    <tr>\n",
              "      <th>top</th>\n",
              "      <td>exonic</td>\n",
              "      <td>nonsynonymous SNV</td>\n",
              "    </tr>\n",
              "    <tr>\n",
              "      <th>freq</th>\n",
              "      <td>1639</td>\n",
              "      <td>1559</td>\n",
              "    </tr>\n",
              "  </tbody>\n",
              "</table>\n",
              "</div>\n",
              "      <button class=\"colab-df-convert\" onclick=\"convertToInteractive('df-a87d36ea-ca8d-4f0e-8dcb-82b647fa2c57')\"\n",
              "              title=\"Convert this dataframe to an interactive table.\"\n",
              "              style=\"display:none;\">\n",
              "        \n",
              "  <svg xmlns=\"http://www.w3.org/2000/svg\" height=\"24px\"viewBox=\"0 0 24 24\"\n",
              "       width=\"24px\">\n",
              "    <path d=\"M0 0h24v24H0V0z\" fill=\"none\"/>\n",
              "    <path d=\"M18.56 5.44l.94 2.06.94-2.06 2.06-.94-2.06-.94-.94-2.06-.94 2.06-2.06.94zm-11 1L8.5 8.5l.94-2.06 2.06-.94-2.06-.94L8.5 2.5l-.94 2.06-2.06.94zm10 10l.94 2.06.94-2.06 2.06-.94-2.06-.94-.94-2.06-.94 2.06-2.06.94z\"/><path d=\"M17.41 7.96l-1.37-1.37c-.4-.4-.92-.59-1.43-.59-.52 0-1.04.2-1.43.59L10.3 9.45l-7.72 7.72c-.78.78-.78 2.05 0 2.83L4 21.41c.39.39.9.59 1.41.59.51 0 1.02-.2 1.41-.59l7.78-7.78 2.81-2.81c.8-.78.8-2.07 0-2.86zM5.41 20L4 18.59l7.72-7.72 1.47 1.35L5.41 20z\"/>\n",
              "  </svg>\n",
              "      </button>\n",
              "      \n",
              "  <style>\n",
              "    .colab-df-container {\n",
              "      display:flex;\n",
              "      flex-wrap:wrap;\n",
              "      gap: 12px;\n",
              "    }\n",
              "\n",
              "    .colab-df-convert {\n",
              "      background-color: #E8F0FE;\n",
              "      border: none;\n",
              "      border-radius: 50%;\n",
              "      cursor: pointer;\n",
              "      display: none;\n",
              "      fill: #1967D2;\n",
              "      height: 32px;\n",
              "      padding: 0 0 0 0;\n",
              "      width: 32px;\n",
              "    }\n",
              "\n",
              "    .colab-df-convert:hover {\n",
              "      background-color: #E2EBFA;\n",
              "      box-shadow: 0px 1px 2px rgba(60, 64, 67, 0.3), 0px 1px 3px 1px rgba(60, 64, 67, 0.15);\n",
              "      fill: #174EA6;\n",
              "    }\n",
              "\n",
              "    [theme=dark] .colab-df-convert {\n",
              "      background-color: #3B4455;\n",
              "      fill: #D2E3FC;\n",
              "    }\n",
              "\n",
              "    [theme=dark] .colab-df-convert:hover {\n",
              "      background-color: #434B5C;\n",
              "      box-shadow: 0px 1px 3px 1px rgba(0, 0, 0, 0.15);\n",
              "      filter: drop-shadow(0px 1px 2px rgba(0, 0, 0, 0.3));\n",
              "      fill: #FFFFFF;\n",
              "    }\n",
              "  </style>\n",
              "\n",
              "      <script>\n",
              "        const buttonEl =\n",
              "          document.querySelector('#df-a87d36ea-ca8d-4f0e-8dcb-82b647fa2c57 button.colab-df-convert');\n",
              "        buttonEl.style.display =\n",
              "          google.colab.kernel.accessAllowed ? 'block' : 'none';\n",
              "\n",
              "        async function convertToInteractive(key) {\n",
              "          const element = document.querySelector('#df-a87d36ea-ca8d-4f0e-8dcb-82b647fa2c57');\n",
              "          const dataTable =\n",
              "            await google.colab.kernel.invokeFunction('convertToInteractive',\n",
              "                                                     [key], {});\n",
              "          if (!dataTable) return;\n",
              "\n",
              "          const docLinkHtml = 'Like what you see? Visit the ' +\n",
              "            '<a target=\"_blank\" href=https://colab.research.google.com/notebooks/data_table.ipynb>data table notebook</a>'\n",
              "            + ' to learn more about interactive tables.';\n",
              "          element.innerHTML = '';\n",
              "          dataTable['output_type'] = 'display_data';\n",
              "          await google.colab.output.renderOutput(dataTable, element);\n",
              "          const docLink = document.createElement('div');\n",
              "          docLink.innerHTML = docLinkHtml;\n",
              "          element.appendChild(docLink);\n",
              "        }\n",
              "      </script>\n",
              "    </div>\n",
              "  </div>\n",
              "  "
            ]
          },
          "metadata": {},
          "execution_count": 43
        }
      ]
    },
    {
      "cell_type": "code",
      "source": [
        "tabela = tabela_1.compare(tabela_2, keep_shape=True, keep_equal=True)\n",
        "tabela"
      ],
      "metadata": {
        "colab": {
          "base_uri": "https://localhost:8080/",
          "height": 206
        },
        "id": "fmJhSPadi8t4",
        "outputId": "faa4a2ab-8a46-40a1-868e-53e6ea3caad0"
      },
      "execution_count": 47,
      "outputs": [
        {
          "output_type": "execute_result",
          "data": {
            "text/plain": [
              "       Func_refGene         ExonicFunc_refGene                   \n",
              "               self   other               self              other\n",
              "count          5534    1706               5534               1706\n",
              "unique            6       3                  5                  5\n",
              "top          exonic  exonic  nonsynonymous SNV  nonsynonymous SNV\n",
              "freq           5265    1639               4868               1559"
            ],
            "text/html": [
              "\n",
              "  <div id=\"df-7d536c25-bc50-4b2a-b22d-09699522dfab\">\n",
              "    <div class=\"colab-df-container\">\n",
              "      <div>\n",
              "<style scoped>\n",
              "    .dataframe tbody tr th:only-of-type {\n",
              "        vertical-align: middle;\n",
              "    }\n",
              "\n",
              "    .dataframe tbody tr th {\n",
              "        vertical-align: top;\n",
              "    }\n",
              "\n",
              "    .dataframe thead tr th {\n",
              "        text-align: left;\n",
              "    }\n",
              "</style>\n",
              "<table border=\"1\" class=\"dataframe\">\n",
              "  <thead>\n",
              "    <tr>\n",
              "      <th></th>\n",
              "      <th colspan=\"2\" halign=\"left\">Func_refGene</th>\n",
              "      <th colspan=\"2\" halign=\"left\">ExonicFunc_refGene</th>\n",
              "    </tr>\n",
              "    <tr>\n",
              "      <th></th>\n",
              "      <th>self</th>\n",
              "      <th>other</th>\n",
              "      <th>self</th>\n",
              "      <th>other</th>\n",
              "    </tr>\n",
              "  </thead>\n",
              "  <tbody>\n",
              "    <tr>\n",
              "      <th>count</th>\n",
              "      <td>5534</td>\n",
              "      <td>1706</td>\n",
              "      <td>5534</td>\n",
              "      <td>1706</td>\n",
              "    </tr>\n",
              "    <tr>\n",
              "      <th>unique</th>\n",
              "      <td>6</td>\n",
              "      <td>3</td>\n",
              "      <td>5</td>\n",
              "      <td>5</td>\n",
              "    </tr>\n",
              "    <tr>\n",
              "      <th>top</th>\n",
              "      <td>exonic</td>\n",
              "      <td>exonic</td>\n",
              "      <td>nonsynonymous SNV</td>\n",
              "      <td>nonsynonymous SNV</td>\n",
              "    </tr>\n",
              "    <tr>\n",
              "      <th>freq</th>\n",
              "      <td>5265</td>\n",
              "      <td>1639</td>\n",
              "      <td>4868</td>\n",
              "      <td>1559</td>\n",
              "    </tr>\n",
              "  </tbody>\n",
              "</table>\n",
              "</div>\n",
              "      <button class=\"colab-df-convert\" onclick=\"convertToInteractive('df-7d536c25-bc50-4b2a-b22d-09699522dfab')\"\n",
              "              title=\"Convert this dataframe to an interactive table.\"\n",
              "              style=\"display:none;\">\n",
              "        \n",
              "  <svg xmlns=\"http://www.w3.org/2000/svg\" height=\"24px\"viewBox=\"0 0 24 24\"\n",
              "       width=\"24px\">\n",
              "    <path d=\"M0 0h24v24H0V0z\" fill=\"none\"/>\n",
              "    <path d=\"M18.56 5.44l.94 2.06.94-2.06 2.06-.94-2.06-.94-.94-2.06-.94 2.06-2.06.94zm-11 1L8.5 8.5l.94-2.06 2.06-.94-2.06-.94L8.5 2.5l-.94 2.06-2.06.94zm10 10l.94 2.06.94-2.06 2.06-.94-2.06-.94-.94-2.06-.94 2.06-2.06.94z\"/><path d=\"M17.41 7.96l-1.37-1.37c-.4-.4-.92-.59-1.43-.59-.52 0-1.04.2-1.43.59L10.3 9.45l-7.72 7.72c-.78.78-.78 2.05 0 2.83L4 21.41c.39.39.9.59 1.41.59.51 0 1.02-.2 1.41-.59l7.78-7.78 2.81-2.81c.8-.78.8-2.07 0-2.86zM5.41 20L4 18.59l7.72-7.72 1.47 1.35L5.41 20z\"/>\n",
              "  </svg>\n",
              "      </button>\n",
              "      \n",
              "  <style>\n",
              "    .colab-df-container {\n",
              "      display:flex;\n",
              "      flex-wrap:wrap;\n",
              "      gap: 12px;\n",
              "    }\n",
              "\n",
              "    .colab-df-convert {\n",
              "      background-color: #E8F0FE;\n",
              "      border: none;\n",
              "      border-radius: 50%;\n",
              "      cursor: pointer;\n",
              "      display: none;\n",
              "      fill: #1967D2;\n",
              "      height: 32px;\n",
              "      padding: 0 0 0 0;\n",
              "      width: 32px;\n",
              "    }\n",
              "\n",
              "    .colab-df-convert:hover {\n",
              "      background-color: #E2EBFA;\n",
              "      box-shadow: 0px 1px 2px rgba(60, 64, 67, 0.3), 0px 1px 3px 1px rgba(60, 64, 67, 0.15);\n",
              "      fill: #174EA6;\n",
              "    }\n",
              "\n",
              "    [theme=dark] .colab-df-convert {\n",
              "      background-color: #3B4455;\n",
              "      fill: #D2E3FC;\n",
              "    }\n",
              "\n",
              "    [theme=dark] .colab-df-convert:hover {\n",
              "      background-color: #434B5C;\n",
              "      box-shadow: 0px 1px 3px 1px rgba(0, 0, 0, 0.15);\n",
              "      filter: drop-shadow(0px 1px 2px rgba(0, 0, 0, 0.3));\n",
              "      fill: #FFFFFF;\n",
              "    }\n",
              "  </style>\n",
              "\n",
              "      <script>\n",
              "        const buttonEl =\n",
              "          document.querySelector('#df-7d536c25-bc50-4b2a-b22d-09699522dfab button.colab-df-convert');\n",
              "        buttonEl.style.display =\n",
              "          google.colab.kernel.accessAllowed ? 'block' : 'none';\n",
              "\n",
              "        async function convertToInteractive(key) {\n",
              "          const element = document.querySelector('#df-7d536c25-bc50-4b2a-b22d-09699522dfab');\n",
              "          const dataTable =\n",
              "            await google.colab.kernel.invokeFunction('convertToInteractive',\n",
              "                                                     [key], {});\n",
              "          if (!dataTable) return;\n",
              "\n",
              "          const docLinkHtml = 'Like what you see? Visit the ' +\n",
              "            '<a target=\"_blank\" href=https://colab.research.google.com/notebooks/data_table.ipynb>data table notebook</a>'\n",
              "            + ' to learn more about interactive tables.';\n",
              "          element.innerHTML = '';\n",
              "          dataTable['output_type'] = 'display_data';\n",
              "          await google.colab.output.renderOutput(dataTable, element);\n",
              "          const docLink = document.createElement('div');\n",
              "          docLink.innerHTML = docLinkHtml;\n",
              "          element.appendChild(docLink);\n",
              "        }\n",
              "      </script>\n",
              "    </div>\n",
              "  </div>\n",
              "  "
            ]
          },
          "metadata": {},
          "execution_count": 47
        }
      ]
    },
    {
      "cell_type": "code",
      "source": [
        "tabela.to_excel('Tabela.xlsx',sheet_name='Análise Descritiva da classificação funcional das variantes de interesse clínico')"
      ],
      "metadata": {
        "colab": {
          "base_uri": "https://localhost:8080/"
        },
        "id": "YfCzqVxRmT1v",
        "outputId": "e9add454-0cf1-4861-aa2d-bcea59f3cf63"
      },
      "execution_count": 49,
      "outputs": [
        {
          "output_type": "stream",
          "name": "stderr",
          "text": [
            "/usr/local/lib/python3.7/dist-packages/openpyxl/workbook/child.py:99: UserWarning: Title is more than 31 characters. Some applications may not be able to read the file\n",
            "  warnings.warn(\"Title is more than 31 characters. Some applications may not be able to read the file\")\n"
          ]
        }
      ]
    },
    {
      "cell_type": "markdown",
      "source": [
        "Filtragem das variantes por classes funcionais"
      ],
      "metadata": {
        "id": "DlCPQLR5wMa4"
      }
    },
    {
      "cell_type": "code",
      "source": [
        "aut_Func = df_autista[[\"Func_refGene\", \"ExonicFunc_refGene\"]].groupby(\"ExonicFunc_refGene\").count()\n",
        "df_autista[[\"Func_refGene\", \"ExonicFunc_refGene\"]].groupby(\"ExonicFunc_refGene\").count()"
      ],
      "metadata": {
        "colab": {
          "base_uri": "https://localhost:8080/",
          "height": 237
        },
        "id": "LY0MygHS1FRp",
        "outputId": "c6a6cbc0-122c-4455-e5a0-44697da8828d"
      },
      "execution_count": 50,
      "outputs": [
        {
          "output_type": "execute_result",
          "data": {
            "text/plain": [
              "                    Func_refGene\n",
              "ExonicFunc_refGene              \n",
              ".                            264\n",
              "nonsynonymous SNV           4868\n",
              "startloss                     14\n",
              "stopgain                     385\n",
              "stoploss                       3"
            ],
            "text/html": [
              "\n",
              "  <div id=\"df-9ec9e10a-ca6b-4aeb-8d50-0ee057df9845\">\n",
              "    <div class=\"colab-df-container\">\n",
              "      <div>\n",
              "<style scoped>\n",
              "    .dataframe tbody tr th:only-of-type {\n",
              "        vertical-align: middle;\n",
              "    }\n",
              "\n",
              "    .dataframe tbody tr th {\n",
              "        vertical-align: top;\n",
              "    }\n",
              "\n",
              "    .dataframe thead th {\n",
              "        text-align: right;\n",
              "    }\n",
              "</style>\n",
              "<table border=\"1\" class=\"dataframe\">\n",
              "  <thead>\n",
              "    <tr style=\"text-align: right;\">\n",
              "      <th></th>\n",
              "      <th>Func_refGene</th>\n",
              "    </tr>\n",
              "    <tr>\n",
              "      <th>ExonicFunc_refGene</th>\n",
              "      <th></th>\n",
              "    </tr>\n",
              "  </thead>\n",
              "  <tbody>\n",
              "    <tr>\n",
              "      <th>.</th>\n",
              "      <td>264</td>\n",
              "    </tr>\n",
              "    <tr>\n",
              "      <th>nonsynonymous SNV</th>\n",
              "      <td>4868</td>\n",
              "    </tr>\n",
              "    <tr>\n",
              "      <th>startloss</th>\n",
              "      <td>14</td>\n",
              "    </tr>\n",
              "    <tr>\n",
              "      <th>stopgain</th>\n",
              "      <td>385</td>\n",
              "    </tr>\n",
              "    <tr>\n",
              "      <th>stoploss</th>\n",
              "      <td>3</td>\n",
              "    </tr>\n",
              "  </tbody>\n",
              "</table>\n",
              "</div>\n",
              "      <button class=\"colab-df-convert\" onclick=\"convertToInteractive('df-9ec9e10a-ca6b-4aeb-8d50-0ee057df9845')\"\n",
              "              title=\"Convert this dataframe to an interactive table.\"\n",
              "              style=\"display:none;\">\n",
              "        \n",
              "  <svg xmlns=\"http://www.w3.org/2000/svg\" height=\"24px\"viewBox=\"0 0 24 24\"\n",
              "       width=\"24px\">\n",
              "    <path d=\"M0 0h24v24H0V0z\" fill=\"none\"/>\n",
              "    <path d=\"M18.56 5.44l.94 2.06.94-2.06 2.06-.94-2.06-.94-.94-2.06-.94 2.06-2.06.94zm-11 1L8.5 8.5l.94-2.06 2.06-.94-2.06-.94L8.5 2.5l-.94 2.06-2.06.94zm10 10l.94 2.06.94-2.06 2.06-.94-2.06-.94-.94-2.06-.94 2.06-2.06.94z\"/><path d=\"M17.41 7.96l-1.37-1.37c-.4-.4-.92-.59-1.43-.59-.52 0-1.04.2-1.43.59L10.3 9.45l-7.72 7.72c-.78.78-.78 2.05 0 2.83L4 21.41c.39.39.9.59 1.41.59.51 0 1.02-.2 1.41-.59l7.78-7.78 2.81-2.81c.8-.78.8-2.07 0-2.86zM5.41 20L4 18.59l7.72-7.72 1.47 1.35L5.41 20z\"/>\n",
              "  </svg>\n",
              "      </button>\n",
              "      \n",
              "  <style>\n",
              "    .colab-df-container {\n",
              "      display:flex;\n",
              "      flex-wrap:wrap;\n",
              "      gap: 12px;\n",
              "    }\n",
              "\n",
              "    .colab-df-convert {\n",
              "      background-color: #E8F0FE;\n",
              "      border: none;\n",
              "      border-radius: 50%;\n",
              "      cursor: pointer;\n",
              "      display: none;\n",
              "      fill: #1967D2;\n",
              "      height: 32px;\n",
              "      padding: 0 0 0 0;\n",
              "      width: 32px;\n",
              "    }\n",
              "\n",
              "    .colab-df-convert:hover {\n",
              "      background-color: #E2EBFA;\n",
              "      box-shadow: 0px 1px 2px rgba(60, 64, 67, 0.3), 0px 1px 3px 1px rgba(60, 64, 67, 0.15);\n",
              "      fill: #174EA6;\n",
              "    }\n",
              "\n",
              "    [theme=dark] .colab-df-convert {\n",
              "      background-color: #3B4455;\n",
              "      fill: #D2E3FC;\n",
              "    }\n",
              "\n",
              "    [theme=dark] .colab-df-convert:hover {\n",
              "      background-color: #434B5C;\n",
              "      box-shadow: 0px 1px 3px 1px rgba(0, 0, 0, 0.15);\n",
              "      filter: drop-shadow(0px 1px 2px rgba(0, 0, 0, 0.3));\n",
              "      fill: #FFFFFF;\n",
              "    }\n",
              "  </style>\n",
              "\n",
              "      <script>\n",
              "        const buttonEl =\n",
              "          document.querySelector('#df-9ec9e10a-ca6b-4aeb-8d50-0ee057df9845 button.colab-df-convert');\n",
              "        buttonEl.style.display =\n",
              "          google.colab.kernel.accessAllowed ? 'block' : 'none';\n",
              "\n",
              "        async function convertToInteractive(key) {\n",
              "          const element = document.querySelector('#df-9ec9e10a-ca6b-4aeb-8d50-0ee057df9845');\n",
              "          const dataTable =\n",
              "            await google.colab.kernel.invokeFunction('convertToInteractive',\n",
              "                                                     [key], {});\n",
              "          if (!dataTable) return;\n",
              "\n",
              "          const docLinkHtml = 'Like what you see? Visit the ' +\n",
              "            '<a target=\"_blank\" href=https://colab.research.google.com/notebooks/data_table.ipynb>data table notebook</a>'\n",
              "            + ' to learn more about interactive tables.';\n",
              "          element.innerHTML = '';\n",
              "          dataTable['output_type'] = 'display_data';\n",
              "          await google.colab.output.renderOutput(dataTable, element);\n",
              "          const docLink = document.createElement('div');\n",
              "          docLink.innerHTML = docLinkHtml;\n",
              "          element.appendChild(docLink);\n",
              "        }\n",
              "      </script>\n",
              "    </div>\n",
              "  </div>\n",
              "  "
            ]
          },
          "metadata": {},
          "execution_count": 50
        }
      ]
    },
    {
      "cell_type": "code",
      "source": [
        "df_autista.shape"
      ],
      "metadata": {
        "colab": {
          "base_uri": "https://localhost:8080/"
        },
        "id": "JcZDZ-KU2udG",
        "outputId": "7dce6648-8736-4e20-b560-89da5cd3835b"
      },
      "execution_count": 51,
      "outputs": [
        {
          "output_type": "execute_result",
          "data": {
            "text/plain": [
              "(5534, 78)"
            ]
          },
          "metadata": {},
          "execution_count": 51
        }
      ]
    },
    {
      "cell_type": "code",
      "source": [
        "no_aut_Func = df_irmao_nao_autista[[\"Func_refGene\", \"ExonicFunc_refGene\"]].groupby(\"ExonicFunc_refGene\").count()\n",
        "df_irmao_nao_autista[[\"Func_refGene\", \"ExonicFunc_refGene\"]].groupby(\"ExonicFunc_refGene\").count()"
      ],
      "metadata": {
        "colab": {
          "base_uri": "https://localhost:8080/",
          "height": 237
        },
        "id": "vp5pHFSK1UYt",
        "outputId": "91e32663-9ab1-4322-dd0b-4ff1d5ade8f7"
      },
      "execution_count": 52,
      "outputs": [
        {
          "output_type": "execute_result",
          "data": {
            "text/plain": [
              "                    Func_refGene\n",
              "ExonicFunc_refGene              \n",
              ".                             67\n",
              "nonsynonymous SNV           1559\n",
              "startloss                      5\n",
              "stopgain                      74\n",
              "stoploss                       1"
            ],
            "text/html": [
              "\n",
              "  <div id=\"df-7a492aaf-2ad1-4b9b-abe6-e1a842152a4b\">\n",
              "    <div class=\"colab-df-container\">\n",
              "      <div>\n",
              "<style scoped>\n",
              "    .dataframe tbody tr th:only-of-type {\n",
              "        vertical-align: middle;\n",
              "    }\n",
              "\n",
              "    .dataframe tbody tr th {\n",
              "        vertical-align: top;\n",
              "    }\n",
              "\n",
              "    .dataframe thead th {\n",
              "        text-align: right;\n",
              "    }\n",
              "</style>\n",
              "<table border=\"1\" class=\"dataframe\">\n",
              "  <thead>\n",
              "    <tr style=\"text-align: right;\">\n",
              "      <th></th>\n",
              "      <th>Func_refGene</th>\n",
              "    </tr>\n",
              "    <tr>\n",
              "      <th>ExonicFunc_refGene</th>\n",
              "      <th></th>\n",
              "    </tr>\n",
              "  </thead>\n",
              "  <tbody>\n",
              "    <tr>\n",
              "      <th>.</th>\n",
              "      <td>67</td>\n",
              "    </tr>\n",
              "    <tr>\n",
              "      <th>nonsynonymous SNV</th>\n",
              "      <td>1559</td>\n",
              "    </tr>\n",
              "    <tr>\n",
              "      <th>startloss</th>\n",
              "      <td>5</td>\n",
              "    </tr>\n",
              "    <tr>\n",
              "      <th>stopgain</th>\n",
              "      <td>74</td>\n",
              "    </tr>\n",
              "    <tr>\n",
              "      <th>stoploss</th>\n",
              "      <td>1</td>\n",
              "    </tr>\n",
              "  </tbody>\n",
              "</table>\n",
              "</div>\n",
              "      <button class=\"colab-df-convert\" onclick=\"convertToInteractive('df-7a492aaf-2ad1-4b9b-abe6-e1a842152a4b')\"\n",
              "              title=\"Convert this dataframe to an interactive table.\"\n",
              "              style=\"display:none;\">\n",
              "        \n",
              "  <svg xmlns=\"http://www.w3.org/2000/svg\" height=\"24px\"viewBox=\"0 0 24 24\"\n",
              "       width=\"24px\">\n",
              "    <path d=\"M0 0h24v24H0V0z\" fill=\"none\"/>\n",
              "    <path d=\"M18.56 5.44l.94 2.06.94-2.06 2.06-.94-2.06-.94-.94-2.06-.94 2.06-2.06.94zm-11 1L8.5 8.5l.94-2.06 2.06-.94-2.06-.94L8.5 2.5l-.94 2.06-2.06.94zm10 10l.94 2.06.94-2.06 2.06-.94-2.06-.94-.94-2.06-.94 2.06-2.06.94z\"/><path d=\"M17.41 7.96l-1.37-1.37c-.4-.4-.92-.59-1.43-.59-.52 0-1.04.2-1.43.59L10.3 9.45l-7.72 7.72c-.78.78-.78 2.05 0 2.83L4 21.41c.39.39.9.59 1.41.59.51 0 1.02-.2 1.41-.59l7.78-7.78 2.81-2.81c.8-.78.8-2.07 0-2.86zM5.41 20L4 18.59l7.72-7.72 1.47 1.35L5.41 20z\"/>\n",
              "  </svg>\n",
              "      </button>\n",
              "      \n",
              "  <style>\n",
              "    .colab-df-container {\n",
              "      display:flex;\n",
              "      flex-wrap:wrap;\n",
              "      gap: 12px;\n",
              "    }\n",
              "\n",
              "    .colab-df-convert {\n",
              "      background-color: #E8F0FE;\n",
              "      border: none;\n",
              "      border-radius: 50%;\n",
              "      cursor: pointer;\n",
              "      display: none;\n",
              "      fill: #1967D2;\n",
              "      height: 32px;\n",
              "      padding: 0 0 0 0;\n",
              "      width: 32px;\n",
              "    }\n",
              "\n",
              "    .colab-df-convert:hover {\n",
              "      background-color: #E2EBFA;\n",
              "      box-shadow: 0px 1px 2px rgba(60, 64, 67, 0.3), 0px 1px 3px 1px rgba(60, 64, 67, 0.15);\n",
              "      fill: #174EA6;\n",
              "    }\n",
              "\n",
              "    [theme=dark] .colab-df-convert {\n",
              "      background-color: #3B4455;\n",
              "      fill: #D2E3FC;\n",
              "    }\n",
              "\n",
              "    [theme=dark] .colab-df-convert:hover {\n",
              "      background-color: #434B5C;\n",
              "      box-shadow: 0px 1px 3px 1px rgba(0, 0, 0, 0.15);\n",
              "      filter: drop-shadow(0px 1px 2px rgba(0, 0, 0, 0.3));\n",
              "      fill: #FFFFFF;\n",
              "    }\n",
              "  </style>\n",
              "\n",
              "      <script>\n",
              "        const buttonEl =\n",
              "          document.querySelector('#df-7a492aaf-2ad1-4b9b-abe6-e1a842152a4b button.colab-df-convert');\n",
              "        buttonEl.style.display =\n",
              "          google.colab.kernel.accessAllowed ? 'block' : 'none';\n",
              "\n",
              "        async function convertToInteractive(key) {\n",
              "          const element = document.querySelector('#df-7a492aaf-2ad1-4b9b-abe6-e1a842152a4b');\n",
              "          const dataTable =\n",
              "            await google.colab.kernel.invokeFunction('convertToInteractive',\n",
              "                                                     [key], {});\n",
              "          if (!dataTable) return;\n",
              "\n",
              "          const docLinkHtml = 'Like what you see? Visit the ' +\n",
              "            '<a target=\"_blank\" href=https://colab.research.google.com/notebooks/data_table.ipynb>data table notebook</a>'\n",
              "            + ' to learn more about interactive tables.';\n",
              "          element.innerHTML = '';\n",
              "          dataTable['output_type'] = 'display_data';\n",
              "          await google.colab.output.renderOutput(dataTable, element);\n",
              "          const docLink = document.createElement('div');\n",
              "          docLink.innerHTML = docLinkHtml;\n",
              "          element.appendChild(docLink);\n",
              "        }\n",
              "      </script>\n",
              "    </div>\n",
              "  </div>\n",
              "  "
            ]
          },
          "metadata": {},
          "execution_count": 52
        }
      ]
    },
    {
      "cell_type": "code",
      "source": [
        "df_irmao_nao_autista.shape"
      ],
      "metadata": {
        "colab": {
          "base_uri": "https://localhost:8080/"
        },
        "id": "9agJPDJS2xpu",
        "outputId": "25869258-da44-4efa-c60d-e9f54ca6958b"
      },
      "execution_count": 53,
      "outputs": [
        {
          "output_type": "execute_result",
          "data": {
            "text/plain": [
              "(1706, 78)"
            ]
          },
          "metadata": {},
          "execution_count": 53
        }
      ]
    },
    {
      "cell_type": "code",
      "source": [
        "tabela_Func = aut_Func.compare(no_aut_Func, keep_equal=True)\n",
        "tabela_Func"
      ],
      "metadata": {
        "colab": {
          "base_uri": "https://localhost:8080/",
          "height": 269
        },
        "id": "dBIKKuBaPEX6",
        "outputId": "b0eb4b01-5b65-4542-8b95-2b8fa0f7be33"
      },
      "execution_count": 54,
      "outputs": [
        {
          "output_type": "execute_result",
          "data": {
            "text/plain": [
              "                   Func_refGene      \n",
              "                           self other\n",
              "ExonicFunc_refGene                   \n",
              ".                           264    67\n",
              "nonsynonymous SNV          4868  1559\n",
              "startloss                    14     5\n",
              "stopgain                    385    74\n",
              "stoploss                      3     1"
            ],
            "text/html": [
              "\n",
              "  <div id=\"df-c7575460-8dce-4b11-8824-1bc10c1811af\">\n",
              "    <div class=\"colab-df-container\">\n",
              "      <div>\n",
              "<style scoped>\n",
              "    .dataframe tbody tr th:only-of-type {\n",
              "        vertical-align: middle;\n",
              "    }\n",
              "\n",
              "    .dataframe tbody tr th {\n",
              "        vertical-align: top;\n",
              "    }\n",
              "\n",
              "    .dataframe thead tr th {\n",
              "        text-align: left;\n",
              "    }\n",
              "\n",
              "    .dataframe thead tr:last-of-type th {\n",
              "        text-align: right;\n",
              "    }\n",
              "</style>\n",
              "<table border=\"1\" class=\"dataframe\">\n",
              "  <thead>\n",
              "    <tr>\n",
              "      <th></th>\n",
              "      <th colspan=\"2\" halign=\"left\">Func_refGene</th>\n",
              "    </tr>\n",
              "    <tr>\n",
              "      <th></th>\n",
              "      <th>self</th>\n",
              "      <th>other</th>\n",
              "    </tr>\n",
              "    <tr>\n",
              "      <th>ExonicFunc_refGene</th>\n",
              "      <th></th>\n",
              "      <th></th>\n",
              "    </tr>\n",
              "  </thead>\n",
              "  <tbody>\n",
              "    <tr>\n",
              "      <th>.</th>\n",
              "      <td>264</td>\n",
              "      <td>67</td>\n",
              "    </tr>\n",
              "    <tr>\n",
              "      <th>nonsynonymous SNV</th>\n",
              "      <td>4868</td>\n",
              "      <td>1559</td>\n",
              "    </tr>\n",
              "    <tr>\n",
              "      <th>startloss</th>\n",
              "      <td>14</td>\n",
              "      <td>5</td>\n",
              "    </tr>\n",
              "    <tr>\n",
              "      <th>stopgain</th>\n",
              "      <td>385</td>\n",
              "      <td>74</td>\n",
              "    </tr>\n",
              "    <tr>\n",
              "      <th>stoploss</th>\n",
              "      <td>3</td>\n",
              "      <td>1</td>\n",
              "    </tr>\n",
              "  </tbody>\n",
              "</table>\n",
              "</div>\n",
              "      <button class=\"colab-df-convert\" onclick=\"convertToInteractive('df-c7575460-8dce-4b11-8824-1bc10c1811af')\"\n",
              "              title=\"Convert this dataframe to an interactive table.\"\n",
              "              style=\"display:none;\">\n",
              "        \n",
              "  <svg xmlns=\"http://www.w3.org/2000/svg\" height=\"24px\"viewBox=\"0 0 24 24\"\n",
              "       width=\"24px\">\n",
              "    <path d=\"M0 0h24v24H0V0z\" fill=\"none\"/>\n",
              "    <path d=\"M18.56 5.44l.94 2.06.94-2.06 2.06-.94-2.06-.94-.94-2.06-.94 2.06-2.06.94zm-11 1L8.5 8.5l.94-2.06 2.06-.94-2.06-.94L8.5 2.5l-.94 2.06-2.06.94zm10 10l.94 2.06.94-2.06 2.06-.94-2.06-.94-.94-2.06-.94 2.06-2.06.94z\"/><path d=\"M17.41 7.96l-1.37-1.37c-.4-.4-.92-.59-1.43-.59-.52 0-1.04.2-1.43.59L10.3 9.45l-7.72 7.72c-.78.78-.78 2.05 0 2.83L4 21.41c.39.39.9.59 1.41.59.51 0 1.02-.2 1.41-.59l7.78-7.78 2.81-2.81c.8-.78.8-2.07 0-2.86zM5.41 20L4 18.59l7.72-7.72 1.47 1.35L5.41 20z\"/>\n",
              "  </svg>\n",
              "      </button>\n",
              "      \n",
              "  <style>\n",
              "    .colab-df-container {\n",
              "      display:flex;\n",
              "      flex-wrap:wrap;\n",
              "      gap: 12px;\n",
              "    }\n",
              "\n",
              "    .colab-df-convert {\n",
              "      background-color: #E8F0FE;\n",
              "      border: none;\n",
              "      border-radius: 50%;\n",
              "      cursor: pointer;\n",
              "      display: none;\n",
              "      fill: #1967D2;\n",
              "      height: 32px;\n",
              "      padding: 0 0 0 0;\n",
              "      width: 32px;\n",
              "    }\n",
              "\n",
              "    .colab-df-convert:hover {\n",
              "      background-color: #E2EBFA;\n",
              "      box-shadow: 0px 1px 2px rgba(60, 64, 67, 0.3), 0px 1px 3px 1px rgba(60, 64, 67, 0.15);\n",
              "      fill: #174EA6;\n",
              "    }\n",
              "\n",
              "    [theme=dark] .colab-df-convert {\n",
              "      background-color: #3B4455;\n",
              "      fill: #D2E3FC;\n",
              "    }\n",
              "\n",
              "    [theme=dark] .colab-df-convert:hover {\n",
              "      background-color: #434B5C;\n",
              "      box-shadow: 0px 1px 3px 1px rgba(0, 0, 0, 0.15);\n",
              "      filter: drop-shadow(0px 1px 2px rgba(0, 0, 0, 0.3));\n",
              "      fill: #FFFFFF;\n",
              "    }\n",
              "  </style>\n",
              "\n",
              "      <script>\n",
              "        const buttonEl =\n",
              "          document.querySelector('#df-c7575460-8dce-4b11-8824-1bc10c1811af button.colab-df-convert');\n",
              "        buttonEl.style.display =\n",
              "          google.colab.kernel.accessAllowed ? 'block' : 'none';\n",
              "\n",
              "        async function convertToInteractive(key) {\n",
              "          const element = document.querySelector('#df-c7575460-8dce-4b11-8824-1bc10c1811af');\n",
              "          const dataTable =\n",
              "            await google.colab.kernel.invokeFunction('convertToInteractive',\n",
              "                                                     [key], {});\n",
              "          if (!dataTable) return;\n",
              "\n",
              "          const docLinkHtml = 'Like what you see? Visit the ' +\n",
              "            '<a target=\"_blank\" href=https://colab.research.google.com/notebooks/data_table.ipynb>data table notebook</a>'\n",
              "            + ' to learn more about interactive tables.';\n",
              "          element.innerHTML = '';\n",
              "          dataTable['output_type'] = 'display_data';\n",
              "          await google.colab.output.renderOutput(dataTable, element);\n",
              "          const docLink = document.createElement('div');\n",
              "          docLink.innerHTML = docLinkHtml;\n",
              "          element.appendChild(docLink);\n",
              "        }\n",
              "      </script>\n",
              "    </div>\n",
              "  </div>\n",
              "  "
            ]
          },
          "metadata": {},
          "execution_count": 54
        }
      ]
    },
    {
      "cell_type": "code",
      "source": [
        "with pd.ExcelWriter('Tabela.xlsx',\n",
        "...                     mode='a') as writer:  # doctest: +SKIP\n",
        "...     tabela_Func.to_excel(writer, sheet_name='Comparação da classificação funcional das variantes exônicas')"
      ],
      "metadata": {
        "colab": {
          "base_uri": "https://localhost:8080/"
        },
        "id": "CynLQ3nOn5QJ",
        "outputId": "1115a2bb-d5b4-48fe-af7c-611b943f8a3d"
      },
      "execution_count": 55,
      "outputs": [
        {
          "output_type": "stream",
          "name": "stderr",
          "text": [
            "/usr/local/lib/python3.7/dist-packages/openpyxl/workbook/child.py:99: UserWarning: Title is more than 31 characters. Some applications may not be able to read the file\n",
            "  warnings.warn(\"Title is more than 31 characters. Some applications may not be able to read the file\")\n"
          ]
        }
      ]
    },
    {
      "cell_type": "code",
      "source": [
        "tabela_refGene_autista = df_autista[\"Func_refGene\"].value_counts()\n",
        "tabela_refGene_autista"
      ],
      "metadata": {
        "colab": {
          "base_uri": "https://localhost:8080/"
        },
        "id": "fP7ntPB_EuN_",
        "outputId": "3679d99a-69b6-44ab-bee7-544b8015d8f7"
      },
      "execution_count": 56,
      "outputs": [
        {
          "output_type": "execute_result",
          "data": {
            "text/plain": [
              "exonic                   5265\n",
              "splicing                  138\n",
              "ncRNA_exonic              124\n",
              "exonic;splicing             5\n",
              "ncRNA_exonic;splicing       1\n",
              "ncRNA_splicing              1\n",
              "Name: Func_refGene, dtype: int64"
            ]
          },
          "metadata": {},
          "execution_count": 56
        }
      ]
    },
    {
      "cell_type": "code",
      "source": [
        "tabela_refGene_nao_autista = df_irmao_nao_autista[\"Func_refGene\"].value_counts()\n",
        "tabela_refGene_nao_autista"
      ],
      "metadata": {
        "colab": {
          "base_uri": "https://localhost:8080/"
        },
        "id": "7fu9KyhoLBRI",
        "outputId": "0bc7bdd5-357a-4a65-b569-b55734f588a7"
      },
      "execution_count": 57,
      "outputs": [
        {
          "output_type": "execute_result",
          "data": {
            "text/plain": [
              "exonic          1639\n",
              "ncRNA_exonic      42\n",
              "splicing          25\n",
              "Name: Func_refGene, dtype: int64"
            ]
          },
          "metadata": {},
          "execution_count": 57
        }
      ]
    },
    {
      "cell_type": "code",
      "source": [
        "with pd.ExcelWriter('Tabela.xlsx',\n",
        "...                     mode='a') as writer:  # doctest: +SKIP\n",
        "...     tabela_refGene_autista.to_excel(writer, sheet_name='Autistas - Classificação das variantes de interesse clínico')\n",
        "...     tabela_refGene_nao_autista.to_excel(writer, sheet_name='Não autistas - Classificação das variantes de interesse clínico')"
      ],
      "metadata": {
        "colab": {
          "base_uri": "https://localhost:8080/"
        },
        "id": "R9o07tK2oZG3",
        "outputId": "5eeb936b-2e11-416b-8b6a-ee7948f53f2e"
      },
      "execution_count": 58,
      "outputs": [
        {
          "output_type": "stream",
          "name": "stderr",
          "text": [
            "/usr/local/lib/python3.7/dist-packages/openpyxl/workbook/child.py:99: UserWarning: Title is more than 31 characters. Some applications may not be able to read the file\n",
            "  warnings.warn(\"Title is more than 31 characters. Some applications may not be able to read the file\")\n"
          ]
        }
      ]
    },
    {
      "cell_type": "code",
      "source": [
        "# criar figura do tamanho desejado\n",
        "plt.figure(figsize=(5,5))\n",
        "# selecionar a coluna \"AF\" e trocar 1 por homozigoto e 0.5 por heterozigoto\n",
        "aut_refGene = df_autista[\"Func_refGene\"]\n",
        "# contar variantes het/hom e gerar gráfico de pizza\n",
        "aut_refGene.value_counts().plot(kind=\"pie\", autopct=\"%.1f%%\")\n",
        "# remover label no eixo Y (você pode remover essa linha e ver o que acontece)\n",
        "plt.ylabel(\"\")\n",
        "# adicionar título\n",
        "plt.title(\"Tipos de variantes encontradas em indivíduos autistas\")"
      ],
      "metadata": {
        "colab": {
          "base_uri": "https://localhost:8080/",
          "height": 337
        },
        "id": "_ymrN-r6JhjD",
        "outputId": "eabf274a-6e8e-4ac0-b94b-76becd004c93"
      },
      "execution_count": 59,
      "outputs": [
        {
          "output_type": "execute_result",
          "data": {
            "text/plain": [
              "Text(0.5, 1.0, 'Tipos de variantes encontradas em indivíduos autistas')"
            ]
          },
          "metadata": {},
          "execution_count": 59
        },
        {
          "output_type": "display_data",
          "data": {
            "text/plain": [
              "<Figure size 360x360 with 1 Axes>"
            ],
            "image/png": "[encoded data removed]"
          },
          "metadata": {}
        }
      ]
    },
    {
      "cell_type": "code",
      "source": [
        "# criar figura do tamanho desejado\n",
        "plt.figure(figsize=(5,5))\n",
        "# selecionar a coluna \"AF\" e trocar 1 por homozigoto e 0.5 por heterozigoto\n",
        "no_aut_refGene = df_irmao_nao_autista[\"Func_refGene\"]\n",
        "# contar variantes het/hom e gerar gráfico de pizza\n",
        "no_aut_refGene.value_counts().plot(kind=\"pie\", autopct=\"%.1f%%\")\n",
        "# remover label no eixo Y (você pode remover essa linha e ver o que acontece)\n",
        "plt.ylabel(\"\")\n",
        "# adicionar título\n",
        "plt.title(\"Tipos de variantes encontradas em irmãos não autistas\")"
      ],
      "metadata": {
        "colab": {
          "base_uri": "https://localhost:8080/",
          "height": 337
        },
        "id": "b-FCogqPK2Sk",
        "outputId": "46b5c43a-dc92-41ca-80ae-cb36048b1a92"
      },
      "execution_count": 60,
      "outputs": [
        {
          "output_type": "execute_result",
          "data": {
            "text/plain": [
              "Text(0.5, 1.0, 'Tipos de variantes encontradas em irmãos não autistas')"
            ]
          },
          "metadata": {},
          "execution_count": 60
        },
        {
          "output_type": "display_data",
          "data": {
            "text/plain": [
              "<Figure size 360x360 with 1 Axes>"
            ],
            "image/png": "[encoded data removed]"
          },
          "metadata": {}
        }
      ]
    },
    {
      "cell_type": "markdown",
      "source": [
        "Filtragem das variantes por score de predição\n",
        " - MutationTaster_pred"
      ],
      "metadata": {
        "id": "akakQh9ORa7m"
      }
    },
    {
      "cell_type": "code",
      "source": [
        "tabela_pred_autista = df_autista[\"MutationTaster_pred\"].value_counts(sort=False)\n",
        "tabela_pred_autista"
      ],
      "metadata": {
        "colab": {
          "base_uri": "https://localhost:8080/"
        },
        "id": "fSzaogJ0ZAKA",
        "outputId": "72c88711-084c-4a0c-d2ab-9a8cdc9ae342"
      },
      "execution_count": 61,
      "outputs": [
        {
          "output_type": "execute_result",
          "data": {
            "text/plain": [
              "D    3542\n",
              "N    1467\n",
              ".     211\n",
              "A     310\n",
              "P       4\n",
              "Name: MutationTaster_pred, dtype: int64"
            ]
          },
          "metadata": {},
          "execution_count": 61
        }
      ]
    },
    {
      "cell_type": "code",
      "source": [
        "tabela_pred_irmao_nao_autista = df_irmao_nao_autista[\"MutationTaster_pred\"].value_counts()\n",
        "tabela_pred_irmao_nao_autista"
      ],
      "metadata": {
        "colab": {
          "base_uri": "https://localhost:8080/"
        },
        "id": "YLp5Vr7uZaUj",
        "outputId": "10572d4c-11b5-423d-a409-fa789a725132"
      },
      "execution_count": 62,
      "outputs": [
        {
          "output_type": "execute_result",
          "data": {
            "text/plain": [
              "D    1058\n",
              "N     530\n",
              ".      62\n",
              "A      55\n",
              "P       1\n",
              "Name: MutationTaster_pred, dtype: int64"
            ]
          },
          "metadata": {},
          "execution_count": 62
        }
      ]
    },
    {
      "cell_type": "code",
      "source": [
        "Tabela_Patogenicas = tabela_pred_autista.compare(tabela_pred_irmao_nao_autista, keep_shape=True, keep_equal=True)\n",
        "Tabela_Patogenicas"
      ],
      "metadata": {
        "colab": {
          "base_uri": "https://localhost:8080/",
          "height": 206
        },
        "id": "gjEfk9Xtgwdc",
        "outputId": "d4ea2dff-a443-49a2-a2a4-e8f946678496"
      },
      "execution_count": 63,
      "outputs": [
        {
          "output_type": "execute_result",
          "data": {
            "text/plain": [
              "   self  other\n",
              "D  3542   1058\n",
              "N  1467    530\n",
              ".   211     62\n",
              "A   310     55\n",
              "P     4      1"
            ],
            "text/html": [
              "\n",
              "  <div id=\"df-149a3494-8dbb-40d3-aa26-21888250b014\">\n",
              "    <div class=\"colab-df-container\">\n",
              "      <div>\n",
              "<style scoped>\n",
              "    .dataframe tbody tr th:only-of-type {\n",
              "        vertical-align: middle;\n",
              "    }\n",
              "\n",
              "    .dataframe tbody tr th {\n",
              "        vertical-align: top;\n",
              "    }\n",
              "\n",
              "    .dataframe thead th {\n",
              "        text-align: right;\n",
              "    }\n",
              "</style>\n",
              "<table border=\"1\" class=\"dataframe\">\n",
              "  <thead>\n",
              "    <tr style=\"text-align: right;\">\n",
              "      <th></th>\n",
              "      <th>self</th>\n",
              "      <th>other</th>\n",
              "    </tr>\n",
              "  </thead>\n",
              "  <tbody>\n",
              "    <tr>\n",
              "      <th>D</th>\n",
              "      <td>3542</td>\n",
              "      <td>1058</td>\n",
              "    </tr>\n",
              "    <tr>\n",
              "      <th>N</th>\n",
              "      <td>1467</td>\n",
              "      <td>530</td>\n",
              "    </tr>\n",
              "    <tr>\n",
              "      <th>.</th>\n",
              "      <td>211</td>\n",
              "      <td>62</td>\n",
              "    </tr>\n",
              "    <tr>\n",
              "      <th>A</th>\n",
              "      <td>310</td>\n",
              "      <td>55</td>\n",
              "    </tr>\n",
              "    <tr>\n",
              "      <th>P</th>\n",
              "      <td>4</td>\n",
              "      <td>1</td>\n",
              "    </tr>\n",
              "  </tbody>\n",
              "</table>\n",
              "</div>\n",
              "      <button class=\"colab-df-convert\" onclick=\"convertToInteractive('df-149a3494-8dbb-40d3-aa26-21888250b014')\"\n",
              "              title=\"Convert this dataframe to an interactive table.\"\n",
              "              style=\"display:none;\">\n",
              "        \n",
              "  <svg xmlns=\"http://www.w3.org/2000/svg\" height=\"24px\"viewBox=\"0 0 24 24\"\n",
              "       width=\"24px\">\n",
              "    <path d=\"M0 0h24v24H0V0z\" fill=\"none\"/>\n",
              "    <path d=\"M18.56 5.44l.94 2.06.94-2.06 2.06-.94-2.06-.94-.94-2.06-.94 2.06-2.06.94zm-11 1L8.5 8.5l.94-2.06 2.06-.94-2.06-.94L8.5 2.5l-.94 2.06-2.06.94zm10 10l.94 2.06.94-2.06 2.06-.94-2.06-.94-.94-2.06-.94 2.06-2.06.94z\"/><path d=\"M17.41 7.96l-1.37-1.37c-.4-.4-.92-.59-1.43-.59-.52 0-1.04.2-1.43.59L10.3 9.45l-7.72 7.72c-.78.78-.78 2.05 0 2.83L4 21.41c.39.39.9.59 1.41.59.51 0 1.02-.2 1.41-.59l7.78-7.78 2.81-2.81c.8-.78.8-2.07 0-2.86zM5.41 20L4 18.59l7.72-7.72 1.47 1.35L5.41 20z\"/>\n",
              "  </svg>\n",
              "      </button>\n",
              "      \n",
              "  <style>\n",
              "    .colab-df-container {\n",
              "      display:flex;\n",
              "      flex-wrap:wrap;\n",
              "      gap: 12px;\n",
              "    }\n",
              "\n",
              "    .colab-df-convert {\n",
              "      background-color: #E8F0FE;\n",
              "      border: none;\n",
              "      border-radius: 50%;\n",
              "      cursor: pointer;\n",
              "      display: none;\n",
              "      fill: #1967D2;\n",
              "      height: 32px;\n",
              "      padding: 0 0 0 0;\n",
              "      width: 32px;\n",
              "    }\n",
              "\n",
              "    .colab-df-convert:hover {\n",
              "      background-color: #E2EBFA;\n",
              "      box-shadow: 0px 1px 2px rgba(60, 64, 67, 0.3), 0px 1px 3px 1px rgba(60, 64, 67, 0.15);\n",
              "      fill: #174EA6;\n",
              "    }\n",
              "\n",
              "    [theme=dark] .colab-df-convert {\n",
              "      background-color: #3B4455;\n",
              "      fill: #D2E3FC;\n",
              "    }\n",
              "\n",
              "    [theme=dark] .colab-df-convert:hover {\n",
              "      background-color: #434B5C;\n",
              "      box-shadow: 0px 1px 3px 1px rgba(0, 0, 0, 0.15);\n",
              "      filter: drop-shadow(0px 1px 2px rgba(0, 0, 0, 0.3));\n",
              "      fill: #FFFFFF;\n",
              "    }\n",
              "  </style>\n",
              "\n",
              "      <script>\n",
              "        const buttonEl =\n",
              "          document.querySelector('#df-149a3494-8dbb-40d3-aa26-21888250b014 button.colab-df-convert');\n",
              "        buttonEl.style.display =\n",
              "          google.colab.kernel.accessAllowed ? 'block' : 'none';\n",
              "\n",
              "        async function convertToInteractive(key) {\n",
              "          const element = document.querySelector('#df-149a3494-8dbb-40d3-aa26-21888250b014');\n",
              "          const dataTable =\n",
              "            await google.colab.kernel.invokeFunction('convertToInteractive',\n",
              "                                                     [key], {});\n",
              "          if (!dataTable) return;\n",
              "\n",
              "          const docLinkHtml = 'Like what you see? Visit the ' +\n",
              "            '<a target=\"_blank\" href=https://colab.research.google.com/notebooks/data_table.ipynb>data table notebook</a>'\n",
              "            + ' to learn more about interactive tables.';\n",
              "          element.innerHTML = '';\n",
              "          dataTable['output_type'] = 'display_data';\n",
              "          await google.colab.output.renderOutput(dataTable, element);\n",
              "          const docLink = document.createElement('div');\n",
              "          docLink.innerHTML = docLinkHtml;\n",
              "          element.appendChild(docLink);\n",
              "        }\n",
              "      </script>\n",
              "    </div>\n",
              "  </div>\n",
              "  "
            ]
          },
          "metadata": {},
          "execution_count": 63
        }
      ]
    },
    {
      "cell_type": "code",
      "source": [
        "with pd.ExcelWriter('Tabela.xlsx',\n",
        "...                     mode='a') as writer:\n",
        "...     Tabela_Patogenicas.to_excel(writer, sheet_name='Classificação da predição de patogenicidade')"
      ],
      "metadata": {
        "colab": {
          "base_uri": "https://localhost:8080/"
        },
        "id": "759-QZfFqYuL",
        "outputId": "f3ddd3ae-b1a1-4dbd-cdfe-03837f0052e1"
      },
      "execution_count": 64,
      "outputs": [
        {
          "output_type": "stream",
          "name": "stderr",
          "text": [
            "/usr/local/lib/python3.7/dist-packages/openpyxl/workbook/child.py:99: UserWarning: Title is more than 31 characters. Some applications may not be able to read the file\n",
            "  warnings.warn(\"Title is more than 31 characters. Some applications may not be able to read the file\")\n"
          ]
        }
      ]
    },
    {
      "cell_type": "code",
      "source": [
        "df_patogenicas_autista = df_autista.query(\"MutationTaster_pred == 'A' or MutationTaster_pred == 'D'\")\n",
        "df_patogenicas_autista[\"MutationTaster_pred\"].value_counts()"
      ],
      "metadata": {
        "colab": {
          "base_uri": "https://localhost:8080/"
        },
        "id": "huR059ROxMqM",
        "outputId": "7fac41bd-f7c0-40d1-e61e-a97d06af6a9c"
      },
      "execution_count": 65,
      "outputs": [
        {
          "output_type": "execute_result",
          "data": {
            "text/plain": [
              "D    3542\n",
              "A     310\n",
              "Name: MutationTaster_pred, dtype: int64"
            ]
          },
          "metadata": {},
          "execution_count": 65
        }
      ]
    },
    {
      "cell_type": "code",
      "source": [
        "df_patogenicas_irmao_nao_autista = df_irmao_nao_autista.query(\"MutationTaster_pred == 'A' or MutationTaster_pred == 'D'\")\n",
        "df_patogenicas_irmao_nao_autista[\"MutationTaster_pred\"].value_counts()"
      ],
      "metadata": {
        "id": "krZBL75-jWFN",
        "colab": {
          "base_uri": "https://localhost:8080/"
        },
        "outputId": "ad8dfb2e-02d1-44bd-bb39-7b9363c0544d"
      },
      "execution_count": 66,
      "outputs": [
        {
          "output_type": "execute_result",
          "data": {
            "text/plain": [
              "D    1058\n",
              "A      55\n",
              "Name: MutationTaster_pred, dtype: int64"
            ]
          },
          "metadata": {},
          "execution_count": 66
        }
      ]
    },
    {
      "cell_type": "code",
      "source": [
        "df_patogenicas_autista['Child_ID'].value_counts()"
      ],
      "metadata": {
        "colab": {
          "base_uri": "https://localhost:8080/"
        },
        "id": "VdMyWGUhd33B",
        "outputId": "87632387-7b07-438b-a357-6afd5221de86"
      },
      "execution_count": 67,
      "outputs": [
        {
          "output_type": "execute_result",
          "data": {
            "text/plain": [
              "20-1301909-05           5\n",
              "5312                    5\n",
              "200675492@1082035067    5\n",
              "1360JS0006              5\n",
              "SSC02682                4\n",
              "                       ..\n",
              "ASC_CA_142_A            1\n",
              "SSC10056                1\n",
              "DEASD_0273_001          1\n",
              "09C79891                1\n",
              "13017.p1                1\n",
              "Name: Child_ID, Length: 2857, dtype: int64"
            ]
          },
          "metadata": {},
          "execution_count": 67
        }
      ]
    },
    {
      "cell_type": "code",
      "source": [
        "df_patogenicas_irmao_nao_autista['Child_ID'].value_counts()"
      ],
      "metadata": {
        "colab": {
          "base_uri": "https://localhost:8080/"
        },
        "id": "dJa78g6_gcYR",
        "outputId": "59337d57-d088-4a1e-ad62-e42946414cea"
      },
      "execution_count": 68,
      "outputs": [
        {
          "output_type": "execute_result",
          "data": {
            "text/plain": [
              "14637.s1    5\n",
              "68509       5\n",
              "35968       4\n",
              "13203.s1    4\n",
              "12673.s1    4\n",
              "           ..\n",
              "SSC00617    1\n",
              "SSC12006    1\n",
              "SSC02429    1\n",
              "SSC03087    1\n",
              "14440.s1    1\n",
              "Name: Child_ID, Length: 858, dtype: int64"
            ]
          },
          "metadata": {},
          "execution_count": 68
        }
      ]
    },
    {
      "cell_type": "markdown",
      "source": [
        "Diagrama de Venn → variantes conhecidas não sinônimas, de ganho ou perda de códon de iniciação ou parada em comum entre os autistas e os irmãos não autistas"
      ],
      "metadata": {
        "id": "W5PM1h_qj4vg"
      }
    },
    {
      "cell_type": "code",
      "source": [
        "from matplotlib_venn import venn2"
      ],
      "metadata": {
        "id": "BpqU6UlTlse2"
      },
      "execution_count": 69,
      "outputs": []
    },
    {
      "cell_type": "code",
      "source": [
        "plt.figure(figsize=(5,5))\n",
        "set1 = set(df_autista['Variant'])\n",
        "set2 = set(df_irmao_nao_autista['Variant'])\n",
        "\n",
        "venn2([set1, set2], ('Autistas', 'Não Autistas'))\n",
        "plt.show()"
      ],
      "metadata": {
        "colab": {
          "base_uri": "https://localhost:8080/",
          "height": 228
        },
        "id": "khW5H8_vj7OV",
        "outputId": "155693f9-1aa9-42eb-96ad-1d5080a0afcf"
      },
      "execution_count": 70,
      "outputs": [
        {
          "output_type": "display_data",
          "data": {
            "text/plain": [
              "<Figure size 360x360 with 1 Axes>"
            ],
            "image/png": "[encoded data removed]"
          },
          "metadata": {}
        }
      ]
    },
    {
      "cell_type": "markdown",
      "source": [
        "Diagrama de Venn → variantes totais em comum entre os autistas e os irmãos não autistas"
      ],
      "metadata": {
        "id": "pGmirSm8EX9S"
      }
    },
    {
      "cell_type": "code",
      "source": [
        "df_total_autistas = df3[df3[\"Affected_Status\"] == 2]\n",
        "df_total_irmao_nao_autista = df3[df3[\"Affected_Status\"] == 1]"
      ],
      "metadata": {
        "id": "1qbEbuhAD8Mt"
      },
      "execution_count": 71,
      "outputs": []
    },
    {
      "cell_type": "code",
      "source": [
        "plt.figure(figsize=(5,5))\n",
        "set3 = set(df_total_autistas['Variant'])\n",
        "set4 = set(df_total_irmao_nao_autista['Variant'])\n",
        "\n",
        "venn2([set3, set4], ('Autistas', 'Não Autistas'))\n",
        "plt.show()"
      ],
      "metadata": {
        "colab": {
          "base_uri": "https://localhost:8080/",
          "height": 229
        },
        "id": "cCvsWWnOEg1Y",
        "outputId": "2d1590fc-e4b6-4f58-edc0-9f63a3ad4d58"
      },
      "execution_count": 72,
      "outputs": [
        {
          "output_type": "display_data",
          "data": {
            "text/plain": [
              "<Figure size 360x360 with 1 Axes>"
            ],
            "image/png": "[encoded data removed]"
          },
          "metadata": {}
        }
      ]
    },
    {
      "cell_type": "markdown",
      "source": [
        "Diagrama de Venn → variantes patogênicas em comum entre os autistas e os irmãos não autistas"
      ],
      "metadata": {
        "id": "RUl8AQnkuIVb"
      }
    },
    {
      "cell_type": "code",
      "source": [
        "plt.figure(figsize=(5,5))\n",
        "set5 = set(df_patogenicas_autista['Variant'])\n",
        "set6 = set(df_patogenicas_irmao_nao_autista['Variant'])\n",
        "\n",
        "venn2([set5, set6], ('Autistas', 'Não Autistas'))\n",
        "plt.show()"
      ],
      "metadata": {
        "colab": {
          "base_uri": "https://localhost:8080/",
          "height": 230
        },
        "id": "fPNSGHLUuo0Q",
        "outputId": "efd0c9e6-df27-40e2-eda7-8fa66b8bef57"
      },
      "execution_count": 76,
      "outputs": [
        {
          "output_type": "display_data",
          "data": {
            "text/plain": [
              "<Figure size 360x360 with 1 Axes>"
            ],
            "image/png": "[encoded data removed]"
          },
          "metadata": {}
        }
      ]
    },
    {
      "cell_type": "markdown",
      "source": [
        "\n",
        "# Testes Estatísticos\n",
        "\n",
        "---\n",
        "\n",
        "\n",
        "\n",
        "Número de indivíduos autistas: 6.430 (dado de QI de 4821)\n",
        "\n",
        "Número de controles: 2.179\n",
        "\n",
        "Total: 8.609"
      ],
      "metadata": {
        "id": "cIUQQgxZp2Iq"
      }
    },
    {
      "cell_type": "markdown",
      "source": [
        "\n",
        "## *Proporção indivíduos autistas e irmãos não autistas com variantes de interesse clínico*\n",
        "\n",
        "---\n",
        "\n",
        "\n",
        "\n",
        "\n",
        "\n",
        "1.   Análise se a proporção de variantes de ponto exônicas de interesse clínico (não sinônimas, de ganho ou perda de de códon de início ou parada) é maior em indíviduos autistas do que em seus irmãos\n",
        "2.   Análise se a proporção de variantes pontuais de frameshift (ganho ou perda de códon de iniciação ou parada) é maior em indivíduos autistas do que em seus irmãos\n"
      ],
      "metadata": {
        "id": "mkV2Q0btq2Mw"
      }
    },
    {
      "cell_type": "code",
      "source": [
        "TOTAL_AUTISTAS = 6430\n",
        "TOTAL_NAO_AUTISTAS = 2179\n",
        "\n",
        "ind_autista = df_autista['Child_ID'].drop_duplicates().count()\n",
        "irmao_nao_autista = df_irmao_nao_autista['Child_ID'].drop_duplicates().count()\n",
        "\n",
        "prop_individuos_autistas = ind_autista/TOTAL_AUTISTAS\n",
        "prop_irmaos_nao_autistas = irmao_nao_autista/TOTAL_NAO_AUTISTAS\n",
        "print(f'Entre indivíduos com variantes de interesse clínico, a proporção de indivíduos autistas é {prop_individuos_autistas} e de irmãos não autistas é {prop_irmaos_nao_autistas}')"
      ],
      "metadata": {
        "id": "9-5VQHDPqVlg",
        "colab": {
          "base_uri": "https://localhost:8080/"
        },
        "outputId": "756d297c-ed28-41b4-c445-da2295701732"
      },
      "execution_count": 77,
      "outputs": [
        {
          "output_type": "stream",
          "name": "stdout",
          "text": [
            "Entre indivíduos com variantes de interesse clínico, a proporção de indivíduos autistas é 0.5639191290824261 e de irmãos não autistas é 0.5300596603946764\n"
          ]
        }
      ]
    },
    {
      "cell_type": "code",
      "source": [
        "#1. Tabela de Contingência com variantes de interesse clínico\n",
        "contingency_table = pd.DataFrame([{'variantes_não_sinônimas': 0, 'variantes_sinônimas_ou_desconhecidas': 0}], index =['autistas', 'nao_autistas'])\n",
        "contingency_table['variantes_não_sinônimas'].autistas = ind_autista\n",
        "contingency_table['variantes_sinônimas_ou_desconhecidas'].autistas = TOTAL_AUTISTAS - ind_autista\n",
        "contingency_table['variantes_não_sinônimas'].nao_autistas = irmao_nao_autista\n",
        "contingency_table['variantes_sinônimas_ou_desconhecidas'].nao_autistas =  TOTAL_NAO_AUTISTAS - irmao_nao_autista\n",
        "contingency_table"
      ],
      "metadata": {
        "colab": {
          "base_uri": "https://localhost:8080/",
          "height": 112
        },
        "id": "HR7-4Nfm0CWj",
        "outputId": "b27630d7-6467-4621-db2c-7571209bbb2c"
      },
      "execution_count": 78,
      "outputs": [
        {
          "output_type": "execute_result",
          "data": {
            "text/plain": [
              "              variantes_não_sinônimas  variantes_sinônimas_ou_desconhecidas\n",
              "autistas                         3626                                  2804\n",
              "nao_autistas                     1155                                  1024"
            ],
            "text/html": [
              "\n",
              "  <div id=\"df-0ecdae1f-3b8f-4844-9749-bd8073894abb\">\n",
              "    <div class=\"colab-df-container\">\n",
              "      <div>\n",
              "<style scoped>\n",
              "    .dataframe tbody tr th:only-of-type {\n",
              "        vertical-align: middle;\n",
              "    }\n",
              "\n",
              "    .dataframe tbody tr th {\n",
              "        vertical-align: top;\n",
              "    }\n",
              "\n",
              "    .dataframe thead th {\n",
              "        text-align: right;\n",
              "    }\n",
              "</style>\n",
              "<table border=\"1\" class=\"dataframe\">\n",
              "  <thead>\n",
              "    <tr style=\"text-align: right;\">\n",
              "      <th></th>\n",
              "      <th>variantes_não_sinônimas</th>\n",
              "      <th>variantes_sinônimas_ou_desconhecidas</th>\n",
              "    </tr>\n",
              "  </thead>\n",
              "  <tbody>\n",
              "    <tr>\n",
              "      <th>autistas</th>\n",
              "      <td>3626</td>\n",
              "      <td>2804</td>\n",
              "    </tr>\n",
              "    <tr>\n",
              "      <th>nao_autistas</th>\n",
              "      <td>1155</td>\n",
              "      <td>1024</td>\n",
              "    </tr>\n",
              "  </tbody>\n",
              "</table>\n",
              "</div>\n",
              "      <button class=\"colab-df-convert\" onclick=\"convertToInteractive('df-0ecdae1f-3b8f-4844-9749-bd8073894abb')\"\n",
              "              title=\"Convert this dataframe to an interactive table.\"\n",
              "              style=\"display:none;\">\n",
              "        \n",
              "  <svg xmlns=\"http://www.w3.org/2000/svg\" height=\"24px\"viewBox=\"0 0 24 24\"\n",
              "       width=\"24px\">\n",
              "    <path d=\"M0 0h24v24H0V0z\" fill=\"none\"/>\n",
              "    <path d=\"M18.56 5.44l.94 2.06.94-2.06 2.06-.94-2.06-.94-.94-2.06-.94 2.06-2.06.94zm-11 1L8.5 8.5l.94-2.06 2.06-.94-2.06-.94L8.5 2.5l-.94 2.06-2.06.94zm10 10l.94 2.06.94-2.06 2.06-.94-2.06-.94-.94-2.06-.94 2.06-2.06.94z\"/><path d=\"M17.41 7.96l-1.37-1.37c-.4-.4-.92-.59-1.43-.59-.52 0-1.04.2-1.43.59L10.3 9.45l-7.72 7.72c-.78.78-.78 2.05 0 2.83L4 21.41c.39.39.9.59 1.41.59.51 0 1.02-.2 1.41-.59l7.78-7.78 2.81-2.81c.8-.78.8-2.07 0-2.86zM5.41 20L4 18.59l7.72-7.72 1.47 1.35L5.41 20z\"/>\n",
              "  </svg>\n",
              "      </button>\n",
              "      \n",
              "  <style>\n",
              "    .colab-df-container {\n",
              "      display:flex;\n",
              "      flex-wrap:wrap;\n",
              "      gap: 12px;\n",
              "    }\n",
              "\n",
              "    .colab-df-convert {\n",
              "      background-color: #E8F0FE;\n",
              "      border: none;\n",
              "      border-radius: 50%;\n",
              "      cursor: pointer;\n",
              "      display: none;\n",
              "      fill: #1967D2;\n",
              "      height: 32px;\n",
              "      padding: 0 0 0 0;\n",
              "      width: 32px;\n",
              "    }\n",
              "\n",
              "    .colab-df-convert:hover {\n",
              "      background-color: #E2EBFA;\n",
              "      box-shadow: 0px 1px 2px rgba(60, 64, 67, 0.3), 0px 1px 3px 1px rgba(60, 64, 67, 0.15);\n",
              "      fill: #174EA6;\n",
              "    }\n",
              "\n",
              "    [theme=dark] .colab-df-convert {\n",
              "      background-color: #3B4455;\n",
              "      fill: #D2E3FC;\n",
              "    }\n",
              "\n",
              "    [theme=dark] .colab-df-convert:hover {\n",
              "      background-color: #434B5C;\n",
              "      box-shadow: 0px 1px 3px 1px rgba(0, 0, 0, 0.15);\n",
              "      filter: drop-shadow(0px 1px 2px rgba(0, 0, 0, 0.3));\n",
              "      fill: #FFFFFF;\n",
              "    }\n",
              "  </style>\n",
              "\n",
              "      <script>\n",
              "        const buttonEl =\n",
              "          document.querySelector('#df-0ecdae1f-3b8f-4844-9749-bd8073894abb button.colab-df-convert');\n",
              "        buttonEl.style.display =\n",
              "          google.colab.kernel.accessAllowed ? 'block' : 'none';\n",
              "\n",
              "        async function convertToInteractive(key) {\n",
              "          const element = document.querySelector('#df-0ecdae1f-3b8f-4844-9749-bd8073894abb');\n",
              "          const dataTable =\n",
              "            await google.colab.kernel.invokeFunction('convertToInteractive',\n",
              "                                                     [key], {});\n",
              "          if (!dataTable) return;\n",
              "\n",
              "          const docLinkHtml = 'Like what you see? Visit the ' +\n",
              "            '<a target=\"_blank\" href=https://colab.research.google.com/notebooks/data_table.ipynb>data table notebook</a>'\n",
              "            + ' to learn more about interactive tables.';\n",
              "          element.innerHTML = '';\n",
              "          dataTable['output_type'] = 'display_data';\n",
              "          await google.colab.output.renderOutput(dataTable, element);\n",
              "          const docLink = document.createElement('div');\n",
              "          docLink.innerHTML = docLinkHtml;\n",
              "          element.appendChild(docLink);\n",
              "        }\n",
              "      </script>\n",
              "    </div>\n",
              "  </div>\n",
              "  "
            ]
          },
          "metadata": {},
          "execution_count": 78
        }
      ]
    },
    {
      "cell_type": "code",
      "source": [
        "!pip install fisher\n"
      ],
      "metadata": {
        "colab": {
          "base_uri": "https://localhost:8080/"
        },
        "id": "cAbhGBKg-s6-",
        "outputId": "dc32c4db-ff5c-4323-f855-52e88ad764df"
      },
      "execution_count": 79,
      "outputs": [
        {
          "output_type": "stream",
          "name": "stdout",
          "text": [
            "Requirement already satisfied: fisher in /usr/local/lib/python3.7/dist-packages (0.1.10)\n"
          ]
        }
      ]
    },
    {
      "cell_type": "code",
      "source": [
        "from fisher import pvalue\n",
        "mat_1 = [[3626, 2804], [1155, 1024]]\n",
        "p_1 = pvalue(3626, 2804, 1155, 1024)\n",
        "p_1.left_tail, p_1.right_tail, p_1.two_tail\n",
        "if p_1.right_tail < 0.05:\n",
        "  print(f'A proporção de variantes exônicas de interesse clínico (conhecidas não sinônimas ou de ganho ou perda de códon de iniciação ou parada) é maior em indivíduos autistas pois p-value igual a {p_1.right_tail}')\n",
        "else:\n",
        "  print(f'A proporção de variantes exônicas de interesse clínico (conhecidas não sinônimas ou de ganho ou perda de códon de iniciação ou parada) NÃO é maior em indivíduos autistas pois p-value igual a {p_1.right_tail}')\n"
      ],
      "metadata": {
        "colab": {
          "base_uri": "https://localhost:8080/"
        },
        "id": "yXE3OJLH7LnM",
        "outputId": "e811d8a4-84be-4e51-8207-3f1fe2b6948a"
      },
      "execution_count": 80,
      "outputs": [
        {
          "output_type": "stream",
          "name": "stdout",
          "text": [
            "A proporção de variantes exônicas de interesse clínico (conhecidas não sinônimas ou de ganho ou perda de códon de iniciação ou parada) é maior em indivíduos autistas pois p-value igual a 0.0032507324822265106\n"
          ]
        }
      ]
    },
    {
      "cell_type": "code",
      "source": [
        "df_aut_nonsynonymous = df_autista[df_autista[\"ExonicFunc_refGene\"] == 'nonsynonymous SNV']\n",
        "df_aut_frameshift = df_autista.query(\"ExonicFunc_refGene == 'stopgain' or ExonicFunc_refGene == 'stoploss' or ExonicFunc_refGene == 'starloss'\")\n",
        "df_nao_aut_nonsynonymous = df_irmao_nao_autista.query(\"ExonicFunc_refGene == 'nonsynonymous SNV'\")\n",
        "df_nao_aut_frameshift =  df_irmao_nao_autista.query(\"ExonicFunc_refGene == 'stopgain' or ExonicFunc_refGene == 'stoploss' or ExonicFunc_refGene == 'starloss'\")"
      ],
      "metadata": {
        "id": "mOPNTIbxKJNs"
      },
      "execution_count": 81,
      "outputs": []
    },
    {
      "cell_type": "code",
      "source": [
        "ind_aut_nonsynonymous = df_aut_nonsynonymous['Child_ID'].drop_duplicates().count()\n",
        "ind_aut_frameshift = df_aut_frameshift['Child_ID'].drop_duplicates().count()\n",
        "ind_nao_aut_nonsynonymous = df_nao_aut_nonsynonymous['Child_ID'].drop_duplicates().count()\n",
        "ind_nao_aut_frameshift = df_nao_aut_frameshift['Child_ID'].drop_duplicates().count()"
      ],
      "metadata": {
        "id": "TGjHBx1zMlY8"
      },
      "execution_count": 82,
      "outputs": []
    },
    {
      "cell_type": "code",
      "source": [
        "#2. Tabela de Contingência com variantes de não sinônimas e variantes de frameshift (ganho ou perda de códon de iniciação ou parada)\n",
        "contingency_table_frameshift = pd.DataFrame([{'variantes_frameshift': 0, 'variantes_não_sinônimas': 0}], index =['autistas', 'nao_autistas'])\n",
        "contingency_table_frameshift['variantes_não_sinônimas'].autistas = ind_aut_nonsynonymous\n",
        "contingency_table_frameshift['variantes_frameshift'].autistas = ind_aut_frameshift\n",
        "contingency_table_frameshift['variantes_não_sinônimas'].nao_autistas = ind_nao_aut_nonsynonymous\n",
        "contingency_table_frameshift['variantes_frameshift'].nao_autistas =  ind_nao_aut_frameshift\n",
        "contingency_table_frameshift"
      ],
      "metadata": {
        "colab": {
          "base_uri": "https://localhost:8080/",
          "height": 112
        },
        "id": "u50xqxcSG9rf",
        "outputId": "08cfec73-032f-49c3-845c-68547bf5cf42"
      },
      "execution_count": 83,
      "outputs": [
        {
          "output_type": "execute_result",
          "data": {
            "text/plain": [
              "              variantes_frameshift  variantes_não_sinônimas\n",
              "autistas                       376                     3329\n",
              "nao_autistas                    73                     1089"
            ],
            "text/html": [
              "\n",
              "  <div id=\"df-4395a966-af3f-48c5-9374-c38a071f19c3\">\n",
              "    <div class=\"colab-df-container\">\n",
              "      <div>\n",
              "<style scoped>\n",
              "    .dataframe tbody tr th:only-of-type {\n",
              "        vertical-align: middle;\n",
              "    }\n",
              "\n",
              "    .dataframe tbody tr th {\n",
              "        vertical-align: top;\n",
              "    }\n",
              "\n",
              "    .dataframe thead th {\n",
              "        text-align: right;\n",
              "    }\n",
              "</style>\n",
              "<table border=\"1\" class=\"dataframe\">\n",
              "  <thead>\n",
              "    <tr style=\"text-align: right;\">\n",
              "      <th></th>\n",
              "      <th>variantes_frameshift</th>\n",
              "      <th>variantes_não_sinônimas</th>\n",
              "    </tr>\n",
              "  </thead>\n",
              "  <tbody>\n",
              "    <tr>\n",
              "      <th>autistas</th>\n",
              "      <td>376</td>\n",
              "      <td>3329</td>\n",
              "    </tr>\n",
              "    <tr>\n",
              "      <th>nao_autistas</th>\n",
              "      <td>73</td>\n",
              "      <td>1089</td>\n",
              "    </tr>\n",
              "  </tbody>\n",
              "</table>\n",
              "</div>\n",
              "      <button class=\"colab-df-convert\" onclick=\"convertToInteractive('df-4395a966-af3f-48c5-9374-c38a071f19c3')\"\n",
              "              title=\"Convert this dataframe to an interactive table.\"\n",
              "              style=\"display:none;\">\n",
              "        \n",
              "  <svg xmlns=\"http://www.w3.org/2000/svg\" height=\"24px\"viewBox=\"0 0 24 24\"\n",
              "       width=\"24px\">\n",
              "    <path d=\"M0 0h24v24H0V0z\" fill=\"none\"/>\n",
              "    <path d=\"M18.56 5.44l.94 2.06.94-2.06 2.06-.94-2.06-.94-.94-2.06-.94 2.06-2.06.94zm-11 1L8.5 8.5l.94-2.06 2.06-.94-2.06-.94L8.5 2.5l-.94 2.06-2.06.94zm10 10l.94 2.06.94-2.06 2.06-.94-2.06-.94-.94-2.06-.94 2.06-2.06.94z\"/><path d=\"M17.41 7.96l-1.37-1.37c-.4-.4-.92-.59-1.43-.59-.52 0-1.04.2-1.43.59L10.3 9.45l-7.72 7.72c-.78.78-.78 2.05 0 2.83L4 21.41c.39.39.9.59 1.41.59.51 0 1.02-.2 1.41-.59l7.78-7.78 2.81-2.81c.8-.78.8-2.07 0-2.86zM5.41 20L4 18.59l7.72-7.72 1.47 1.35L5.41 20z\"/>\n",
              "  </svg>\n",
              "      </button>\n",
              "      \n",
              "  <style>\n",
              "    .colab-df-container {\n",
              "      display:flex;\n",
              "      flex-wrap:wrap;\n",
              "      gap: 12px;\n",
              "    }\n",
              "\n",
              "    .colab-df-convert {\n",
              "      background-color: #E8F0FE;\n",
              "      border: none;\n",
              "      border-radius: 50%;\n",
              "      cursor: pointer;\n",
              "      display: none;\n",
              "      fill: #1967D2;\n",
              "      height: 32px;\n",
              "      padding: 0 0 0 0;\n",
              "      width: 32px;\n",
              "    }\n",
              "\n",
              "    .colab-df-convert:hover {\n",
              "      background-color: #E2EBFA;\n",
              "      box-shadow: 0px 1px 2px rgba(60, 64, 67, 0.3), 0px 1px 3px 1px rgba(60, 64, 67, 0.15);\n",
              "      fill: #174EA6;\n",
              "    }\n",
              "\n",
              "    [theme=dark] .colab-df-convert {\n",
              "      background-color: #3B4455;\n",
              "      fill: #D2E3FC;\n",
              "    }\n",
              "\n",
              "    [theme=dark] .colab-df-convert:hover {\n",
              "      background-color: #434B5C;\n",
              "      box-shadow: 0px 1px 3px 1px rgba(0, 0, 0, 0.15);\n",
              "      filter: drop-shadow(0px 1px 2px rgba(0, 0, 0, 0.3));\n",
              "      fill: #FFFFFF;\n",
              "    }\n",
              "  </style>\n",
              "\n",
              "      <script>\n",
              "        const buttonEl =\n",
              "          document.querySelector('#df-4395a966-af3f-48c5-9374-c38a071f19c3 button.colab-df-convert');\n",
              "        buttonEl.style.display =\n",
              "          google.colab.kernel.accessAllowed ? 'block' : 'none';\n",
              "\n",
              "        async function convertToInteractive(key) {\n",
              "          const element = document.querySelector('#df-4395a966-af3f-48c5-9374-c38a071f19c3');\n",
              "          const dataTable =\n",
              "            await google.colab.kernel.invokeFunction('convertToInteractive',\n",
              "                                                     [key], {});\n",
              "          if (!dataTable) return;\n",
              "\n",
              "          const docLinkHtml = 'Like what you see? Visit the ' +\n",
              "            '<a target=\"_blank\" href=https://colab.research.google.com/notebooks/data_table.ipynb>data table notebook</a>'\n",
              "            + ' to learn more about interactive tables.';\n",
              "          element.innerHTML = '';\n",
              "          dataTable['output_type'] = 'display_data';\n",
              "          await google.colab.output.renderOutput(dataTable, element);\n",
              "          const docLink = document.createElement('div');\n",
              "          docLink.innerHTML = docLinkHtml;\n",
              "          element.appendChild(docLink);\n",
              "        }\n",
              "      </script>\n",
              "    </div>\n",
              "  </div>\n",
              "  "
            ]
          },
          "metadata": {},
          "execution_count": 83
        }
      ]
    },
    {
      "cell_type": "code",
      "source": [
        "mat_2 = [[376, 3329], [73, 1089]]\n",
        "p_2 = pvalue(376, 3329, 73, 1089)\n",
        "p_2.left_tail, p_2.right_tail, p_2.two_tail\n",
        "if p_2.right_tail < 0.05:\n",
        "  print(f'A proporção de variantes exônicas de frameshift é maior em indivíduos autistas pois p-value igual a {p_2.right_tail}')\n",
        "else:\n",
        "  print(f'A proporção de variantes exônicas de frameshift NÃO é maior em indivíduos autistas pois p-value igual a {p_2.right_tail}')"
      ],
      "metadata": {
        "colab": {
          "base_uri": "https://localhost:8080/"
        },
        "id": "OCtklRyCPZH3",
        "outputId": "2936aa43-18a2-4cbe-fa11-d1decbdfcd5e"
      },
      "execution_count": 84,
      "outputs": [
        {
          "output_type": "stream",
          "name": "stdout",
          "text": [
            "A proporção de variantes exônicas de frameshift é maior em indivíduos autistas pois p-value igual a 2.4760400462910347e-05\n"
          ]
        }
      ]
    },
    {
      "cell_type": "markdown",
      "source": [
        "## *Proporção indivíduos autistas e irmãos não autistas com variantes patogênicas*\n",
        "\n",
        "---\n",
        "\n",
        "\n",
        "\n",
        "\n",
        "\n",
        "1.   Análise se a proporção de variantes patogênicas é maior em indíviduos autistas do que em seus irmãos"
      ],
      "metadata": {
        "id": "6XrAuAgSX4cN"
      }
    },
    {
      "cell_type": "code",
      "source": [
        "ind_autista_patog = df_patogenicas_autista['Child_ID'].drop_duplicates().count()\n",
        "irmao_nao_autista_patog = df_patogenicas_irmao_nao_autista['Child_ID'].drop_duplicates().count()\n",
        "print(ind_autista_patog, irmao_nao_autista_patog)"
      ],
      "metadata": {
        "colab": {
          "base_uri": "https://localhost:8080/"
        },
        "id": "SQAIfp0IX_6a",
        "outputId": "ee02b756-95aa-4d54-e83b-ad313dc0946c"
      },
      "execution_count": 85,
      "outputs": [
        {
          "output_type": "stream",
          "name": "stdout",
          "text": [
            "2857 858\n"
          ]
        }
      ]
    },
    {
      "cell_type": "code",
      "source": [
        "#Tabela de Contingência com variantes patogênicas\n",
        "contingency_table_pathogenic = pd.DataFrame([{'variantes_patogênicas': 0, 'variantes_não_patogênicas': 0}], index =['autistas', 'nao_autistas'])\n",
        "contingency_table_pathogenic['variantes_patogênicas'].autistas = ind_autista_patog\n",
        "contingency_table_pathogenic['variantes_não_patogênicas'].autistas = TOTAL_AUTISTAS - ind_autista_patog\n",
        "contingency_table_pathogenic['variantes_patogênicas'].nao_autistas = irmao_nao_autista_patog\n",
        "contingency_table_pathogenic['variantes_não_patogênicas'].nao_autistas =  TOTAL_NAO_AUTISTAS - irmao_nao_autista_patog\n",
        "contingency_table_pathogenic"
      ],
      "metadata": {
        "colab": {
          "base_uri": "https://localhost:8080/",
          "height": 112
        },
        "id": "ixzmK7ZXYRGr",
        "outputId": "ac3923aa-d28f-4adc-81cf-21ebf22bc5ec"
      },
      "execution_count": 86,
      "outputs": [
        {
          "output_type": "execute_result",
          "data": {
            "text/plain": [
              "              variantes_patogênicas  variantes_não_patogênicas\n",
              "autistas                       2857                       3573\n",
              "nao_autistas                    858                       1321"
            ],
            "text/html": [
              "\n",
              "  <div id=\"df-2cc4801f-3a7d-4bd2-887e-d4b80fa50ecc\">\n",
              "    <div class=\"colab-df-container\">\n",
              "      <div>\n",
              "<style scoped>\n",
              "    .dataframe tbody tr th:only-of-type {\n",
              "        vertical-align: middle;\n",
              "    }\n",
              "\n",
              "    .dataframe tbody tr th {\n",
              "        vertical-align: top;\n",
              "    }\n",
              "\n",
              "    .dataframe thead th {\n",
              "        text-align: right;\n",
              "    }\n",
              "</style>\n",
              "<table border=\"1\" class=\"dataframe\">\n",
              "  <thead>\n",
              "    <tr style=\"text-align: right;\">\n",
              "      <th></th>\n",
              "      <th>variantes_patogênicas</th>\n",
              "      <th>variantes_não_patogênicas</th>\n",
              "    </tr>\n",
              "  </thead>\n",
              "  <tbody>\n",
              "    <tr>\n",
              "      <th>autistas</th>\n",
              "      <td>2857</td>\n",
              "      <td>3573</td>\n",
              "    </tr>\n",
              "    <tr>\n",
              "      <th>nao_autistas</th>\n",
              "      <td>858</td>\n",
              "      <td>1321</td>\n",
              "    </tr>\n",
              "  </tbody>\n",
              "</table>\n",
              "</div>\n",
              "      <button class=\"colab-df-convert\" onclick=\"convertToInteractive('df-2cc4801f-3a7d-4bd2-887e-d4b80fa50ecc')\"\n",
              "              title=\"Convert this dataframe to an interactive table.\"\n",
              "              style=\"display:none;\">\n",
              "        \n",
              "  <svg xmlns=\"http://www.w3.org/2000/svg\" height=\"24px\"viewBox=\"0 0 24 24\"\n",
              "       width=\"24px\">\n",
              "    <path d=\"M0 0h24v24H0V0z\" fill=\"none\"/>\n",
              "    <path d=\"M18.56 5.44l.94 2.06.94-2.06 2.06-.94-2.06-.94-.94-2.06-.94 2.06-2.06.94zm-11 1L8.5 8.5l.94-2.06 2.06-.94-2.06-.94L8.5 2.5l-.94 2.06-2.06.94zm10 10l.94 2.06.94-2.06 2.06-.94-2.06-.94-.94-2.06-.94 2.06-2.06.94z\"/><path d=\"M17.41 7.96l-1.37-1.37c-.4-.4-.92-.59-1.43-.59-.52 0-1.04.2-1.43.59L10.3 9.45l-7.72 7.72c-.78.78-.78 2.05 0 2.83L4 21.41c.39.39.9.59 1.41.59.51 0 1.02-.2 1.41-.59l7.78-7.78 2.81-2.81c.8-.78.8-2.07 0-2.86zM5.41 20L4 18.59l7.72-7.72 1.47 1.35L5.41 20z\"/>\n",
              "  </svg>\n",
              "      </button>\n",
              "      \n",
              "  <style>\n",
              "    .colab-df-container {\n",
              "      display:flex;\n",
              "      flex-wrap:wrap;\n",
              "      gap: 12px;\n",
              "    }\n",
              "\n",
              "    .colab-df-convert {\n",
              "      background-color: #E8F0FE;\n",
              "      border: none;\n",
              "      border-radius: 50%;\n",
              "      cursor: pointer;\n",
              "      display: none;\n",
              "      fill: #1967D2;\n",
              "      height: 32px;\n",
              "      padding: 0 0 0 0;\n",
              "      width: 32px;\n",
              "    }\n",
              "\n",
              "    .colab-df-convert:hover {\n",
              "      background-color: #E2EBFA;\n",
              "      box-shadow: 0px 1px 2px rgba(60, 64, 67, 0.3), 0px 1px 3px 1px rgba(60, 64, 67, 0.15);\n",
              "      fill: #174EA6;\n",
              "    }\n",
              "\n",
              "    [theme=dark] .colab-df-convert {\n",
              "      background-color: #3B4455;\n",
              "      fill: #D2E3FC;\n",
              "    }\n",
              "\n",
              "    [theme=dark] .colab-df-convert:hover {\n",
              "      background-color: #434B5C;\n",
              "      box-shadow: 0px 1px 3px 1px rgba(0, 0, 0, 0.15);\n",
              "      filter: drop-shadow(0px 1px 2px rgba(0, 0, 0, 0.3));\n",
              "      fill: #FFFFFF;\n",
              "    }\n",
              "  </style>\n",
              "\n",
              "      <script>\n",
              "        const buttonEl =\n",
              "          document.querySelector('#df-2cc4801f-3a7d-4bd2-887e-d4b80fa50ecc button.colab-df-convert');\n",
              "        buttonEl.style.display =\n",
              "          google.colab.kernel.accessAllowed ? 'block' : 'none';\n",
              "\n",
              "        async function convertToInteractive(key) {\n",
              "          const element = document.querySelector('#df-2cc4801f-3a7d-4bd2-887e-d4b80fa50ecc');\n",
              "          const dataTable =\n",
              "            await google.colab.kernel.invokeFunction('convertToInteractive',\n",
              "                                                     [key], {});\n",
              "          if (!dataTable) return;\n",
              "\n",
              "          const docLinkHtml = 'Like what you see? Visit the ' +\n",
              "            '<a target=\"_blank\" href=https://colab.research.google.com/notebooks/data_table.ipynb>data table notebook</a>'\n",
              "            + ' to learn more about interactive tables.';\n",
              "          element.innerHTML = '';\n",
              "          dataTable['output_type'] = 'display_data';\n",
              "          await google.colab.output.renderOutput(dataTable, element);\n",
              "          const docLink = document.createElement('div');\n",
              "          docLink.innerHTML = docLinkHtml;\n",
              "          element.appendChild(docLink);\n",
              "        }\n",
              "      </script>\n",
              "    </div>\n",
              "  </div>\n",
              "  "
            ]
          },
          "metadata": {},
          "execution_count": 86
        }
      ]
    },
    {
      "cell_type": "code",
      "source": [
        "mat_3 = [[2857, 3573], [858, 1321]]\n",
        "p_3 = pvalue(2857, 3573, 858, 1321)\n",
        "p_3.left_tail, p_3.right_tail, p_3.two_tail\n",
        "if p_3.right_tail < 0.05:\n",
        "  print(f'A proporção de variantes patogênicas é maior em indivíduos autistas pois p-value igual a {p_3.right_tail}')\n",
        "else:\n",
        "  print(f'A proporção de variantes patogênicas NÃO é maior em indivíduos autistas pois p-value igual a {p_3.right_tail}')"
      ],
      "metadata": {
        "colab": {
          "base_uri": "https://localhost:8080/"
        },
        "id": "ealGssOLZH7X",
        "outputId": "c18e5074-c7fe-403a-8285-73c88a130177"
      },
      "execution_count": 87,
      "outputs": [
        {
          "output_type": "stream",
          "name": "stdout",
          "text": [
            "A proporção de variantes patogênicas é maior em indivíduos autistas pois p-value igual a 2.0301955229782637e-05\n"
          ]
        }
      ]
    },
    {
      "cell_type": "code",
      "source": [
        "#Proporção de indivíduos autistas (prop) e seus irmãos (prop_1) com variantes patogênicas\n",
        "prop = ind_autista_patog/TOTAL_AUTISTAS\n",
        "prop_1 = irmao_nao_autista_patog/TOTAL_NAO_AUTISTAS\n",
        "print(prop,prop_1)"
      ],
      "metadata": {
        "colab": {
          "base_uri": "https://localhost:8080/"
        },
        "id": "oRDiIsRjaLQD",
        "outputId": "24a6e28b-976c-4cd0-e20d-2457fb0397f7"
      },
      "execution_count": 88,
      "outputs": [
        {
          "output_type": "stream",
          "name": "stdout",
          "text": [
            "0.4443234836702955 0.3937586048646168\n"
          ]
        }
      ]
    },
    {
      "cell_type": "code",
      "source": [
        "# Só executar no final do pipeline para copiar todos os dados para o drive\n",
        "!cp -r /content/germinativas \\\n",
        "/content/drive/Shareddrives/T3-2021/Thais_Alves/Trabalho_Germinativas/"
      ],
      "metadata": {
        "id": "91s5wjUJgIzg"
      },
      "execution_count": 90,
      "outputs": []
    }
  ]
}